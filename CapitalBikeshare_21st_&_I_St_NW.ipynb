{
  "cells": [
    {
      "cell_type": "markdown",
      "metadata": {
        "id": "view-in-github",
        "colab_type": "text"
      },
      "source": [
        "<a href=\"https://colab.research.google.com/github/Nguenda/DataDecider/blob/main/CapitalBikeshare_21st_%26_I_St_NW.ipynb\" target=\"_parent\"><img src=\"https://colab.research.google.com/assets/colab-badge.svg\" alt=\"Open In Colab\"/></a>"
      ]
    },
    {
      "cell_type": "markdown",
      "id": "2R4OmIJRW0w3",
      "metadata": {
        "id": "2R4OmIJRW0w3"
      },
      "source": [
        "                                 Apache License\n",
        "                           Version 2.0, January 2004\n",
        "                        http://www.apache.org/licenses/\n",
        "\n",
        "   TERMS AND CONDITIONS FOR USE, REPRODUCTION, AND DISTRIBUTION\n",
        "\n",
        "   1. Definitions.\n",
        "\n",
        "      \"License\" shall mean the terms and conditions for use, reproduction,\n",
        "      and distribution as defined by Sections 1 through 9 of this document.\n",
        "\n",
        "      \"Licensor\" shall mean the copyright owner or entity authorized by\n",
        "      the copyright owner that is granting the License.\n",
        "\n",
        "      \"Legal Entity\" shall mean the union of the acting entity and all\n",
        "      other entities that control, are controlled by, or are under common\n",
        "      control with that entity. For the purposes of this definition,\n",
        "      \"control\" means (i) the power, direct or indirect, to cause the\n",
        "      direction or management of such entity, whether by contract or\n",
        "      otherwise, or (ii) ownership of fifty percent (50%) or more of the\n",
        "      outstanding shares, or (iii) beneficial ownership of such entity.\n",
        "\n",
        "      \"You\" (or \"Your\") shall mean an individual or Legal Entity\n",
        "      exercising permissions granted by this License.\n",
        "\n",
        "      \"Source\" form shall mean the preferred form for making modifications,\n",
        "      including but not limited to software source code, documentation\n",
        "      source, and configuration files.\n",
        "\n",
        "      \"Object\" form shall mean any form resulting from mechanical\n",
        "      transformation or translation of a Source form, including but\n",
        "      not limited to compiled object code, generated documentation,\n",
        "      and conversions to other media types.\n",
        "\n",
        "      \"Work\" shall mean the work of authorship, whether in Source or\n",
        "      Object form, made available under the License, as indicated by a\n",
        "      copyright notice that is included in or attached to the work\n",
        "      (an example is provided in the Appendix below).\n",
        "\n",
        "      \"Derivative Works\" shall mean any work, whether in Source or Object\n",
        "      form, that is based on (or derived from) the Work and for which the\n",
        "      editorial revisions, annotations, elaborations, or other modifications\n",
        "      represent, as a whole, an original work of authorship. For the purposes\n",
        "      of this License, Derivative Works shall not include works that remain\n",
        "      separable from, or merely link (or bind by name) to the interfaces of,\n",
        "      the Work and Derivative Works thereof.\n",
        "\n",
        "      \"Contribution\" shall mean any work of authorship, including\n",
        "      the original version of the Work and any modifications or additions\n",
        "      to that Work or Derivative Works thereof, that is intentionally\n",
        "      submitted to Licensor for inclusion in the Work by the copyright owner\n",
        "      or by an individual or Legal Entity authorized to submit on behalf of\n",
        "      the copyright owner. For the purposes of this definition, \"submitted\"\n",
        "      means any form of electronic, verbal, or written communication sent\n",
        "      to the Licensor or its representatives, including but not limited to\n",
        "      communication on electronic mailing lists, source code control systems,\n",
        "      and issue tracking systems that are managed by, or on behalf of, the\n",
        "      Licensor for the purpose of discussing and improving the Work, but\n",
        "      excluding communication that is conspicuously marked or otherwise\n",
        "      designated in writing by the copyright owner as \"Not a Contribution.\"\n",
        "\n",
        "      \"Contributor\" shall mean Licensor and any individual or Legal Entity\n",
        "      on behalf of whom a Contribution has been received by Licensor and\n",
        "      subsequently incorporated within the Work.\n",
        "\n",
        "   2. Grant of Copyright License. Subject to the terms and conditions of\n",
        "      this License, each Contributor hereby grants to You a perpetual,\n",
        "      worldwide, non-exclusive, no-charge, royalty-free, irrevocable\n",
        "      copyright license to reproduce, prepare Derivative Works of,\n",
        "      publicly display, publicly perform, sublicense, and distribute the\n",
        "      Work and such Derivative Works in Source or Object form.\n",
        "\n",
        "   3. Grant of Patent License. Subject to the terms and conditions of\n",
        "      this License, each Contributor hereby grants to You a perpetual,\n",
        "      worldwide, non-exclusive, no-charge, royalty-free, irrevocable\n",
        "      (except as stated in this section) patent license to make, have made,\n",
        "      use, offer to sell, sell, import, and otherwise transfer the Work,\n",
        "      where such license applies only to those patent claims licensable\n",
        "      by such Contributor that are necessarily infringed by their\n",
        "      Contribution(s) alone or by combination of their Contribution(s)\n",
        "      with the Work to which such Contribution(s) was submitted. If You\n",
        "      institute patent litigation against any entity (including a\n",
        "      cross-claim or counterclaim in a lawsuit) alleging that the Work\n",
        "      or a Contribution incorporated within the Work constitutes direct\n",
        "      or contributory patent infringement, then any patent licenses\n",
        "      granted to You under this License for that Work shall terminate\n",
        "      as of the date such litigation is filed.\n",
        "\n",
        "   4. Redistribution. You may reproduce and distribute copies of the\n",
        "      Work or Derivative Works thereof in any medium, with or without\n",
        "      modifications, and in Source or Object form, provided that You\n",
        "      meet the following conditions:\n",
        "\n",
        "      (a) You must give any other recipients of the Work or\n",
        "          Derivative Works a copy of this License; and\n",
        "\n",
        "      (b) You must cause any modified files to carry prominent notices\n",
        "          stating that You changed the files; and\n",
        "\n",
        "      (c) You must retain, in the Source form of any Derivative Works\n",
        "          that You distribute, all copyright, patent, trademark, and\n",
        "          attribution notices from the Source form of the Work,\n",
        "          excluding those notices that do not pertain to any part of\n",
        "          the Derivative Works; and\n",
        "\n",
        "      (d) If the Work includes a \"NOTICE\" text file as part of its\n",
        "          distribution, then any Derivative Works that You distribute must\n",
        "          include a readable copy of the attribution notices contained\n",
        "          within such NOTICE file, excluding those notices that do not\n",
        "          pertain to any part of the Derivative Works, in at least one\n",
        "          of the following places: within a NOTICE text file distributed\n",
        "          as part of the Derivative Works; within the Source form or\n",
        "          documentation, if provided along with the Derivative Works; or,\n",
        "          within a display generated by the Derivative Works, if and\n",
        "          wherever such third-party notices normally appear. The contents\n",
        "          of the NOTICE file are for informational purposes only and\n",
        "          do not modify the License. You may add Your own attribution\n",
        "          notices within Derivative Works that You distribute, alongside\n",
        "          or as an addendum to the NOTICE text from the Work, provided\n",
        "          that such additional attribution notices cannot be construed\n",
        "          as modifying the License.\n",
        "\n",
        "      You may add Your own copyright statement to Your modifications and\n",
        "      may provide additional or different license terms and conditions\n",
        "      for use, reproduction, or distribution of Your modifications, or\n",
        "      for any such Derivative Works as a whole, provided Your use,\n",
        "      reproduction, and distribution of the Work otherwise complies with\n",
        "      the conditions stated in this License.\n",
        "\n",
        "   5. Submission of Contributions. Unless You explicitly state otherwise,\n",
        "      any Contribution intentionally submitted for inclusion in the Work\n",
        "      by You to the Licensor shall be under the terms and conditions of\n",
        "      this License, without any additional terms or conditions.\n",
        "      Notwithstanding the above, nothing herein shall supersede or modify\n",
        "      the terms of any separate license agreement you may have executed\n",
        "      with Licensor regarding such Contributions.\n",
        "\n",
        "   6. Trademarks. This License does not grant permission to use the trade\n",
        "      names, trademarks, service marks, or product names of the Licensor,\n",
        "      except as required for reasonable and customary use in describing the\n",
        "      origin of the Work and reproducing the content of the NOTICE file.\n",
        "\n",
        "   7. Disclaimer of Warranty. Unless required by applicable law or\n",
        "      agreed to in writing, Licensor provides the Work (and each\n",
        "      Contributor provides its Contributions) on an \"AS IS\" BASIS,\n",
        "      WITHOUT WARRANTIES OR CONDITIONS OF ANY KIND, either express or\n",
        "      implied, including, without limitation, any warranties or conditions\n",
        "      of TITLE, NON-INFRINGEMENT, MERCHANTABILITY, or FITNESS FOR A\n",
        "      PARTICULAR PURPOSE. You are solely responsible for determining the\n",
        "      appropriateness of using or redistributing the Work and assume any\n",
        "      risks associated with Your exercise of permissions under this License.\n",
        "\n",
        "   8. Limitation of Liability. In no event and under no legal theory,\n",
        "      whether in tort (including negligence), contract, or otherwise,\n",
        "      unless required by applicable law (such as deliberate and grossly\n",
        "      negligent acts) or agreed to in writing, shall any Contributor be\n",
        "      liable to You for damages, including any direct, indirect, special,\n",
        "      incidental, or consequential damages of any character arising as a\n",
        "      result of this License or out of the use or inability to use the\n",
        "      Work (including but not limited to damages for loss of goodwill,\n",
        "      work stoppage, computer failure or malfunction, or any and all\n",
        "      other commercial damages or losses), even if such Contributor\n",
        "      has been advised of the possibility of such damages.\n",
        "\n",
        "   9. Accepting Warranty or Additional Liability. While redistributing\n",
        "      the Work or Derivative Works thereof, You may choose to offer,\n",
        "      and charge a fee for, acceptance of support, warranty, indemnity,\n",
        "      or other liability obligations and/or rights consistent with this\n",
        "      License. However, in accepting such obligations, You may act only\n",
        "      on Your own behalf and on Your sole responsibility, not on behalf\n",
        "      of any other Contributor, and only if You agree to indemnify,\n",
        "      defend, and hold each Contributor harmless for any liability\n",
        "      incurred by, or claims asserted against, such Contributor by reason\n",
        "      of your accepting any such warranty or additional liability.\n",
        "\n",
        "   END OF TERMS AND CONDITIONS\n",
        "\n",
        "   APPENDIX: How to apply the Apache License to your work.\n",
        "\n",
        "      To apply the Apache License to your work, attach the following\n",
        "      boilerplate notice, with the fields enclosed by brackets \"[]\"\n",
        "      replaced with your own identifying information. (Don't include\n",
        "      the brackets!)  The text should be enclosed in the appropriate\n",
        "      comment syntax for the file format. We also recommend that a\n",
        "      file or class name and description of purpose be included on the\n",
        "      same \"printed page\" as the copyright notice for easier\n",
        "      identification within third-party archives.\n",
        "\n",
        "   Copyright [yyyy] [name of copyright owner]\n",
        "\n",
        "   Licensed under the Apache License, Version 2.0 (the \"License\");\n",
        "   you may not use this file except in compliance with the License.\n",
        "   You may obtain a copy of the License at\n",
        "\n",
        "       http://www.apache.org/licenses/LICENSE-2.0\n",
        "\n",
        "   Unless required by applicable law or agreed to in writing, software\n",
        "   distributed under the License is distributed on an \"AS IS\" BASIS,\n",
        "   WITHOUT WARRANTIES OR CONDITIONS OF ANY KIND, either express or implied.\n",
        "   See the License for the specific language governing permissions and\n",
        "   limitations under the License."
      ]
    },
    {
      "cell_type": "code",
      "execution_count": null,
      "id": "71f2d692",
      "metadata": {
        "id": "71f2d692"
      },
      "outputs": [],
      "source": [
        "import pandas as pd\n",
        "import numpy as np\n",
        "import matplotlib.pyplot as plt\n",
        "import matplotlib.dates as mdates\n",
        "import seaborn as sns\n",
        "from sklearn.linear_model import LinearRegression, Ridge, RidgeCV, Lasso, LassoCV\n",
        "from sklearn.preprocessing import scale \n",
        "import warnings\n",
        "warnings.filterwarnings('ignore')"
      ]
    },
    {
      "cell_type": "code",
      "execution_count": null,
      "id": "WTuTWQvbfE3o",
      "metadata": {
        "colab": {
          "base_uri": "https://localhost:8080/",
          "height": 37
        },
        "id": "WTuTWQvbfE3o",
        "outputId": "6e78b741-2c2e-494e-b5d5-177a3b891d88"
      },
      "outputs": [
        {
          "data": {
            "text/plain": [
              "'/Users/agnesdanielleflorenguenda/Dropbox/Mac/Downloads/Spring semester classes/Machine Learning I/Group assignment'"
            ]
          },
          "execution_count": 2,
          "metadata": {},
          "output_type": "execute_result"
        }
      ],
      "source": [
        "%pwd"
      ]
    },
    {
      "cell_type": "code",
      "execution_count": null,
      "id": "b70e3ccf",
      "metadata": {
        "id": "b70e3ccf",
        "outputId": "e8eb0b90-d74f-4152-ccca-1566e2a3d626"
      },
      "outputs": [
        {
          "data": {
            "text/plain": [
              "'\\nAssumptions\\nHow many bikes to start with, eg 20 30 40 50 (try 2 scenarios when low or high or medium)\\nYou can optimize to optimal docking\\nCollect weather\\nCollect time & date\\nChoose locations\\n\\n\\n'"
            ]
          },
          "execution_count": 3,
          "metadata": {},
          "output_type": "execute_result"
        }
      ],
      "source": [
        "'''\n",
        "Assumptions\n",
        "How many bikes to start with, eg 20 30 40 50 (try 2 scenarios when low or high or medium)\n",
        "You can optimize to optimal docking\n",
        "Collect weather\n",
        "Collect time & date\n",
        "Choose locations\n",
        "\n",
        "\n",
        "'''"
      ]
    },
    {
      "cell_type": "markdown",
      "id": "55a91441",
      "metadata": {
        "id": "55a91441"
      },
      "source": [
        "### Capital Bikeshare Data\n",
        "https://ride.capitalbikeshare.com/system-data\n",
        "\n",
        "We deal with data from Jan to Apr in 2022"
      ]
    },
    {
      "cell_type": "code",
      "execution_count": null,
      "id": "8d8bfc2a",
      "metadata": {
        "id": "8d8bfc2a"
      },
      "outputs": [],
      "source": [
        "# read csv files\n",
        "df_Jan=pd.read_csv('/202201-capitalbikeshare-tripdata.csv')\n",
        "df_Feb=pd.read_csv('/202202-capitalbikeshare-tripdata.csv')\n",
        "df_Mar=pd.read_csv('/202203-capitalbikeshare-tripdata.csv')\n",
        "df_Apr=pd.read_csv('/202204-capitalbikeshare-tripdata.csv')"
      ]
    },
    {
      "cell_type": "code",
      "execution_count": null,
      "id": "0bbfce28",
      "metadata": {
        "id": "0bbfce28",
        "outputId": "54cffe5d-c907-42ae-d90e-11cf4516e177"
      },
      "outputs": [
        {
          "data": {
            "text/html": [
              "<div>\n",
              "<style scoped>\n",
              "    .dataframe tbody tr th:only-of-type {\n",
              "        vertical-align: middle;\n",
              "    }\n",
              "\n",
              "    .dataframe tbody tr th {\n",
              "        vertical-align: top;\n",
              "    }\n",
              "\n",
              "    .dataframe thead th {\n",
              "        text-align: right;\n",
              "    }\n",
              "</style>\n",
              "<table border=\"1\" class=\"dataframe\">\n",
              "  <thead>\n",
              "    <tr style=\"text-align: right;\">\n",
              "      <th></th>\n",
              "      <th>ride_id</th>\n",
              "      <th>rideable_type</th>\n",
              "      <th>started_at</th>\n",
              "      <th>ended_at</th>\n",
              "      <th>start_station_name</th>\n",
              "      <th>start_station_id</th>\n",
              "      <th>end_station_name</th>\n",
              "      <th>end_station_id</th>\n",
              "      <th>start_lat</th>\n",
              "      <th>start_lng</th>\n",
              "      <th>end_lat</th>\n",
              "      <th>end_lng</th>\n",
              "      <th>member_casual</th>\n",
              "    </tr>\n",
              "  </thead>\n",
              "  <tbody>\n",
              "    <tr>\n",
              "      <th>0</th>\n",
              "      <td>8F5ADBABCB4EBE01</td>\n",
              "      <td>classic_bike</td>\n",
              "      <td>2022-04-15 10:09:53</td>\n",
              "      <td>2022-04-15 10:16:12</td>\n",
              "      <td>Maine Ave &amp; 9th St SW</td>\n",
              "      <td>31646.0</td>\n",
              "      <td>Smithsonian-National Mall / Jefferson Dr &amp; 12t...</td>\n",
              "      <td>31248.0</td>\n",
              "      <td>38.880440</td>\n",
              "      <td>-77.025236</td>\n",
              "      <td>38.888774</td>\n",
              "      <td>-77.028694</td>\n",
              "      <td>member</td>\n",
              "    </tr>\n",
              "    <tr>\n",
              "      <th>1</th>\n",
              "      <td>F502B0A7034DE321</td>\n",
              "      <td>classic_bike</td>\n",
              "      <td>2022-04-30 20:00:03</td>\n",
              "      <td>2022-05-01 14:27:41</td>\n",
              "      <td>Braddock Rd Metro North</td>\n",
              "      <td>31047.0</td>\n",
              "      <td>Braddock Rd Metro South</td>\n",
              "      <td>31969.0</td>\n",
              "      <td>38.814577</td>\n",
              "      <td>-77.052808</td>\n",
              "      <td>38.813474</td>\n",
              "      <td>-77.053734</td>\n",
              "      <td>casual</td>\n",
              "    </tr>\n",
              "    <tr>\n",
              "      <th>2</th>\n",
              "      <td>01BF0E3746A32678</td>\n",
              "      <td>classic_bike</td>\n",
              "      <td>2022-04-20 19:35:59</td>\n",
              "      <td>2022-04-20 19:41:04</td>\n",
              "      <td>11th &amp; V st NW</td>\n",
              "      <td>31332.0</td>\n",
              "      <td>14th &amp; Belmont St NW</td>\n",
              "      <td>31119.0</td>\n",
              "      <td>38.918199</td>\n",
              "      <td>-77.027171</td>\n",
              "      <td>38.921074</td>\n",
              "      <td>-77.031887</td>\n",
              "      <td>member</td>\n",
              "    </tr>\n",
              "    <tr>\n",
              "      <th>3</th>\n",
              "      <td>94BD7902E9889076</td>\n",
              "      <td>docked_bike</td>\n",
              "      <td>2022-04-15 17:23:21</td>\n",
              "      <td>2022-04-15 17:48:35</td>\n",
              "      <td>14th &amp; D St NW / Ronald Reagan Building</td>\n",
              "      <td>31231.0</td>\n",
              "      <td>15th &amp; W St NW</td>\n",
              "      <td>31125.0</td>\n",
              "      <td>38.894514</td>\n",
              "      <td>-77.031617</td>\n",
              "      <td>38.919019</td>\n",
              "      <td>-77.034449</td>\n",
              "      <td>casual</td>\n",
              "    </tr>\n",
              "    <tr>\n",
              "      <th>4</th>\n",
              "      <td>2CA1C29600E5F00A</td>\n",
              "      <td>classic_bike</td>\n",
              "      <td>2022-04-18 09:04:07</td>\n",
              "      <td>2022-04-18 09:05:12</td>\n",
              "      <td>11th &amp; V st NW</td>\n",
              "      <td>31332.0</td>\n",
              "      <td>11th &amp; V st NW</td>\n",
              "      <td>31332.0</td>\n",
              "      <td>38.918199</td>\n",
              "      <td>-77.027171</td>\n",
              "      <td>38.918199</td>\n",
              "      <td>-77.027171</td>\n",
              "      <td>member</td>\n",
              "    </tr>\n",
              "  </tbody>\n",
              "</table>\n",
              "</div>"
            ],
            "text/plain": [
              "            ride_id rideable_type           started_at             ended_at   \n",
              "0  8F5ADBABCB4EBE01  classic_bike  2022-04-15 10:09:53  2022-04-15 10:16:12  \\\n",
              "1  F502B0A7034DE321  classic_bike  2022-04-30 20:00:03  2022-05-01 14:27:41   \n",
              "2  01BF0E3746A32678  classic_bike  2022-04-20 19:35:59  2022-04-20 19:41:04   \n",
              "3  94BD7902E9889076   docked_bike  2022-04-15 17:23:21  2022-04-15 17:48:35   \n",
              "4  2CA1C29600E5F00A  classic_bike  2022-04-18 09:04:07  2022-04-18 09:05:12   \n",
              "\n",
              "                        start_station_name  start_station_id   \n",
              "0                    Maine Ave & 9th St SW           31646.0  \\\n",
              "1                  Braddock Rd Metro North           31047.0   \n",
              "2                           11th & V st NW           31332.0   \n",
              "3  14th & D St NW / Ronald Reagan Building           31231.0   \n",
              "4                           11th & V st NW           31332.0   \n",
              "\n",
              "                                    end_station_name  end_station_id   \n",
              "0  Smithsonian-National Mall / Jefferson Dr & 12t...         31248.0  \\\n",
              "1                            Braddock Rd Metro South         31969.0   \n",
              "2                               14th & Belmont St NW         31119.0   \n",
              "3                                     15th & W St NW         31125.0   \n",
              "4                                     11th & V st NW         31332.0   \n",
              "\n",
              "   start_lat  start_lng    end_lat    end_lng member_casual  \n",
              "0  38.880440 -77.025236  38.888774 -77.028694        member  \n",
              "1  38.814577 -77.052808  38.813474 -77.053734        casual  \n",
              "2  38.918199 -77.027171  38.921074 -77.031887        member  \n",
              "3  38.894514 -77.031617  38.919019 -77.034449        casual  \n",
              "4  38.918199 -77.027171  38.918199 -77.027171        member  "
            ]
          },
          "execution_count": 5,
          "metadata": {},
          "output_type": "execute_result"
        }
      ],
      "source": [
        "df_Apr.head()"
      ]
    },
    {
      "cell_type": "code",
      "execution_count": null,
      "id": "e370c1f7",
      "metadata": {
        "id": "e370c1f7",
        "outputId": "e2e44ca0-30c1-4c80-a296-604fdec3f47d"
      },
      "outputs": [
        {
          "name": "stdout",
          "output_type": "stream",
          "text": [
            "<class 'pandas.core.frame.DataFrame'>\n",
            "Index: 828621 entries, 0 to 310434\n",
            "Data columns (total 13 columns):\n",
            " #   Column              Non-Null Count   Dtype  \n",
            "---  ------              --------------   -----  \n",
            " 0   ride_id             828621 non-null  object \n",
            " 1   rideable_type       828621 non-null  object \n",
            " 2   started_at          828621 non-null  object \n",
            " 3   ended_at            828621 non-null  object \n",
            " 4   start_station_name  792027 non-null  object \n",
            " 5   start_station_id    792027 non-null  float64\n",
            " 6   end_station_name    786251 non-null  object \n",
            " 7   end_station_id      786251 non-null  float64\n",
            " 8   start_lat           828621 non-null  float64\n",
            " 9   start_lng           828621 non-null  float64\n",
            " 10  end_lat             827170 non-null  float64\n",
            " 11  end_lng             827170 non-null  float64\n",
            " 12  member_casual       828621 non-null  object \n",
            "dtypes: float64(6), object(7)\n",
            "memory usage: 88.5+ MB\n"
          ]
        }
      ],
      "source": [
        "# concat data\n",
        "df=pd.concat([df_Jan,df_Feb,df_Mar,df_Apr])\n",
        "df.info()"
      ]
    },
    {
      "cell_type": "code",
      "execution_count": null,
      "id": "6e4405c7",
      "metadata": {
        "id": "6e4405c7",
        "outputId": "5e999c81-d32f-4298-9c3a-ae8026414659"
      },
      "outputs": [
        {
          "data": {
            "text/html": [
              "<div>\n",
              "<style scoped>\n",
              "    .dataframe tbody tr th:only-of-type {\n",
              "        vertical-align: middle;\n",
              "    }\n",
              "\n",
              "    .dataframe tbody tr th {\n",
              "        vertical-align: top;\n",
              "    }\n",
              "\n",
              "    .dataframe thead th {\n",
              "        text-align: right;\n",
              "    }\n",
              "</style>\n",
              "<table border=\"1\" class=\"dataframe\">\n",
              "  <thead>\n",
              "    <tr style=\"text-align: right;\">\n",
              "      <th></th>\n",
              "      <th>ride_id</th>\n",
              "      <th>rideable_type</th>\n",
              "      <th>started_at</th>\n",
              "      <th>ended_at</th>\n",
              "      <th>start_station_name</th>\n",
              "      <th>start_station_id</th>\n",
              "      <th>end_station_name</th>\n",
              "      <th>end_station_id</th>\n",
              "      <th>start_lat</th>\n",
              "      <th>start_lng</th>\n",
              "      <th>end_lat</th>\n",
              "      <th>end_lng</th>\n",
              "      <th>member_casual</th>\n",
              "    </tr>\n",
              "  </thead>\n",
              "  <tbody>\n",
              "    <tr>\n",
              "      <th>0</th>\n",
              "      <td>1B4445D591115BD9</td>\n",
              "      <td>classic_bike</td>\n",
              "      <td>2022-01-06 18:39:28</td>\n",
              "      <td>2022-01-06 18:43:03</td>\n",
              "      <td>Monroe Ave &amp; Leslie Ave</td>\n",
              "      <td>31087.0</td>\n",
              "      <td>Potomac Ave &amp; Main Line Blvd</td>\n",
              "      <td>31910.0</td>\n",
              "      <td>38.820932</td>\n",
              "      <td>-77.053096</td>\n",
              "      <td>38.822738</td>\n",
              "      <td>-77.049265</td>\n",
              "      <td>member</td>\n",
              "    </tr>\n",
              "    <tr>\n",
              "      <th>1</th>\n",
              "      <td>7F4A0E2F03EADEB7</td>\n",
              "      <td>classic_bike</td>\n",
              "      <td>2022-01-31 19:21:22</td>\n",
              "      <td>2022-01-31 19:27:33</td>\n",
              "      <td>14th &amp; L St NW</td>\n",
              "      <td>31283.0</td>\n",
              "      <td>10th &amp; G St NW</td>\n",
              "      <td>31274.0</td>\n",
              "      <td>38.903658</td>\n",
              "      <td>-77.031737</td>\n",
              "      <td>38.898243</td>\n",
              "      <td>-77.026235</td>\n",
              "      <td>member</td>\n",
              "    </tr>\n",
              "    <tr>\n",
              "      <th>2</th>\n",
              "      <td>30DD8A84164843AD</td>\n",
              "      <td>classic_bike</td>\n",
              "      <td>2022-01-07 15:28:39</td>\n",
              "      <td>2022-01-07 15:31:01</td>\n",
              "      <td>14th &amp; L St NW</td>\n",
              "      <td>31283.0</td>\n",
              "      <td>12th &amp; L St NW</td>\n",
              "      <td>31251.0</td>\n",
              "      <td>38.903658</td>\n",
              "      <td>-77.031737</td>\n",
              "      <td>38.903819</td>\n",
              "      <td>-77.028400</td>\n",
              "      <td>member</td>\n",
              "    </tr>\n",
              "    <tr>\n",
              "      <th>3</th>\n",
              "      <td>FC67665D7682D0A6</td>\n",
              "      <td>classic_bike</td>\n",
              "      <td>2022-01-27 20:09:25</td>\n",
              "      <td>2022-01-27 20:37:02</td>\n",
              "      <td>New York Ave &amp; Hecht Ave NE</td>\n",
              "      <td>31518.0</td>\n",
              "      <td>Nannie Helen Burroughs &amp; Minnesota Ave NE</td>\n",
              "      <td>31704.0</td>\n",
              "      <td>38.915604</td>\n",
              "      <td>-76.983683</td>\n",
              "      <td>38.901385</td>\n",
              "      <td>-76.941877</td>\n",
              "      <td>casual</td>\n",
              "    </tr>\n",
              "    <tr>\n",
              "      <th>4</th>\n",
              "      <td>7854F7CC4F631A1E</td>\n",
              "      <td>classic_bike</td>\n",
              "      <td>2022-01-07 16:14:28</td>\n",
              "      <td>2022-01-07 16:16:13</td>\n",
              "      <td>Falls Church City Hall / Park Ave &amp; Little Fal...</td>\n",
              "      <td>32608.0</td>\n",
              "      <td>Pennsylvania Ave &amp; Park Ave</td>\n",
              "      <td>32603.0</td>\n",
              "      <td>38.885434</td>\n",
              "      <td>-77.173605</td>\n",
              "      <td>38.887403</td>\n",
              "      <td>-77.176992</td>\n",
              "      <td>member</td>\n",
              "    </tr>\n",
              "  </tbody>\n",
              "</table>\n",
              "</div>"
            ],
            "text/plain": [
              "            ride_id rideable_type           started_at             ended_at   \n",
              "0  1B4445D591115BD9  classic_bike  2022-01-06 18:39:28  2022-01-06 18:43:03  \\\n",
              "1  7F4A0E2F03EADEB7  classic_bike  2022-01-31 19:21:22  2022-01-31 19:27:33   \n",
              "2  30DD8A84164843AD  classic_bike  2022-01-07 15:28:39  2022-01-07 15:31:01   \n",
              "3  FC67665D7682D0A6  classic_bike  2022-01-27 20:09:25  2022-01-27 20:37:02   \n",
              "4  7854F7CC4F631A1E  classic_bike  2022-01-07 16:14:28  2022-01-07 16:16:13   \n",
              "\n",
              "                                  start_station_name  start_station_id   \n",
              "0                            Monroe Ave & Leslie Ave           31087.0  \\\n",
              "1                                     14th & L St NW           31283.0   \n",
              "2                                     14th & L St NW           31283.0   \n",
              "3                        New York Ave & Hecht Ave NE           31518.0   \n",
              "4  Falls Church City Hall / Park Ave & Little Fal...           32608.0   \n",
              "\n",
              "                            end_station_name  end_station_id  start_lat   \n",
              "0               Potomac Ave & Main Line Blvd         31910.0  38.820932  \\\n",
              "1                             10th & G St NW         31274.0  38.903658   \n",
              "2                             12th & L St NW         31251.0  38.903658   \n",
              "3  Nannie Helen Burroughs & Minnesota Ave NE         31704.0  38.915604   \n",
              "4                Pennsylvania Ave & Park Ave         32603.0  38.885434   \n",
              "\n",
              "   start_lng    end_lat    end_lng member_casual  \n",
              "0 -77.053096  38.822738 -77.049265        member  \n",
              "1 -77.031737  38.898243 -77.026235        member  \n",
              "2 -77.031737  38.903819 -77.028400        member  \n",
              "3 -76.983683  38.901385 -76.941877        casual  \n",
              "4 -77.173605  38.887403 -77.176992        member  "
            ]
          },
          "execution_count": 7,
          "metadata": {},
          "output_type": "execute_result"
        }
      ],
      "source": [
        "df.head()"
      ]
    },
    {
      "cell_type": "markdown",
      "id": "1520a1db",
      "metadata": {
        "id": "1520a1db"
      },
      "source": [
        "### Be careful when dealing with time and date"
      ]
    },
    {
      "cell_type": "code",
      "execution_count": null,
      "id": "5f55be11",
      "metadata": {
        "id": "5f55be11"
      },
      "outputs": [],
      "source": [
        "# Transform time to date ONLY\n",
        "df['started_at_date'] = pd.to_datetime(df['started_at']).dt.date\n",
        "df['ended_at_date'] = pd.to_datetime(df['ended_at']).dt.date"
      ]
    },
    {
      "cell_type": "code",
      "execution_count": null,
      "id": "88f12e86",
      "metadata": {
        "id": "88f12e86",
        "outputId": "c3187f82-1f71-4401-bb05-1d06825f58d8"
      },
      "outputs": [
        {
          "data": {
            "text/html": [
              "<div>\n",
              "<style scoped>\n",
              "    .dataframe tbody tr th:only-of-type {\n",
              "        vertical-align: middle;\n",
              "    }\n",
              "\n",
              "    .dataframe tbody tr th {\n",
              "        vertical-align: top;\n",
              "    }\n",
              "\n",
              "    .dataframe thead th {\n",
              "        text-align: right;\n",
              "    }\n",
              "</style>\n",
              "<table border=\"1\" class=\"dataframe\">\n",
              "  <thead>\n",
              "    <tr style=\"text-align: right;\">\n",
              "      <th></th>\n",
              "      <th>ride_id</th>\n",
              "      <th>rideable_type</th>\n",
              "      <th>started_at</th>\n",
              "      <th>ended_at</th>\n",
              "      <th>start_station_name</th>\n",
              "      <th>start_station_id</th>\n",
              "      <th>end_station_name</th>\n",
              "      <th>end_station_id</th>\n",
              "      <th>start_lat</th>\n",
              "      <th>start_lng</th>\n",
              "      <th>end_lat</th>\n",
              "      <th>end_lng</th>\n",
              "      <th>member_casual</th>\n",
              "      <th>started_at_date</th>\n",
              "      <th>ended_at_date</th>\n",
              "    </tr>\n",
              "  </thead>\n",
              "  <tbody>\n",
              "    <tr>\n",
              "      <th>0</th>\n",
              "      <td>1B4445D591115BD9</td>\n",
              "      <td>classic_bike</td>\n",
              "      <td>2022-01-06 18:39:28</td>\n",
              "      <td>2022-01-06 18:43:03</td>\n",
              "      <td>Monroe Ave &amp; Leslie Ave</td>\n",
              "      <td>31087.0</td>\n",
              "      <td>Potomac Ave &amp; Main Line Blvd</td>\n",
              "      <td>31910.0</td>\n",
              "      <td>38.820932</td>\n",
              "      <td>-77.053096</td>\n",
              "      <td>38.822738</td>\n",
              "      <td>-77.049265</td>\n",
              "      <td>member</td>\n",
              "      <td>2022-01-06</td>\n",
              "      <td>2022-01-06</td>\n",
              "    </tr>\n",
              "    <tr>\n",
              "      <th>1</th>\n",
              "      <td>7F4A0E2F03EADEB7</td>\n",
              "      <td>classic_bike</td>\n",
              "      <td>2022-01-31 19:21:22</td>\n",
              "      <td>2022-01-31 19:27:33</td>\n",
              "      <td>14th &amp; L St NW</td>\n",
              "      <td>31283.0</td>\n",
              "      <td>10th &amp; G St NW</td>\n",
              "      <td>31274.0</td>\n",
              "      <td>38.903658</td>\n",
              "      <td>-77.031737</td>\n",
              "      <td>38.898243</td>\n",
              "      <td>-77.026235</td>\n",
              "      <td>member</td>\n",
              "      <td>2022-01-31</td>\n",
              "      <td>2022-01-31</td>\n",
              "    </tr>\n",
              "    <tr>\n",
              "      <th>2</th>\n",
              "      <td>30DD8A84164843AD</td>\n",
              "      <td>classic_bike</td>\n",
              "      <td>2022-01-07 15:28:39</td>\n",
              "      <td>2022-01-07 15:31:01</td>\n",
              "      <td>14th &amp; L St NW</td>\n",
              "      <td>31283.0</td>\n",
              "      <td>12th &amp; L St NW</td>\n",
              "      <td>31251.0</td>\n",
              "      <td>38.903658</td>\n",
              "      <td>-77.031737</td>\n",
              "      <td>38.903819</td>\n",
              "      <td>-77.028400</td>\n",
              "      <td>member</td>\n",
              "      <td>2022-01-07</td>\n",
              "      <td>2022-01-07</td>\n",
              "    </tr>\n",
              "    <tr>\n",
              "      <th>3</th>\n",
              "      <td>FC67665D7682D0A6</td>\n",
              "      <td>classic_bike</td>\n",
              "      <td>2022-01-27 20:09:25</td>\n",
              "      <td>2022-01-27 20:37:02</td>\n",
              "      <td>New York Ave &amp; Hecht Ave NE</td>\n",
              "      <td>31518.0</td>\n",
              "      <td>Nannie Helen Burroughs &amp; Minnesota Ave NE</td>\n",
              "      <td>31704.0</td>\n",
              "      <td>38.915604</td>\n",
              "      <td>-76.983683</td>\n",
              "      <td>38.901385</td>\n",
              "      <td>-76.941877</td>\n",
              "      <td>casual</td>\n",
              "      <td>2022-01-27</td>\n",
              "      <td>2022-01-27</td>\n",
              "    </tr>\n",
              "    <tr>\n",
              "      <th>4</th>\n",
              "      <td>7854F7CC4F631A1E</td>\n",
              "      <td>classic_bike</td>\n",
              "      <td>2022-01-07 16:14:28</td>\n",
              "      <td>2022-01-07 16:16:13</td>\n",
              "      <td>Falls Church City Hall / Park Ave &amp; Little Fal...</td>\n",
              "      <td>32608.0</td>\n",
              "      <td>Pennsylvania Ave &amp; Park Ave</td>\n",
              "      <td>32603.0</td>\n",
              "      <td>38.885434</td>\n",
              "      <td>-77.173605</td>\n",
              "      <td>38.887403</td>\n",
              "      <td>-77.176992</td>\n",
              "      <td>member</td>\n",
              "      <td>2022-01-07</td>\n",
              "      <td>2022-01-07</td>\n",
              "    </tr>\n",
              "  </tbody>\n",
              "</table>\n",
              "</div>"
            ],
            "text/plain": [
              "            ride_id rideable_type           started_at             ended_at   \n",
              "0  1B4445D591115BD9  classic_bike  2022-01-06 18:39:28  2022-01-06 18:43:03  \\\n",
              "1  7F4A0E2F03EADEB7  classic_bike  2022-01-31 19:21:22  2022-01-31 19:27:33   \n",
              "2  30DD8A84164843AD  classic_bike  2022-01-07 15:28:39  2022-01-07 15:31:01   \n",
              "3  FC67665D7682D0A6  classic_bike  2022-01-27 20:09:25  2022-01-27 20:37:02   \n",
              "4  7854F7CC4F631A1E  classic_bike  2022-01-07 16:14:28  2022-01-07 16:16:13   \n",
              "\n",
              "                                  start_station_name  start_station_id   \n",
              "0                            Monroe Ave & Leslie Ave           31087.0  \\\n",
              "1                                     14th & L St NW           31283.0   \n",
              "2                                     14th & L St NW           31283.0   \n",
              "3                        New York Ave & Hecht Ave NE           31518.0   \n",
              "4  Falls Church City Hall / Park Ave & Little Fal...           32608.0   \n",
              "\n",
              "                            end_station_name  end_station_id  start_lat   \n",
              "0               Potomac Ave & Main Line Blvd         31910.0  38.820932  \\\n",
              "1                             10th & G St NW         31274.0  38.903658   \n",
              "2                             12th & L St NW         31251.0  38.903658   \n",
              "3  Nannie Helen Burroughs & Minnesota Ave NE         31704.0  38.915604   \n",
              "4                Pennsylvania Ave & Park Ave         32603.0  38.885434   \n",
              "\n",
              "   start_lng    end_lat    end_lng member_casual started_at_date ended_at_date  \n",
              "0 -77.053096  38.822738 -77.049265        member      2022-01-06    2022-01-06  \n",
              "1 -77.031737  38.898243 -77.026235        member      2022-01-31    2022-01-31  \n",
              "2 -77.031737  38.903819 -77.028400        member      2022-01-07    2022-01-07  \n",
              "3 -76.983683  38.901385 -76.941877        casual      2022-01-27    2022-01-27  \n",
              "4 -77.173605  38.887403 -77.176992        member      2022-01-07    2022-01-07  "
            ]
          },
          "execution_count": 9,
          "metadata": {},
          "output_type": "execute_result"
        }
      ],
      "source": [
        "df.head()"
      ]
    },
    {
      "cell_type": "markdown",
      "id": "fb061040",
      "metadata": {
        "id": "fb061040"
      },
      "source": [
        "\n",
        "### We work with '21st & I St NW' and '21st St & Pennsylvania Ave NW' ."
      ]
    },
    {
      "cell_type": "markdown",
      "id": "d01737fc",
      "metadata": {
        "id": "d01737fc"
      },
      "source": [
        "### Count daily pickups"
      ]
    },
    {
      "cell_type": "code",
      "execution_count": null,
      "id": "143741b5",
      "metadata": {
        "id": "143741b5",
        "outputId": "2f437939-4e89-4ebb-a9f4-522ae10cd09e"
      },
      "outputs": [
        {
          "data": {
            "text/html": [
              "<div>\n",
              "<style scoped>\n",
              "    .dataframe tbody tr th:only-of-type {\n",
              "        vertical-align: middle;\n",
              "    }\n",
              "\n",
              "    .dataframe tbody tr th {\n",
              "        vertical-align: top;\n",
              "    }\n",
              "\n",
              "    .dataframe thead th {\n",
              "        text-align: right;\n",
              "    }\n",
              "</style>\n",
              "<table border=\"1\" class=\"dataframe\">\n",
              "  <thead>\n",
              "    <tr style=\"text-align: right;\">\n",
              "      <th></th>\n",
              "      <th>started_at_date</th>\n",
              "      <th>start_station_name</th>\n",
              "      <th>pu_ct</th>\n",
              "    </tr>\n",
              "  </thead>\n",
              "  <tbody>\n",
              "    <tr>\n",
              "      <th>0</th>\n",
              "      <td>2022-01-01</td>\n",
              "      <td>21st &amp; I St NW</td>\n",
              "      <td>7</td>\n",
              "    </tr>\n",
              "    <tr>\n",
              "      <th>1</th>\n",
              "      <td>2022-01-02</td>\n",
              "      <td>21st &amp; I St NW</td>\n",
              "      <td>5</td>\n",
              "    </tr>\n",
              "    <tr>\n",
              "      <th>2</th>\n",
              "      <td>2022-01-04</td>\n",
              "      <td>21st &amp; I St NW</td>\n",
              "      <td>2</td>\n",
              "    </tr>\n",
              "    <tr>\n",
              "      <th>3</th>\n",
              "      <td>2022-01-05</td>\n",
              "      <td>21st &amp; I St NW</td>\n",
              "      <td>5</td>\n",
              "    </tr>\n",
              "    <tr>\n",
              "      <th>4</th>\n",
              "      <td>2022-01-06</td>\n",
              "      <td>21st &amp; I St NW</td>\n",
              "      <td>10</td>\n",
              "    </tr>\n",
              "    <tr>\n",
              "      <th>...</th>\n",
              "      <td>...</td>\n",
              "      <td>...</td>\n",
              "      <td>...</td>\n",
              "    </tr>\n",
              "    <tr>\n",
              "      <th>113</th>\n",
              "      <td>2022-04-26</td>\n",
              "      <td>21st &amp; I St NW</td>\n",
              "      <td>49</td>\n",
              "    </tr>\n",
              "    <tr>\n",
              "      <th>114</th>\n",
              "      <td>2022-04-27</td>\n",
              "      <td>21st &amp; I St NW</td>\n",
              "      <td>67</td>\n",
              "    </tr>\n",
              "    <tr>\n",
              "      <th>115</th>\n",
              "      <td>2022-04-28</td>\n",
              "      <td>21st &amp; I St NW</td>\n",
              "      <td>58</td>\n",
              "    </tr>\n",
              "    <tr>\n",
              "      <th>116</th>\n",
              "      <td>2022-04-29</td>\n",
              "      <td>21st &amp; I St NW</td>\n",
              "      <td>69</td>\n",
              "    </tr>\n",
              "    <tr>\n",
              "      <th>117</th>\n",
              "      <td>2022-04-30</td>\n",
              "      <td>21st &amp; I St NW</td>\n",
              "      <td>47</td>\n",
              "    </tr>\n",
              "  </tbody>\n",
              "</table>\n",
              "<p>118 rows × 3 columns</p>\n",
              "</div>"
            ],
            "text/plain": [
              "    started_at_date start_station_name  pu_ct\n",
              "0        2022-01-01     21st & I St NW      7\n",
              "1        2022-01-02     21st & I St NW      5\n",
              "2        2022-01-04     21st & I St NW      2\n",
              "3        2022-01-05     21st & I St NW      5\n",
              "4        2022-01-06     21st & I St NW     10\n",
              "..              ...                ...    ...\n",
              "113      2022-04-26     21st & I St NW     49\n",
              "114      2022-04-27     21st & I St NW     67\n",
              "115      2022-04-28     21st & I St NW     58\n",
              "116      2022-04-29     21st & I St NW     69\n",
              "117      2022-04-30     21st & I St NW     47\n",
              "\n",
              "[118 rows x 3 columns]"
            ]
          },
          "execution_count": 10,
          "metadata": {},
          "output_type": "execute_result"
        }
      ],
      "source": [
        "# Group and get pickup occurrence for 21st & I St NW\n",
        "df_sub1 = df[df['start_station_name']==\"21st & I St NW\"]\n",
        "df_grp1 = df_sub1.groupby(['started_at_date','start_station_name']).size()\n",
        "df_pu=df_grp1.reset_index(name = \"pu_ct\")\n",
        "df_pu"
      ]
    },
    {
      "cell_type": "code",
      "execution_count": null,
      "id": "dcba4855",
      "metadata": {
        "id": "dcba4855",
        "outputId": "02035914-ca91-4968-e42b-8301c8cb027e"
      },
      "outputs": [
        {
          "data": {
            "text/plain": [
              "started_at_date  start_station_name\n",
              "2022-01-01       21st & I St NW         7\n",
              "2022-01-02       21st & I St NW         5\n",
              "2022-01-04       21st & I St NW         2\n",
              "2022-01-05       21st & I St NW         5\n",
              "2022-01-06       21st & I St NW        10\n",
              "                                       ..\n",
              "2022-04-26       21st & I St NW        49\n",
              "2022-04-27       21st & I St NW        67\n",
              "2022-04-28       21st & I St NW        58\n",
              "2022-04-29       21st & I St NW        69\n",
              "2022-04-30       21st & I St NW        47\n",
              "Length: 118, dtype: int64"
            ]
          },
          "execution_count": 11,
          "metadata": {},
          "output_type": "execute_result"
        }
      ],
      "source": [
        "df_grp1"
      ]
    },
    {
      "cell_type": "markdown",
      "id": "0da58a9c",
      "metadata": {
        "id": "0da58a9c"
      },
      "source": [
        "### Count daily dropoffs"
      ]
    },
    {
      "cell_type": "code",
      "execution_count": null,
      "id": "1ab7421d",
      "metadata": {
        "id": "1ab7421d",
        "outputId": "f41a2db6-c054-4c28-cbb3-8f184669fd6e"
      },
      "outputs": [
        {
          "data": {
            "text/html": [
              "<div>\n",
              "<style scoped>\n",
              "    .dataframe tbody tr th:only-of-type {\n",
              "        vertical-align: middle;\n",
              "    }\n",
              "\n",
              "    .dataframe tbody tr th {\n",
              "        vertical-align: top;\n",
              "    }\n",
              "\n",
              "    .dataframe thead th {\n",
              "        text-align: right;\n",
              "    }\n",
              "</style>\n",
              "<table border=\"1\" class=\"dataframe\">\n",
              "  <thead>\n",
              "    <tr style=\"text-align: right;\">\n",
              "      <th></th>\n",
              "      <th>ended_at_date</th>\n",
              "      <th>end_station_name</th>\n",
              "      <th>do_ct</th>\n",
              "    </tr>\n",
              "  </thead>\n",
              "  <tbody>\n",
              "    <tr>\n",
              "      <th>0</th>\n",
              "      <td>2022-01-01</td>\n",
              "      <td>21st &amp; I St NW</td>\n",
              "      <td>5</td>\n",
              "    </tr>\n",
              "    <tr>\n",
              "      <th>1</th>\n",
              "      <td>2022-01-02</td>\n",
              "      <td>21st &amp; I St NW</td>\n",
              "      <td>5</td>\n",
              "    </tr>\n",
              "    <tr>\n",
              "      <th>2</th>\n",
              "      <td>2022-01-04</td>\n",
              "      <td>21st &amp; I St NW</td>\n",
              "      <td>6</td>\n",
              "    </tr>\n",
              "    <tr>\n",
              "      <th>3</th>\n",
              "      <td>2022-01-05</td>\n",
              "      <td>21st &amp; I St NW</td>\n",
              "      <td>5</td>\n",
              "    </tr>\n",
              "    <tr>\n",
              "      <th>4</th>\n",
              "      <td>2022-01-06</td>\n",
              "      <td>21st &amp; I St NW</td>\n",
              "      <td>10</td>\n",
              "    </tr>\n",
              "    <tr>\n",
              "      <th>...</th>\n",
              "      <td>...</td>\n",
              "      <td>...</td>\n",
              "      <td>...</td>\n",
              "    </tr>\n",
              "    <tr>\n",
              "      <th>113</th>\n",
              "      <td>2022-04-26</td>\n",
              "      <td>21st &amp; I St NW</td>\n",
              "      <td>67</td>\n",
              "    </tr>\n",
              "    <tr>\n",
              "      <th>114</th>\n",
              "      <td>2022-04-27</td>\n",
              "      <td>21st &amp; I St NW</td>\n",
              "      <td>53</td>\n",
              "    </tr>\n",
              "    <tr>\n",
              "      <th>115</th>\n",
              "      <td>2022-04-28</td>\n",
              "      <td>21st &amp; I St NW</td>\n",
              "      <td>57</td>\n",
              "    </tr>\n",
              "    <tr>\n",
              "      <th>116</th>\n",
              "      <td>2022-04-29</td>\n",
              "      <td>21st &amp; I St NW</td>\n",
              "      <td>63</td>\n",
              "    </tr>\n",
              "    <tr>\n",
              "      <th>117</th>\n",
              "      <td>2022-04-30</td>\n",
              "      <td>21st &amp; I St NW</td>\n",
              "      <td>44</td>\n",
              "    </tr>\n",
              "  </tbody>\n",
              "</table>\n",
              "<p>118 rows × 3 columns</p>\n",
              "</div>"
            ],
            "text/plain": [
              "    ended_at_date end_station_name  do_ct\n",
              "0      2022-01-01   21st & I St NW      5\n",
              "1      2022-01-02   21st & I St NW      5\n",
              "2      2022-01-04   21st & I St NW      6\n",
              "3      2022-01-05   21st & I St NW      5\n",
              "4      2022-01-06   21st & I St NW     10\n",
              "..            ...              ...    ...\n",
              "113    2022-04-26   21st & I St NW     67\n",
              "114    2022-04-27   21st & I St NW     53\n",
              "115    2022-04-28   21st & I St NW     57\n",
              "116    2022-04-29   21st & I St NW     63\n",
              "117    2022-04-30   21st & I St NW     44\n",
              "\n",
              "[118 rows x 3 columns]"
            ]
          },
          "execution_count": 12,
          "metadata": {},
          "output_type": "execute_result"
        }
      ],
      "source": [
        "# Group and get drop off occurrence for 21st & I St NW\n",
        "df_sub2 = df[df['end_station_name']==\"21st & I St NW\"]\n",
        "df_grp2 = df_sub2.groupby(['ended_at_date','end_station_name']).size()\n",
        "df_do=df_grp2.reset_index(name = \"do_ct\")\n",
        "df_do"
      ]
    },
    {
      "cell_type": "code",
      "execution_count": null,
      "id": "2bc17068",
      "metadata": {
        "id": "2bc17068",
        "outputId": "d8981b7e-196c-4933-ec72-fd10d0d79eab"
      },
      "outputs": [
        {
          "data": {
            "text/plain": [
              "ended_at_date  end_station_name\n",
              "2022-01-01     21st & I St NW       5\n",
              "2022-01-02     21st & I St NW       5\n",
              "2022-01-04     21st & I St NW       6\n",
              "2022-01-05     21st & I St NW       5\n",
              "2022-01-06     21st & I St NW      10\n",
              "                                   ..\n",
              "2022-04-26     21st & I St NW      67\n",
              "2022-04-27     21st & I St NW      53\n",
              "2022-04-28     21st & I St NW      57\n",
              "2022-04-29     21st & I St NW      63\n",
              "2022-04-30     21st & I St NW      44\n",
              "Length: 118, dtype: int64"
            ]
          },
          "execution_count": 13,
          "metadata": {},
          "output_type": "execute_result"
        }
      ],
      "source": [
        "df_grp2"
      ]
    },
    {
      "cell_type": "markdown",
      "id": "4f5c2444",
      "metadata": {
        "id": "4f5c2444"
      },
      "source": [
        "### Visualize pickups and dropoffs"
      ]
    },
    {
      "cell_type": "code",
      "execution_count": null,
      "id": "cb6ac76c",
      "metadata": {
        "id": "cb6ac76c",
        "outputId": "b7a841e7-1eac-4139-d421-e215fd33cc59"
      },
      "outputs": [
        {
          "data": {
            "image/png": "[encoded data removed]",
            "text/plain": [
              "<Figure size 864x648 with 1 Axes>"
            ]
          },
          "metadata": {
            "needs_background": "light"
          },
          "output_type": "display_data"
        }
      ],
      "source": [
        "fig, ax1 = plt.subplots(figsize=(12, 9))\n",
        "ax1.plot_date(df_pu['started_at_date'].to_numpy(), df_pu['pu_ct'].to_numpy(), linestyle='solid', markeredgecolor='blue', markerfacecolor='blue', markersize=3)\n",
        "ax1.plot_date(df_do['ended_at_date'].to_numpy(), df_do['do_ct'].to_numpy(), linestyle='solid', markeredgecolor='red', markerfacecolor='red', markersize=3)\n",
        "\n",
        "ax1.set_xlabel('Date', fontsize=10)\n",
        "ax1.set_ylabel('Count',fontsize=16)\n",
        "plt.gcf().autofmt_xdate()\n",
        "\n",
        "plt.tick_params(labelsize=18)\n",
        "plt.show()  "
      ]
    },
    {
      "cell_type": "markdown",
      "id": "cbb1a6e3",
      "metadata": {
        "id": "cbb1a6e3"
      },
      "source": [
        "## Weather Data"
      ]
    },
    {
      "cell_type": "code",
      "execution_count": null,
      "id": "91178cea",
      "metadata": {
        "id": "91178cea",
        "outputId": "081e427b-c4f2-4b63-d8ca-20abcd43eeef"
      },
      "outputs": [
        {
          "data": {
            "text/html": [
              "<div>\n",
              "<style scoped>\n",
              "    .dataframe tbody tr th:only-of-type {\n",
              "        vertical-align: middle;\n",
              "    }\n",
              "\n",
              "    .dataframe tbody tr th {\n",
              "        vertical-align: top;\n",
              "    }\n",
              "\n",
              "    .dataframe thead th {\n",
              "        text-align: right;\n",
              "    }\n",
              "</style>\n",
              "<table border=\"1\" class=\"dataframe\">\n",
              "  <thead>\n",
              "    <tr style=\"text-align: right;\">\n",
              "      <th></th>\n",
              "      <th>name</th>\n",
              "      <th>datetime</th>\n",
              "      <th>tempmax</th>\n",
              "      <th>tempmin</th>\n",
              "      <th>temp</th>\n",
              "      <th>feelslikemax</th>\n",
              "      <th>feelslikemin</th>\n",
              "      <th>feelslike</th>\n",
              "      <th>dew</th>\n",
              "      <th>humidity</th>\n",
              "      <th>...</th>\n",
              "      <th>solarenergy</th>\n",
              "      <th>uvindex</th>\n",
              "      <th>severerisk</th>\n",
              "      <th>sunrise</th>\n",
              "      <th>sunset</th>\n",
              "      <th>moonphase</th>\n",
              "      <th>conditions</th>\n",
              "      <th>description</th>\n",
              "      <th>icon</th>\n",
              "      <th>stations</th>\n",
              "    </tr>\n",
              "  </thead>\n",
              "  <tbody>\n",
              "    <tr>\n",
              "      <th>0</th>\n",
              "      <td>Washington,DC,USA</td>\n",
              "      <td>2022-01-01</td>\n",
              "      <td>63.5</td>\n",
              "      <td>54.1</td>\n",
              "      <td>58.3</td>\n",
              "      <td>63.5</td>\n",
              "      <td>54.1</td>\n",
              "      <td>58.3</td>\n",
              "      <td>56.0</td>\n",
              "      <td>92.1</td>\n",
              "      <td>...</td>\n",
              "      <td>0.6</td>\n",
              "      <td>0</td>\n",
              "      <td>NaN</td>\n",
              "      <td>2022-01-01T07:26:53</td>\n",
              "      <td>2022-01-01T16:56:53</td>\n",
              "      <td>0.99</td>\n",
              "      <td>Rain, Overcast</td>\n",
              "      <td>Cloudy skies throughout the day with rain.</td>\n",
              "      <td>rain</td>\n",
              "      <td>KDCA,72405013743,72403793728,F0198,KADW,KDAA,A...</td>\n",
              "    </tr>\n",
              "    <tr>\n",
              "      <th>1</th>\n",
              "      <td>Washington,DC,USA</td>\n",
              "      <td>2022-01-02</td>\n",
              "      <td>62.7</td>\n",
              "      <td>47.8</td>\n",
              "      <td>57.5</td>\n",
              "      <td>62.7</td>\n",
              "      <td>42.0</td>\n",
              "      <td>57.0</td>\n",
              "      <td>51.6</td>\n",
              "      <td>81.6</td>\n",
              "      <td>...</td>\n",
              "      <td>1.7</td>\n",
              "      <td>1</td>\n",
              "      <td>NaN</td>\n",
              "      <td>2022-01-02T07:27:00</td>\n",
              "      <td>2022-01-02T16:57:43</td>\n",
              "      <td>1.00</td>\n",
              "      <td>Rain, Overcast</td>\n",
              "      <td>Cloudy skies throughout the day with rain clea...</td>\n",
              "      <td>rain</td>\n",
              "      <td>KDCA,72405013743,72403793728,F0198,KADW,KDAA,7...</td>\n",
              "    </tr>\n",
              "    <tr>\n",
              "      <th>2</th>\n",
              "      <td>Washington,DC,USA</td>\n",
              "      <td>2022-01-03</td>\n",
              "      <td>46.0</td>\n",
              "      <td>26.1</td>\n",
              "      <td>32.7</td>\n",
              "      <td>39.4</td>\n",
              "      <td>14.3</td>\n",
              "      <td>23.0</td>\n",
              "      <td>26.6</td>\n",
              "      <td>78.7</td>\n",
              "      <td>...</td>\n",
              "      <td>0.0</td>\n",
              "      <td>0</td>\n",
              "      <td>NaN</td>\n",
              "      <td>2022-01-03T07:27:05</td>\n",
              "      <td>2022-01-03T16:58:34</td>\n",
              "      <td>0.00</td>\n",
              "      <td>Snow, Rain, Partially cloudy</td>\n",
              "      <td>Partly cloudy throughout the day with a chance...</td>\n",
              "      <td>snow</td>\n",
              "      <td>KDCA,72405013743,72403793728,F0198,KADW,KDAA,A...</td>\n",
              "    </tr>\n",
              "    <tr>\n",
              "      <th>3</th>\n",
              "      <td>Washington,DC,USA</td>\n",
              "      <td>2022-01-04</td>\n",
              "      <td>34.0</td>\n",
              "      <td>25.3</td>\n",
              "      <td>29.4</td>\n",
              "      <td>33.7</td>\n",
              "      <td>16.0</td>\n",
              "      <td>24.0</td>\n",
              "      <td>19.2</td>\n",
              "      <td>65.7</td>\n",
              "      <td>...</td>\n",
              "      <td>5.4</td>\n",
              "      <td>6</td>\n",
              "      <td>NaN</td>\n",
              "      <td>2022-01-04T07:27:07</td>\n",
              "      <td>2022-01-04T16:59:27</td>\n",
              "      <td>0.02</td>\n",
              "      <td>Clear</td>\n",
              "      <td>Clear conditions throughout the day.</td>\n",
              "      <td>snow</td>\n",
              "      <td>KDCA,72405013743,72403793728,D6279,F0198,KADW,...</td>\n",
              "    </tr>\n",
              "    <tr>\n",
              "      <th>4</th>\n",
              "      <td>Washington,DC,USA</td>\n",
              "      <td>2022-01-05</td>\n",
              "      <td>40.8</td>\n",
              "      <td>28.1</td>\n",
              "      <td>35.8</td>\n",
              "      <td>37.2</td>\n",
              "      <td>19.8</td>\n",
              "      <td>29.5</td>\n",
              "      <td>29.0</td>\n",
              "      <td>76.3</td>\n",
              "      <td>...</td>\n",
              "      <td>2.2</td>\n",
              "      <td>1</td>\n",
              "      <td>NaN</td>\n",
              "      <td>2022-01-05T07:27:08</td>\n",
              "      <td>2022-01-05T17:00:21</td>\n",
              "      <td>0.05</td>\n",
              "      <td>Partially cloudy</td>\n",
              "      <td>Partly cloudy throughout the day.</td>\n",
              "      <td>partly-cloudy-day</td>\n",
              "      <td>KDCA,72405013743,72403793728,F0198,KADW,KDAA,7...</td>\n",
              "    </tr>\n",
              "  </tbody>\n",
              "</table>\n",
              "<p>5 rows × 33 columns</p>\n",
              "</div>"
            ],
            "text/plain": [
              "                name    datetime  tempmax  tempmin  temp  feelslikemax   \n",
              "0  Washington,DC,USA  2022-01-01     63.5     54.1  58.3          63.5  \\\n",
              "1  Washington,DC,USA  2022-01-02     62.7     47.8  57.5          62.7   \n",
              "2  Washington,DC,USA  2022-01-03     46.0     26.1  32.7          39.4   \n",
              "3  Washington,DC,USA  2022-01-04     34.0     25.3  29.4          33.7   \n",
              "4  Washington,DC,USA  2022-01-05     40.8     28.1  35.8          37.2   \n",
              "\n",
              "   feelslikemin  feelslike   dew  humidity  ...  solarenergy  uvindex   \n",
              "0          54.1       58.3  56.0      92.1  ...          0.6        0  \\\n",
              "1          42.0       57.0  51.6      81.6  ...          1.7        1   \n",
              "2          14.3       23.0  26.6      78.7  ...          0.0        0   \n",
              "3          16.0       24.0  19.2      65.7  ...          5.4        6   \n",
              "4          19.8       29.5  29.0      76.3  ...          2.2        1   \n",
              "\n",
              "   severerisk              sunrise               sunset  moonphase   \n",
              "0         NaN  2022-01-01T07:26:53  2022-01-01T16:56:53       0.99  \\\n",
              "1         NaN  2022-01-02T07:27:00  2022-01-02T16:57:43       1.00   \n",
              "2         NaN  2022-01-03T07:27:05  2022-01-03T16:58:34       0.00   \n",
              "3         NaN  2022-01-04T07:27:07  2022-01-04T16:59:27       0.02   \n",
              "4         NaN  2022-01-05T07:27:08  2022-01-05T17:00:21       0.05   \n",
              "\n",
              "                     conditions   \n",
              "0                Rain, Overcast  \\\n",
              "1                Rain, Overcast   \n",
              "2  Snow, Rain, Partially cloudy   \n",
              "3                         Clear   \n",
              "4              Partially cloudy   \n",
              "\n",
              "                                         description               icon   \n",
              "0         Cloudy skies throughout the day with rain.               rain  \\\n",
              "1  Cloudy skies throughout the day with rain clea...               rain   \n",
              "2  Partly cloudy throughout the day with a chance...               snow   \n",
              "3               Clear conditions throughout the day.               snow   \n",
              "4                  Partly cloudy throughout the day.  partly-cloudy-day   \n",
              "\n",
              "                                            stations  \n",
              "0  KDCA,72405013743,72403793728,F0198,KADW,KDAA,A...  \n",
              "1  KDCA,72405013743,72403793728,F0198,KADW,KDAA,7...  \n",
              "2  KDCA,72405013743,72403793728,F0198,KADW,KDAA,A...  \n",
              "3  KDCA,72405013743,72403793728,D6279,F0198,KADW,...  \n",
              "4  KDCA,72405013743,72403793728,F0198,KADW,KDAA,7...  \n",
              "\n",
              "[5 rows x 33 columns]"
            ]
          },
          "execution_count": 15,
          "metadata": {},
          "output_type": "execute_result"
        }
      ],
      "source": [
        "df_weather = pd.read_csv('DC Weather 2022-01-01 to 2022-12-31.csv')\n",
        "\n",
        "df_weather.head()"
      ]
    },
    {
      "cell_type": "markdown",
      "id": "6b289bbc",
      "metadata": {
        "id": "6b289bbc"
      },
      "source": [
        "## Check missing values"
      ]
    },
    {
      "cell_type": "code",
      "execution_count": null,
      "id": "8c89c41a",
      "metadata": {
        "id": "8c89c41a",
        "outputId": "3dcb7d0e-052c-46aa-d465-cb643225e0a3"
      },
      "outputs": [
        {
          "data": {
            "image/png": "[encoded data removed]",
            "text/plain": [
              "<Figure size 432x288 with 2 Axes>"
            ]
          },
          "metadata": {
            "needs_background": "light"
          },
          "output_type": "display_data"
        }
      ],
      "source": [
        "# Date time format \n",
        "df_weather['datetime'] = pd.to_datetime(df_weather['datetime']).dt.date\n",
        "\n",
        "# Use sns heatmap to see whats are the null values.\n",
        "coln = df_weather.columns[:df_weather.shape[1]]  \n",
        "colors = ['#000099','#ffff00'] # specify the colors - yellow is missing. blue is not missing.\n",
        "sns.heatmap(df_weather[coln].isnull(), cmap = sns.color_palette(colors))\n",
        "plt.show()"
      ]
    },
    {
      "cell_type": "markdown",
      "id": "94f6001e",
      "metadata": {
        "id": "94f6001e"
      },
      "source": [
        "## Drop variables of your choice"
      ]
    },
    {
      "cell_type": "code",
      "execution_count": null,
      "id": "82a937c9",
      "metadata": {
        "id": "82a937c9"
      },
      "outputs": [],
      "source": [
        "# Drop unnecessary variables\n",
        "df_weather=df_weather.drop(columns=['name', 'stations','description','sunrise','sunset','conditions','severerisk','preciptype','windgust'])"
      ]
    },
    {
      "cell_type": "code",
      "execution_count": null,
      "id": "891e6a0b",
      "metadata": {
        "id": "891e6a0b",
        "outputId": "c84466d2-cc02-4e6f-98bc-cffd61547948"
      },
      "outputs": [
        {
          "name": "stdout",
          "output_type": "stream",
          "text": [
            "<class 'pandas.core.frame.DataFrame'>\n",
            "RangeIndex: 365 entries, 0 to 364\n",
            "Data columns (total 24 columns):\n",
            " #   Column            Non-Null Count  Dtype  \n",
            "---  ------            --------------  -----  \n",
            " 0   datetime          365 non-null    object \n",
            " 1   tempmax           365 non-null    float64\n",
            " 2   tempmin           365 non-null    float64\n",
            " 3   temp              365 non-null    float64\n",
            " 4   feelslikemax      365 non-null    float64\n",
            " 5   feelslikemin      365 non-null    float64\n",
            " 6   feelslike         365 non-null    float64\n",
            " 7   dew               365 non-null    float64\n",
            " 8   humidity          365 non-null    float64\n",
            " 9   precip            365 non-null    float64\n",
            " 10  precipprob        365 non-null    int64  \n",
            " 11  precipcover       365 non-null    float64\n",
            " 12  snow              365 non-null    float64\n",
            " 13  snowdepth         365 non-null    float64\n",
            " 14  windspeed         365 non-null    float64\n",
            " 15  winddir           365 non-null    float64\n",
            " 16  sealevelpressure  365 non-null    float64\n",
            " 17  cloudcover        365 non-null    float64\n",
            " 18  visibility        365 non-null    float64\n",
            " 19  solarradiation    365 non-null    float64\n",
            " 20  solarenergy       365 non-null    float64\n",
            " 21  uvindex           365 non-null    int64  \n",
            " 22  moonphase         365 non-null    float64\n",
            " 23  icon              365 non-null    object \n",
            "dtypes: float64(20), int64(2), object(2)\n",
            "memory usage: 68.6+ KB\n"
          ]
        }
      ],
      "source": [
        "df_weather.info()"
      ]
    },
    {
      "cell_type": "markdown",
      "id": "a28e9ce3",
      "metadata": {
        "id": "a28e9ce3"
      },
      "source": [
        "## Prepare X and y: Merge weather data with trip data"
      ]
    },
    {
      "cell_type": "code",
      "execution_count": null,
      "id": "a5ea795f",
      "metadata": {
        "id": "a5ea795f"
      },
      "outputs": [],
      "source": [
        "# Merge with weather data and remove dates and station name\n",
        "\n",
        "df_m_pu = df_pu.merge(df_weather, left_on='started_at_date', right_on='datetime') \n",
        "df_m_pu = df_m_pu.drop(columns=['started_at_date','start_station_name','datetime'])\n",
        "df_m_do = df_do.merge(df_weather, left_on='ended_at_date', right_on='datetime') \n",
        "df_m_do = df_m_do.drop(columns=['ended_at_date','end_station_name','datetime'])"
      ]
    },
    {
      "cell_type": "code",
      "execution_count": null,
      "id": "3a52496e",
      "metadata": {
        "id": "3a52496e",
        "outputId": "db11a3bb-8f7b-4e8b-9f9a-5f57708a950c"
      },
      "outputs": [
        {
          "data": {
            "text/html": [
              "<div>\n",
              "<style scoped>\n",
              "    .dataframe tbody tr th:only-of-type {\n",
              "        vertical-align: middle;\n",
              "    }\n",
              "\n",
              "    .dataframe tbody tr th {\n",
              "        vertical-align: top;\n",
              "    }\n",
              "\n",
              "    .dataframe thead th {\n",
              "        text-align: right;\n",
              "    }\n",
              "</style>\n",
              "<table border=\"1\" class=\"dataframe\">\n",
              "  <thead>\n",
              "    <tr style=\"text-align: right;\">\n",
              "      <th></th>\n",
              "      <th>pu_ct</th>\n",
              "      <th>tempmax</th>\n",
              "      <th>tempmin</th>\n",
              "      <th>temp</th>\n",
              "      <th>feelslikemax</th>\n",
              "      <th>feelslikemin</th>\n",
              "      <th>feelslike</th>\n",
              "      <th>dew</th>\n",
              "      <th>humidity</th>\n",
              "      <th>precip</th>\n",
              "      <th>...</th>\n",
              "      <th>windspeed</th>\n",
              "      <th>winddir</th>\n",
              "      <th>sealevelpressure</th>\n",
              "      <th>cloudcover</th>\n",
              "      <th>visibility</th>\n",
              "      <th>solarradiation</th>\n",
              "      <th>solarenergy</th>\n",
              "      <th>uvindex</th>\n",
              "      <th>moonphase</th>\n",
              "      <th>icon</th>\n",
              "    </tr>\n",
              "  </thead>\n",
              "  <tbody>\n",
              "    <tr>\n",
              "      <th>0</th>\n",
              "      <td>7</td>\n",
              "      <td>63.5</td>\n",
              "      <td>54.1</td>\n",
              "      <td>58.3</td>\n",
              "      <td>63.5</td>\n",
              "      <td>54.1</td>\n",
              "      <td>58.3</td>\n",
              "      <td>56.0</td>\n",
              "      <td>92.1</td>\n",
              "      <td>0.448</td>\n",
              "      <td>...</td>\n",
              "      <td>11.4</td>\n",
              "      <td>190.2</td>\n",
              "      <td>1007.2</td>\n",
              "      <td>99.5</td>\n",
              "      <td>6.2</td>\n",
              "      <td>21.4</td>\n",
              "      <td>0.6</td>\n",
              "      <td>0</td>\n",
              "      <td>0.99</td>\n",
              "      <td>rain</td>\n",
              "    </tr>\n",
              "    <tr>\n",
              "      <th>1</th>\n",
              "      <td>5</td>\n",
              "      <td>62.7</td>\n",
              "      <td>47.8</td>\n",
              "      <td>57.5</td>\n",
              "      <td>62.7</td>\n",
              "      <td>42.0</td>\n",
              "      <td>57.0</td>\n",
              "      <td>51.6</td>\n",
              "      <td>81.6</td>\n",
              "      <td>0.124</td>\n",
              "      <td>...</td>\n",
              "      <td>18.9</td>\n",
              "      <td>290.7</td>\n",
              "      <td>1006.6</td>\n",
              "      <td>91.6</td>\n",
              "      <td>9.6</td>\n",
              "      <td>47.3</td>\n",
              "      <td>1.7</td>\n",
              "      <td>1</td>\n",
              "      <td>1.00</td>\n",
              "      <td>rain</td>\n",
              "    </tr>\n",
              "    <tr>\n",
              "      <th>2</th>\n",
              "      <td>2</td>\n",
              "      <td>34.0</td>\n",
              "      <td>25.3</td>\n",
              "      <td>29.4</td>\n",
              "      <td>33.7</td>\n",
              "      <td>16.0</td>\n",
              "      <td>24.0</td>\n",
              "      <td>19.2</td>\n",
              "      <td>65.7</td>\n",
              "      <td>0.000</td>\n",
              "      <td>...</td>\n",
              "      <td>14.1</td>\n",
              "      <td>192.1</td>\n",
              "      <td>1029.7</td>\n",
              "      <td>18.7</td>\n",
              "      <td>9.9</td>\n",
              "      <td>153.2</td>\n",
              "      <td>5.4</td>\n",
              "      <td>6</td>\n",
              "      <td>0.02</td>\n",
              "      <td>snow</td>\n",
              "    </tr>\n",
              "    <tr>\n",
              "      <th>3</th>\n",
              "      <td>5</td>\n",
              "      <td>40.8</td>\n",
              "      <td>28.1</td>\n",
              "      <td>35.8</td>\n",
              "      <td>37.2</td>\n",
              "      <td>19.8</td>\n",
              "      <td>29.5</td>\n",
              "      <td>29.0</td>\n",
              "      <td>76.3</td>\n",
              "      <td>0.000</td>\n",
              "      <td>...</td>\n",
              "      <td>13.6</td>\n",
              "      <td>195.2</td>\n",
              "      <td>1014.5</td>\n",
              "      <td>82.6</td>\n",
              "      <td>9.9</td>\n",
              "      <td>63.5</td>\n",
              "      <td>2.2</td>\n",
              "      <td>1</td>\n",
              "      <td>0.05</td>\n",
              "      <td>partly-cloudy-day</td>\n",
              "    </tr>\n",
              "    <tr>\n",
              "      <th>4</th>\n",
              "      <td>10</td>\n",
              "      <td>42.9</td>\n",
              "      <td>36.9</td>\n",
              "      <td>39.8</td>\n",
              "      <td>40.6</td>\n",
              "      <td>29.5</td>\n",
              "      <td>35.3</td>\n",
              "      <td>24.2</td>\n",
              "      <td>55.0</td>\n",
              "      <td>0.000</td>\n",
              "      <td>...</td>\n",
              "      <td>12.9</td>\n",
              "      <td>16.0</td>\n",
              "      <td>1012.7</td>\n",
              "      <td>88.1</td>\n",
              "      <td>9.9</td>\n",
              "      <td>145.6</td>\n",
              "      <td>5.3</td>\n",
              "      <td>4</td>\n",
              "      <td>0.09</td>\n",
              "      <td>snow</td>\n",
              "    </tr>\n",
              "  </tbody>\n",
              "</table>\n",
              "<p>5 rows × 24 columns</p>\n",
              "</div>"
            ],
            "text/plain": [
              "   pu_ct  tempmax  tempmin  temp  feelslikemax  feelslikemin  feelslike   dew   \n",
              "0      7     63.5     54.1  58.3          63.5          54.1       58.3  56.0  \\\n",
              "1      5     62.7     47.8  57.5          62.7          42.0       57.0  51.6   \n",
              "2      2     34.0     25.3  29.4          33.7          16.0       24.0  19.2   \n",
              "3      5     40.8     28.1  35.8          37.2          19.8       29.5  29.0   \n",
              "4     10     42.9     36.9  39.8          40.6          29.5       35.3  24.2   \n",
              "\n",
              "   humidity  precip  ...  windspeed  winddir  sealevelpressure  cloudcover   \n",
              "0      92.1   0.448  ...       11.4    190.2            1007.2        99.5  \\\n",
              "1      81.6   0.124  ...       18.9    290.7            1006.6        91.6   \n",
              "2      65.7   0.000  ...       14.1    192.1            1029.7        18.7   \n",
              "3      76.3   0.000  ...       13.6    195.2            1014.5        82.6   \n",
              "4      55.0   0.000  ...       12.9     16.0            1012.7        88.1   \n",
              "\n",
              "   visibility  solarradiation  solarenergy  uvindex  moonphase   \n",
              "0         6.2            21.4          0.6        0       0.99  \\\n",
              "1         9.6            47.3          1.7        1       1.00   \n",
              "2         9.9           153.2          5.4        6       0.02   \n",
              "3         9.9            63.5          2.2        1       0.05   \n",
              "4         9.9           145.6          5.3        4       0.09   \n",
              "\n",
              "                icon  \n",
              "0               rain  \n",
              "1               rain  \n",
              "2               snow  \n",
              "3  partly-cloudy-day  \n",
              "4               snow  \n",
              "\n",
              "[5 rows x 24 columns]"
            ]
          },
          "execution_count": 20,
          "metadata": {},
          "output_type": "execute_result"
        }
      ],
      "source": [
        "df_m_pu.head()"
      ]
    },
    {
      "cell_type": "code",
      "execution_count": null,
      "id": "b4c42242",
      "metadata": {
        "id": "b4c42242",
        "outputId": "027f482e-b73b-4ce2-d8c2-d03dbef3eb24"
      },
      "outputs": [
        {
          "data": {
            "text/html": [
              "<div>\n",
              "<style scoped>\n",
              "    .dataframe tbody tr th:only-of-type {\n",
              "        vertical-align: middle;\n",
              "    }\n",
              "\n",
              "    .dataframe tbody tr th {\n",
              "        vertical-align: top;\n",
              "    }\n",
              "\n",
              "    .dataframe thead th {\n",
              "        text-align: right;\n",
              "    }\n",
              "</style>\n",
              "<table border=\"1\" class=\"dataframe\">\n",
              "  <thead>\n",
              "    <tr style=\"text-align: right;\">\n",
              "      <th></th>\n",
              "      <th>do_ct</th>\n",
              "      <th>tempmax</th>\n",
              "      <th>tempmin</th>\n",
              "      <th>temp</th>\n",
              "      <th>feelslikemax</th>\n",
              "      <th>feelslikemin</th>\n",
              "      <th>feelslike</th>\n",
              "      <th>dew</th>\n",
              "      <th>humidity</th>\n",
              "      <th>precip</th>\n",
              "      <th>...</th>\n",
              "      <th>windspeed</th>\n",
              "      <th>winddir</th>\n",
              "      <th>sealevelpressure</th>\n",
              "      <th>cloudcover</th>\n",
              "      <th>visibility</th>\n",
              "      <th>solarradiation</th>\n",
              "      <th>solarenergy</th>\n",
              "      <th>uvindex</th>\n",
              "      <th>moonphase</th>\n",
              "      <th>icon</th>\n",
              "    </tr>\n",
              "  </thead>\n",
              "  <tbody>\n",
              "    <tr>\n",
              "      <th>0</th>\n",
              "      <td>5</td>\n",
              "      <td>63.5</td>\n",
              "      <td>54.1</td>\n",
              "      <td>58.3</td>\n",
              "      <td>63.5</td>\n",
              "      <td>54.1</td>\n",
              "      <td>58.3</td>\n",
              "      <td>56.0</td>\n",
              "      <td>92.1</td>\n",
              "      <td>0.448</td>\n",
              "      <td>...</td>\n",
              "      <td>11.4</td>\n",
              "      <td>190.2</td>\n",
              "      <td>1007.2</td>\n",
              "      <td>99.5</td>\n",
              "      <td>6.2</td>\n",
              "      <td>21.4</td>\n",
              "      <td>0.6</td>\n",
              "      <td>0</td>\n",
              "      <td>0.99</td>\n",
              "      <td>rain</td>\n",
              "    </tr>\n",
              "    <tr>\n",
              "      <th>1</th>\n",
              "      <td>5</td>\n",
              "      <td>62.7</td>\n",
              "      <td>47.8</td>\n",
              "      <td>57.5</td>\n",
              "      <td>62.7</td>\n",
              "      <td>42.0</td>\n",
              "      <td>57.0</td>\n",
              "      <td>51.6</td>\n",
              "      <td>81.6</td>\n",
              "      <td>0.124</td>\n",
              "      <td>...</td>\n",
              "      <td>18.9</td>\n",
              "      <td>290.7</td>\n",
              "      <td>1006.6</td>\n",
              "      <td>91.6</td>\n",
              "      <td>9.6</td>\n",
              "      <td>47.3</td>\n",
              "      <td>1.7</td>\n",
              "      <td>1</td>\n",
              "      <td>1.00</td>\n",
              "      <td>rain</td>\n",
              "    </tr>\n",
              "    <tr>\n",
              "      <th>2</th>\n",
              "      <td>6</td>\n",
              "      <td>34.0</td>\n",
              "      <td>25.3</td>\n",
              "      <td>29.4</td>\n",
              "      <td>33.7</td>\n",
              "      <td>16.0</td>\n",
              "      <td>24.0</td>\n",
              "      <td>19.2</td>\n",
              "      <td>65.7</td>\n",
              "      <td>0.000</td>\n",
              "      <td>...</td>\n",
              "      <td>14.1</td>\n",
              "      <td>192.1</td>\n",
              "      <td>1029.7</td>\n",
              "      <td>18.7</td>\n",
              "      <td>9.9</td>\n",
              "      <td>153.2</td>\n",
              "      <td>5.4</td>\n",
              "      <td>6</td>\n",
              "      <td>0.02</td>\n",
              "      <td>snow</td>\n",
              "    </tr>\n",
              "    <tr>\n",
              "      <th>3</th>\n",
              "      <td>5</td>\n",
              "      <td>40.8</td>\n",
              "      <td>28.1</td>\n",
              "      <td>35.8</td>\n",
              "      <td>37.2</td>\n",
              "      <td>19.8</td>\n",
              "      <td>29.5</td>\n",
              "      <td>29.0</td>\n",
              "      <td>76.3</td>\n",
              "      <td>0.000</td>\n",
              "      <td>...</td>\n",
              "      <td>13.6</td>\n",
              "      <td>195.2</td>\n",
              "      <td>1014.5</td>\n",
              "      <td>82.6</td>\n",
              "      <td>9.9</td>\n",
              "      <td>63.5</td>\n",
              "      <td>2.2</td>\n",
              "      <td>1</td>\n",
              "      <td>0.05</td>\n",
              "      <td>partly-cloudy-day</td>\n",
              "    </tr>\n",
              "    <tr>\n",
              "      <th>4</th>\n",
              "      <td>10</td>\n",
              "      <td>42.9</td>\n",
              "      <td>36.9</td>\n",
              "      <td>39.8</td>\n",
              "      <td>40.6</td>\n",
              "      <td>29.5</td>\n",
              "      <td>35.3</td>\n",
              "      <td>24.2</td>\n",
              "      <td>55.0</td>\n",
              "      <td>0.000</td>\n",
              "      <td>...</td>\n",
              "      <td>12.9</td>\n",
              "      <td>16.0</td>\n",
              "      <td>1012.7</td>\n",
              "      <td>88.1</td>\n",
              "      <td>9.9</td>\n",
              "      <td>145.6</td>\n",
              "      <td>5.3</td>\n",
              "      <td>4</td>\n",
              "      <td>0.09</td>\n",
              "      <td>snow</td>\n",
              "    </tr>\n",
              "  </tbody>\n",
              "</table>\n",
              "<p>5 rows × 24 columns</p>\n",
              "</div>"
            ],
            "text/plain": [
              "   do_ct  tempmax  tempmin  temp  feelslikemax  feelslikemin  feelslike   dew   \n",
              "0      5     63.5     54.1  58.3          63.5          54.1       58.3  56.0  \\\n",
              "1      5     62.7     47.8  57.5          62.7          42.0       57.0  51.6   \n",
              "2      6     34.0     25.3  29.4          33.7          16.0       24.0  19.2   \n",
              "3      5     40.8     28.1  35.8          37.2          19.8       29.5  29.0   \n",
              "4     10     42.9     36.9  39.8          40.6          29.5       35.3  24.2   \n",
              "\n",
              "   humidity  precip  ...  windspeed  winddir  sealevelpressure  cloudcover   \n",
              "0      92.1   0.448  ...       11.4    190.2            1007.2        99.5  \\\n",
              "1      81.6   0.124  ...       18.9    290.7            1006.6        91.6   \n",
              "2      65.7   0.000  ...       14.1    192.1            1029.7        18.7   \n",
              "3      76.3   0.000  ...       13.6    195.2            1014.5        82.6   \n",
              "4      55.0   0.000  ...       12.9     16.0            1012.7        88.1   \n",
              "\n",
              "   visibility  solarradiation  solarenergy  uvindex  moonphase   \n",
              "0         6.2            21.4          0.6        0       0.99  \\\n",
              "1         9.6            47.3          1.7        1       1.00   \n",
              "2         9.9           153.2          5.4        6       0.02   \n",
              "3         9.9            63.5          2.2        1       0.05   \n",
              "4         9.9           145.6          5.3        4       0.09   \n",
              "\n",
              "                icon  \n",
              "0               rain  \n",
              "1               rain  \n",
              "2               snow  \n",
              "3  partly-cloudy-day  \n",
              "4               snow  \n",
              "\n",
              "[5 rows x 24 columns]"
            ]
          },
          "execution_count": 21,
          "metadata": {},
          "output_type": "execute_result"
        }
      ],
      "source": [
        "df_m_do.head()"
      ]
    },
    {
      "cell_type": "code",
      "execution_count": null,
      "id": "8cd69dfb",
      "metadata": {
        "id": "8cd69dfb",
        "scrolled": true,
        "outputId": "93b027a7-7b12-4a98-f63f-4178226008ee"
      },
      "outputs": [
        {
          "data": {
            "text/plain": [
              "array(['rain', 'snow', 'partly-cloudy-day', 'clear-day', 'wind'],\n",
              "      dtype=object)"
            ]
          },
          "execution_count": 22,
          "metadata": {},
          "output_type": "execute_result"
        }
      ],
      "source": [
        "df_m_pu.icon.unique()"
      ]
    },
    {
      "cell_type": "code",
      "execution_count": null,
      "id": "d3698f92",
      "metadata": {
        "id": "d3698f92",
        "outputId": "f192d0a8-3a53-447d-ca2d-d5f54e0c64b6"
      },
      "outputs": [
        {
          "data": {
            "text/plain": [
              "array(['rain', 'snow', 'partly-cloudy-day', 'clear-day', 'wind'],\n",
              "      dtype=object)"
            ]
          },
          "execution_count": 23,
          "metadata": {},
          "output_type": "execute_result"
        }
      ],
      "source": [
        "df_m_do.icon.unique()"
      ]
    },
    {
      "cell_type": "code",
      "execution_count": null,
      "id": "4e8f69bc",
      "metadata": {
        "id": "4e8f69bc",
        "outputId": "8bb2b0f7-cf38-4664-9177-d479591153f8"
      },
      "outputs": [
        {
          "data": {
            "text/html": [
              "<div>\n",
              "<style scoped>\n",
              "    .dataframe tbody tr th:only-of-type {\n",
              "        vertical-align: middle;\n",
              "    }\n",
              "\n",
              "    .dataframe tbody tr th {\n",
              "        vertical-align: top;\n",
              "    }\n",
              "\n",
              "    .dataframe thead th {\n",
              "        text-align: right;\n",
              "    }\n",
              "</style>\n",
              "<table border=\"1\" class=\"dataframe\">\n",
              "  <thead>\n",
              "    <tr style=\"text-align: right;\">\n",
              "      <th></th>\n",
              "      <th>pu_ct</th>\n",
              "      <th>tempmax</th>\n",
              "      <th>tempmin</th>\n",
              "      <th>temp</th>\n",
              "      <th>feelslikemax</th>\n",
              "      <th>feelslikemin</th>\n",
              "      <th>feelslike</th>\n",
              "      <th>dew</th>\n",
              "      <th>humidity</th>\n",
              "      <th>precip</th>\n",
              "      <th>...</th>\n",
              "      <th>snowdepth</th>\n",
              "      <th>windspeed</th>\n",
              "      <th>winddir</th>\n",
              "      <th>sealevelpressure</th>\n",
              "      <th>cloudcover</th>\n",
              "      <th>visibility</th>\n",
              "      <th>solarradiation</th>\n",
              "      <th>solarenergy</th>\n",
              "      <th>uvindex</th>\n",
              "      <th>moonphase</th>\n",
              "    </tr>\n",
              "  </thead>\n",
              "  <tbody>\n",
              "    <tr>\n",
              "      <th>count</th>\n",
              "      <td>118.000000</td>\n",
              "      <td>118.000000</td>\n",
              "      <td>118.000000</td>\n",
              "      <td>118.000000</td>\n",
              "      <td>118.000000</td>\n",
              "      <td>118.000000</td>\n",
              "      <td>118.000000</td>\n",
              "      <td>118.000000</td>\n",
              "      <td>118.000000</td>\n",
              "      <td>118.000000</td>\n",
              "      <td>...</td>\n",
              "      <td>118.000000</td>\n",
              "      <td>118.000000</td>\n",
              "      <td>118.000000</td>\n",
              "      <td>118.000000</td>\n",
              "      <td>118.000000</td>\n",
              "      <td>118.000000</td>\n",
              "      <td>118.000000</td>\n",
              "      <td>118.000000</td>\n",
              "      <td>118.000000</td>\n",
              "      <td>118.000000</td>\n",
              "    </tr>\n",
              "    <tr>\n",
              "      <th>mean</th>\n",
              "      <td>33.966102</td>\n",
              "      <td>54.738983</td>\n",
              "      <td>37.410169</td>\n",
              "      <td>45.611017</td>\n",
              "      <td>52.688983</td>\n",
              "      <td>31.301695</td>\n",
              "      <td>41.855932</td>\n",
              "      <td>29.454237</td>\n",
              "      <td>55.945763</td>\n",
              "      <td>0.092534</td>\n",
              "      <td>...</td>\n",
              "      <td>0.267797</td>\n",
              "      <td>17.129661</td>\n",
              "      <td>205.262712</td>\n",
              "      <td>1019.207627</td>\n",
              "      <td>66.762712</td>\n",
              "      <td>9.350847</td>\n",
              "      <td>94.108475</td>\n",
              "      <td>7.710169</td>\n",
              "      <td>4.872881</td>\n",
              "      <td>0.500085</td>\n",
              "    </tr>\n",
              "    <tr>\n",
              "      <th>std</th>\n",
              "      <td>18.887853</td>\n",
              "      <td>13.812753</td>\n",
              "      <td>11.097858</td>\n",
              "      <td>12.116343</td>\n",
              "      <td>16.111586</td>\n",
              "      <td>14.467949</td>\n",
              "      <td>15.181576</td>\n",
              "      <td>13.653074</td>\n",
              "      <td>14.085876</td>\n",
              "      <td>0.223970</td>\n",
              "      <td>...</td>\n",
              "      <td>0.949483</td>\n",
              "      <td>5.313928</td>\n",
              "      <td>106.409726</td>\n",
              "      <td>8.100883</td>\n",
              "      <td>23.464273</td>\n",
              "      <td>1.106990</td>\n",
              "      <td>48.900542</td>\n",
              "      <td>4.127941</td>\n",
              "      <td>2.632949</td>\n",
              "      <td>0.305207</td>\n",
              "    </tr>\n",
              "    <tr>\n",
              "      <th>min</th>\n",
              "      <td>2.000000</td>\n",
              "      <td>26.800000</td>\n",
              "      <td>16.700000</td>\n",
              "      <td>23.500000</td>\n",
              "      <td>16.600000</td>\n",
              "      <td>4.300000</td>\n",
              "      <td>11.700000</td>\n",
              "      <td>2.800000</td>\n",
              "      <td>30.100000</td>\n",
              "      <td>0.000000</td>\n",
              "      <td>...</td>\n",
              "      <td>0.000000</td>\n",
              "      <td>6.500000</td>\n",
              "      <td>1.000000</td>\n",
              "      <td>993.400000</td>\n",
              "      <td>9.000000</td>\n",
              "      <td>5.700000</td>\n",
              "      <td>7.500000</td>\n",
              "      <td>0.600000</td>\n",
              "      <td>0.000000</td>\n",
              "      <td>0.000000</td>\n",
              "    </tr>\n",
              "    <tr>\n",
              "      <th>25%</th>\n",
              "      <td>19.250000</td>\n",
              "      <td>43.200000</td>\n",
              "      <td>28.600000</td>\n",
              "      <td>35.850000</td>\n",
              "      <td>38.775000</td>\n",
              "      <td>19.400000</td>\n",
              "      <td>29.250000</td>\n",
              "      <td>19.675000</td>\n",
              "      <td>44.200000</td>\n",
              "      <td>0.000000</td>\n",
              "      <td>...</td>\n",
              "      <td>0.000000</td>\n",
              "      <td>13.000000</td>\n",
              "      <td>151.850000</td>\n",
              "      <td>1014.025000</td>\n",
              "      <td>50.600000</td>\n",
              "      <td>9.625000</td>\n",
              "      <td>52.075000</td>\n",
              "      <td>4.025000</td>\n",
              "      <td>3.000000</td>\n",
              "      <td>0.252500</td>\n",
              "    </tr>\n",
              "    <tr>\n",
              "      <th>50%</th>\n",
              "      <td>35.000000</td>\n",
              "      <td>55.050000</td>\n",
              "      <td>36.650000</td>\n",
              "      <td>46.700000</td>\n",
              "      <td>55.050000</td>\n",
              "      <td>30.150000</td>\n",
              "      <td>43.400000</td>\n",
              "      <td>28.450000</td>\n",
              "      <td>53.400000</td>\n",
              "      <td>0.000000</td>\n",
              "      <td>...</td>\n",
              "      <td>0.000000</td>\n",
              "      <td>16.600000</td>\n",
              "      <td>200.000000</td>\n",
              "      <td>1019.200000</td>\n",
              "      <td>70.250000</td>\n",
              "      <td>9.900000</td>\n",
              "      <td>100.400000</td>\n",
              "      <td>8.150000</td>\n",
              "      <td>5.000000</td>\n",
              "      <td>0.500000</td>\n",
              "    </tr>\n",
              "    <tr>\n",
              "      <th>75%</th>\n",
              "      <td>47.750000</td>\n",
              "      <td>64.950000</td>\n",
              "      <td>46.800000</td>\n",
              "      <td>54.575000</td>\n",
              "      <td>64.950000</td>\n",
              "      <td>42.675000</td>\n",
              "      <td>53.850000</td>\n",
              "      <td>38.150000</td>\n",
              "      <td>63.600000</td>\n",
              "      <td>0.028000</td>\n",
              "      <td>...</td>\n",
              "      <td>0.000000</td>\n",
              "      <td>20.675000</td>\n",
              "      <td>305.275000</td>\n",
              "      <td>1024.175000</td>\n",
              "      <td>86.150000</td>\n",
              "      <td>9.900000</td>\n",
              "      <td>134.275000</td>\n",
              "      <td>11.025000</td>\n",
              "      <td>7.000000</td>\n",
              "      <td>0.745000</td>\n",
              "    </tr>\n",
              "    <tr>\n",
              "      <th>max</th>\n",
              "      <td>74.000000</td>\n",
              "      <td>85.800000</td>\n",
              "      <td>61.000000</td>\n",
              "      <td>72.900000</td>\n",
              "      <td>84.300000</td>\n",
              "      <td>61.000000</td>\n",
              "      <td>72.800000</td>\n",
              "      <td>56.000000</td>\n",
              "      <td>92.100000</td>\n",
              "      <td>1.038000</td>\n",
              "      <td>...</td>\n",
              "      <td>6.700000</td>\n",
              "      <td>32.500000</td>\n",
              "      <td>358.900000</td>\n",
              "      <td>1037.200000</td>\n",
              "      <td>99.900000</td>\n",
              "      <td>9.900000</td>\n",
              "      <td>197.800000</td>\n",
              "      <td>16.400000</td>\n",
              "      <td>10.000000</td>\n",
              "      <td>1.000000</td>\n",
              "    </tr>\n",
              "  </tbody>\n",
              "</table>\n",
              "<p>8 rows × 23 columns</p>\n",
              "</div>"
            ],
            "text/plain": [
              "            pu_ct     tempmax     tempmin        temp  feelslikemax   \n",
              "count  118.000000  118.000000  118.000000  118.000000    118.000000  \\\n",
              "mean    33.966102   54.738983   37.410169   45.611017     52.688983   \n",
              "std     18.887853   13.812753   11.097858   12.116343     16.111586   \n",
              "min      2.000000   26.800000   16.700000   23.500000     16.600000   \n",
              "25%     19.250000   43.200000   28.600000   35.850000     38.775000   \n",
              "50%     35.000000   55.050000   36.650000   46.700000     55.050000   \n",
              "75%     47.750000   64.950000   46.800000   54.575000     64.950000   \n",
              "max     74.000000   85.800000   61.000000   72.900000     84.300000   \n",
              "\n",
              "       feelslikemin   feelslike         dew    humidity      precip  ...   \n",
              "count    118.000000  118.000000  118.000000  118.000000  118.000000  ...  \\\n",
              "mean      31.301695   41.855932   29.454237   55.945763    0.092534  ...   \n",
              "std       14.467949   15.181576   13.653074   14.085876    0.223970  ...   \n",
              "min        4.300000   11.700000    2.800000   30.100000    0.000000  ...   \n",
              "25%       19.400000   29.250000   19.675000   44.200000    0.000000  ...   \n",
              "50%       30.150000   43.400000   28.450000   53.400000    0.000000  ...   \n",
              "75%       42.675000   53.850000   38.150000   63.600000    0.028000  ...   \n",
              "max       61.000000   72.800000   56.000000   92.100000    1.038000  ...   \n",
              "\n",
              "        snowdepth   windspeed     winddir  sealevelpressure  cloudcover   \n",
              "count  118.000000  118.000000  118.000000        118.000000  118.000000  \\\n",
              "mean     0.267797   17.129661  205.262712       1019.207627   66.762712   \n",
              "std      0.949483    5.313928  106.409726          8.100883   23.464273   \n",
              "min      0.000000    6.500000    1.000000        993.400000    9.000000   \n",
              "25%      0.000000   13.000000  151.850000       1014.025000   50.600000   \n",
              "50%      0.000000   16.600000  200.000000       1019.200000   70.250000   \n",
              "75%      0.000000   20.675000  305.275000       1024.175000   86.150000   \n",
              "max      6.700000   32.500000  358.900000       1037.200000   99.900000   \n",
              "\n",
              "       visibility  solarradiation  solarenergy     uvindex   moonphase  \n",
              "count  118.000000      118.000000   118.000000  118.000000  118.000000  \n",
              "mean     9.350847       94.108475     7.710169    4.872881    0.500085  \n",
              "std      1.106990       48.900542     4.127941    2.632949    0.305207  \n",
              "min      5.700000        7.500000     0.600000    0.000000    0.000000  \n",
              "25%      9.625000       52.075000     4.025000    3.000000    0.252500  \n",
              "50%      9.900000      100.400000     8.150000    5.000000    0.500000  \n",
              "75%      9.900000      134.275000    11.025000    7.000000    0.745000  \n",
              "max      9.900000      197.800000    16.400000   10.000000    1.000000  \n",
              "\n",
              "[8 rows x 23 columns]"
            ]
          },
          "execution_count": 24,
          "metadata": {},
          "output_type": "execute_result"
        }
      ],
      "source": [
        "df_m_pu.describe()"
      ]
    },
    {
      "cell_type": "code",
      "execution_count": null,
      "id": "8809498e",
      "metadata": {
        "colab": {
          "base_uri": "https://localhost:8080/",
          "height": 164
        },
        "id": "8809498e",
        "outputId": "e1f4a037-389d-40a3-a2ec-d3aaf2ce61fd"
      },
      "outputs": [
        {
          "data": {
            "text/html": [
              "<div>\n",
              "<style scoped>\n",
              "    .dataframe tbody tr th:only-of-type {\n",
              "        vertical-align: middle;\n",
              "    }\n",
              "\n",
              "    .dataframe tbody tr th {\n",
              "        vertical-align: top;\n",
              "    }\n",
              "\n",
              "    .dataframe thead th {\n",
              "        text-align: right;\n",
              "    }\n",
              "</style>\n",
              "<table border=\"1\" class=\"dataframe\">\n",
              "  <thead>\n",
              "    <tr style=\"text-align: right;\">\n",
              "      <th></th>\n",
              "      <th>do_ct</th>\n",
              "      <th>tempmax</th>\n",
              "      <th>tempmin</th>\n",
              "      <th>temp</th>\n",
              "      <th>feelslikemax</th>\n",
              "      <th>feelslikemin</th>\n",
              "      <th>feelslike</th>\n",
              "      <th>dew</th>\n",
              "      <th>humidity</th>\n",
              "      <th>precip</th>\n",
              "      <th>...</th>\n",
              "      <th>snowdepth</th>\n",
              "      <th>windspeed</th>\n",
              "      <th>winddir</th>\n",
              "      <th>sealevelpressure</th>\n",
              "      <th>cloudcover</th>\n",
              "      <th>visibility</th>\n",
              "      <th>solarradiation</th>\n",
              "      <th>solarenergy</th>\n",
              "      <th>uvindex</th>\n",
              "      <th>moonphase</th>\n",
              "    </tr>\n",
              "  </thead>\n",
              "  <tbody>\n",
              "    <tr>\n",
              "      <th>count</th>\n",
              "      <td>118.000000</td>\n",
              "      <td>118.000000</td>\n",
              "      <td>118.000000</td>\n",
              "      <td>118.000000</td>\n",
              "      <td>118.000000</td>\n",
              "      <td>118.000000</td>\n",
              "      <td>118.000000</td>\n",
              "      <td>118.000000</td>\n",
              "      <td>118.000000</td>\n",
              "      <td>118.000000</td>\n",
              "      <td>...</td>\n",
              "      <td>118.000000</td>\n",
              "      <td>118.000000</td>\n",
              "      <td>118.000000</td>\n",
              "      <td>118.000000</td>\n",
              "      <td>118.000000</td>\n",
              "      <td>118.000000</td>\n",
              "      <td>118.000000</td>\n",
              "      <td>118.000000</td>\n",
              "      <td>118.000000</td>\n",
              "      <td>118.000000</td>\n",
              "    </tr>\n",
              "    <tr>\n",
              "      <th>mean</th>\n",
              "      <td>35.093220</td>\n",
              "      <td>54.738983</td>\n",
              "      <td>37.410169</td>\n",
              "      <td>45.611017</td>\n",
              "      <td>52.688983</td>\n",
              "      <td>31.301695</td>\n",
              "      <td>41.855932</td>\n",
              "      <td>29.454237</td>\n",
              "      <td>55.945763</td>\n",
              "      <td>0.092534</td>\n",
              "      <td>...</td>\n",
              "      <td>0.267797</td>\n",
              "      <td>17.129661</td>\n",
              "      <td>205.262712</td>\n",
              "      <td>1019.207627</td>\n",
              "      <td>66.762712</td>\n",
              "      <td>9.350847</td>\n",
              "      <td>94.108475</td>\n",
              "      <td>7.710169</td>\n",
              "      <td>4.872881</td>\n",
              "      <td>0.500085</td>\n",
              "    </tr>\n",
              "    <tr>\n",
              "      <th>std</th>\n",
              "      <td>19.856316</td>\n",
              "      <td>13.812753</td>\n",
              "      <td>11.097858</td>\n",
              "      <td>12.116343</td>\n",
              "      <td>16.111586</td>\n",
              "      <td>14.467949</td>\n",
              "      <td>15.181576</td>\n",
              "      <td>13.653074</td>\n",
              "      <td>14.085876</td>\n",
              "      <td>0.223970</td>\n",
              "      <td>...</td>\n",
              "      <td>0.949483</td>\n",
              "      <td>5.313928</td>\n",
              "      <td>106.409726</td>\n",
              "      <td>8.100883</td>\n",
              "      <td>23.464273</td>\n",
              "      <td>1.106990</td>\n",
              "      <td>48.900542</td>\n",
              "      <td>4.127941</td>\n",
              "      <td>2.632949</td>\n",
              "      <td>0.305207</td>\n",
              "    </tr>\n",
              "    <tr>\n",
              "      <th>min</th>\n",
              "      <td>1.000000</td>\n",
              "      <td>26.800000</td>\n",
              "      <td>16.700000</td>\n",
              "      <td>23.500000</td>\n",
              "      <td>16.600000</td>\n",
              "      <td>4.300000</td>\n",
              "      <td>11.700000</td>\n",
              "      <td>2.800000</td>\n",
              "      <td>30.100000</td>\n",
              "      <td>0.000000</td>\n",
              "      <td>...</td>\n",
              "      <td>0.000000</td>\n",
              "      <td>6.500000</td>\n",
              "      <td>1.000000</td>\n",
              "      <td>993.400000</td>\n",
              "      <td>9.000000</td>\n",
              "      <td>5.700000</td>\n",
              "      <td>7.500000</td>\n",
              "      <td>0.600000</td>\n",
              "      <td>0.000000</td>\n",
              "      <td>0.000000</td>\n",
              "    </tr>\n",
              "    <tr>\n",
              "      <th>25%</th>\n",
              "      <td>21.000000</td>\n",
              "      <td>43.200000</td>\n",
              "      <td>28.600000</td>\n",
              "      <td>35.850000</td>\n",
              "      <td>38.775000</td>\n",
              "      <td>19.400000</td>\n",
              "      <td>29.250000</td>\n",
              "      <td>19.675000</td>\n",
              "      <td>44.200000</td>\n",
              "      <td>0.000000</td>\n",
              "      <td>...</td>\n",
              "      <td>0.000000</td>\n",
              "      <td>13.000000</td>\n",
              "      <td>151.850000</td>\n",
              "      <td>1014.025000</td>\n",
              "      <td>50.600000</td>\n",
              "      <td>9.625000</td>\n",
              "      <td>52.075000</td>\n",
              "      <td>4.025000</td>\n",
              "      <td>3.000000</td>\n",
              "      <td>0.252500</td>\n",
              "    </tr>\n",
              "    <tr>\n",
              "      <th>50%</th>\n",
              "      <td>34.000000</td>\n",
              "      <td>55.050000</td>\n",
              "      <td>36.650000</td>\n",
              "      <td>46.700000</td>\n",
              "      <td>55.050000</td>\n",
              "      <td>30.150000</td>\n",
              "      <td>43.400000</td>\n",
              "      <td>28.450000</td>\n",
              "      <td>53.400000</td>\n",
              "      <td>0.000000</td>\n",
              "      <td>...</td>\n",
              "      <td>0.000000</td>\n",
              "      <td>16.600000</td>\n",
              "      <td>200.000000</td>\n",
              "      <td>1019.200000</td>\n",
              "      <td>70.250000</td>\n",
              "      <td>9.900000</td>\n",
              "      <td>100.400000</td>\n",
              "      <td>8.150000</td>\n",
              "      <td>5.000000</td>\n",
              "      <td>0.500000</td>\n",
              "    </tr>\n",
              "    <tr>\n",
              "      <th>75%</th>\n",
              "      <td>48.000000</td>\n",
              "      <td>64.950000</td>\n",
              "      <td>46.800000</td>\n",
              "      <td>54.575000</td>\n",
              "      <td>64.950000</td>\n",
              "      <td>42.675000</td>\n",
              "      <td>53.850000</td>\n",
              "      <td>38.150000</td>\n",
              "      <td>63.600000</td>\n",
              "      <td>0.028000</td>\n",
              "      <td>...</td>\n",
              "      <td>0.000000</td>\n",
              "      <td>20.675000</td>\n",
              "      <td>305.275000</td>\n",
              "      <td>1024.175000</td>\n",
              "      <td>86.150000</td>\n",
              "      <td>9.900000</td>\n",
              "      <td>134.275000</td>\n",
              "      <td>11.025000</td>\n",
              "      <td>7.000000</td>\n",
              "      <td>0.745000</td>\n",
              "    </tr>\n",
              "    <tr>\n",
              "      <th>max</th>\n",
              "      <td>76.000000</td>\n",
              "      <td>85.800000</td>\n",
              "      <td>61.000000</td>\n",
              "      <td>72.900000</td>\n",
              "      <td>84.300000</td>\n",
              "      <td>61.000000</td>\n",
              "      <td>72.800000</td>\n",
              "      <td>56.000000</td>\n",
              "      <td>92.100000</td>\n",
              "      <td>1.038000</td>\n",
              "      <td>...</td>\n",
              "      <td>6.700000</td>\n",
              "      <td>32.500000</td>\n",
              "      <td>358.900000</td>\n",
              "      <td>1037.200000</td>\n",
              "      <td>99.900000</td>\n",
              "      <td>9.900000</td>\n",
              "      <td>197.800000</td>\n",
              "      <td>16.400000</td>\n",
              "      <td>10.000000</td>\n",
              "      <td>1.000000</td>\n",
              "    </tr>\n",
              "  </tbody>\n",
              "</table>\n",
              "<p>8 rows × 23 columns</p>\n",
              "</div>"
            ],
            "text/plain": [
              "            do_ct     tempmax     tempmin        temp  feelslikemax   \n",
              "count  118.000000  118.000000  118.000000  118.000000    118.000000  \\\n",
              "mean    35.093220   54.738983   37.410169   45.611017     52.688983   \n",
              "std     19.856316   13.812753   11.097858   12.116343     16.111586   \n",
              "min      1.000000   26.800000   16.700000   23.500000     16.600000   \n",
              "25%     21.000000   43.200000   28.600000   35.850000     38.775000   \n",
              "50%     34.000000   55.050000   36.650000   46.700000     55.050000   \n",
              "75%     48.000000   64.950000   46.800000   54.575000     64.950000   \n",
              "max     76.000000   85.800000   61.000000   72.900000     84.300000   \n",
              "\n",
              "       feelslikemin   feelslike         dew    humidity      precip  ...   \n",
              "count    118.000000  118.000000  118.000000  118.000000  118.000000  ...  \\\n",
              "mean      31.301695   41.855932   29.454237   55.945763    0.092534  ...   \n",
              "std       14.467949   15.181576   13.653074   14.085876    0.223970  ...   \n",
              "min        4.300000   11.700000    2.800000   30.100000    0.000000  ...   \n",
              "25%       19.400000   29.250000   19.675000   44.200000    0.000000  ...   \n",
              "50%       30.150000   43.400000   28.450000   53.400000    0.000000  ...   \n",
              "75%       42.675000   53.850000   38.150000   63.600000    0.028000  ...   \n",
              "max       61.000000   72.800000   56.000000   92.100000    1.038000  ...   \n",
              "\n",
              "        snowdepth   windspeed     winddir  sealevelpressure  cloudcover   \n",
              "count  118.000000  118.000000  118.000000        118.000000  118.000000  \\\n",
              "mean     0.267797   17.129661  205.262712       1019.207627   66.762712   \n",
              "std      0.949483    5.313928  106.409726          8.100883   23.464273   \n",
              "min      0.000000    6.500000    1.000000        993.400000    9.000000   \n",
              "25%      0.000000   13.000000  151.850000       1014.025000   50.600000   \n",
              "50%      0.000000   16.600000  200.000000       1019.200000   70.250000   \n",
              "75%      0.000000   20.675000  305.275000       1024.175000   86.150000   \n",
              "max      6.700000   32.500000  358.900000       1037.200000   99.900000   \n",
              "\n",
              "       visibility  solarradiation  solarenergy     uvindex   moonphase  \n",
              "count  118.000000      118.000000   118.000000  118.000000  118.000000  \n",
              "mean     9.350847       94.108475     7.710169    4.872881    0.500085  \n",
              "std      1.106990       48.900542     4.127941    2.632949    0.305207  \n",
              "min      5.700000        7.500000     0.600000    0.000000    0.000000  \n",
              "25%      9.625000       52.075000     4.025000    3.000000    0.252500  \n",
              "50%      9.900000      100.400000     8.150000    5.000000    0.500000  \n",
              "75%      9.900000      134.275000    11.025000    7.000000    0.745000  \n",
              "max      9.900000      197.800000    16.400000   10.000000    1.000000  \n",
              "\n",
              "[8 rows x 23 columns]"
            ]
          },
          "execution_count": 25,
          "metadata": {},
          "output_type": "execute_result"
        }
      ],
      "source": [
        "df_m_do.describe()"
      ]
    },
    {
      "cell_type": "markdown",
      "id": "7ef1734d",
      "metadata": {
        "id": "7ef1734d"
      },
      "source": [
        "# Demo: train models for pickup"
      ]
    },
    {
      "cell_type": "code",
      "execution_count": null,
      "id": "995ad1cd",
      "metadata": {
        "id": "995ad1cd"
      },
      "outputs": [],
      "source": [
        "from sklearn.model_selection import train_test_split\n",
        "from sklearn.linear_model import LinearRegression\n",
        "from sklearn.metrics import mean_squared_error"
      ]
    },
    {
      "cell_type": "code",
      "execution_count": null,
      "id": "0217869f",
      "metadata": {
        "id": "0217869f",
        "outputId": "466bb08a-173a-4235-b457-f1df0d0628e1"
      },
      "outputs": [
        {
          "name": "stdout",
          "output_type": "stream",
          "text": [
            "<class 'pandas.core.frame.DataFrame'>\n",
            "RangeIndex: 118 entries, 0 to 117\n",
            "Data columns (total 26 columns):\n",
            " #   Column                  Non-Null Count  Dtype  \n",
            "---  ------                  --------------  -----  \n",
            " 0   tempmax                 118 non-null    float64\n",
            " 1   tempmin                 118 non-null    float64\n",
            " 2   temp                    118 non-null    float64\n",
            " 3   feelslikemax            118 non-null    float64\n",
            " 4   feelslikemin            118 non-null    float64\n",
            " 5   feelslike               118 non-null    float64\n",
            " 6   dew                     118 non-null    float64\n",
            " 7   humidity                118 non-null    float64\n",
            " 8   precip                  118 non-null    float64\n",
            " 9   precipprob              118 non-null    int64  \n",
            " 10  precipcover             118 non-null    float64\n",
            " 11  snow                    118 non-null    float64\n",
            " 12  snowdepth               118 non-null    float64\n",
            " 13  windspeed               118 non-null    float64\n",
            " 14  winddir                 118 non-null    float64\n",
            " 15  sealevelpressure        118 non-null    float64\n",
            " 16  cloudcover              118 non-null    float64\n",
            " 17  visibility              118 non-null    float64\n",
            " 18  solarradiation          118 non-null    float64\n",
            " 19  solarenergy             118 non-null    float64\n",
            " 20  uvindex                 118 non-null    int64  \n",
            " 21  moonphase               118 non-null    float64\n",
            " 22  icon_partly-cloudy-day  118 non-null    bool   \n",
            " 23  icon_rain               118 non-null    bool   \n",
            " 24  icon_snow               118 non-null    bool   \n",
            " 25  icon_wind               118 non-null    bool   \n",
            "dtypes: bool(4), float64(20), int64(2)\n",
            "memory usage: 20.9 KB\n"
          ]
        }
      ],
      "source": [
        "# pickup\n",
        "y = df_m_pu['pu_ct']\n",
        "X = df_m_pu.drop('pu_ct',axis=1)\n",
        "X = pd.get_dummies(data=X, drop_first=True)\n",
        "X.info()"
      ]
    },
    {
      "cell_type": "code",
      "execution_count": null,
      "id": "5e38070e",
      "metadata": {
        "id": "5e38070e",
        "outputId": "4ffdb521-5dc0-4179-efc3-f7353a9f1d07"
      },
      "outputs": [
        {
          "data": {
            "text/html": [
              "<div>\n",
              "<style scoped>\n",
              "    .dataframe tbody tr th:only-of-type {\n",
              "        vertical-align: middle;\n",
              "    }\n",
              "\n",
              "    .dataframe tbody tr th {\n",
              "        vertical-align: top;\n",
              "    }\n",
              "\n",
              "    .dataframe thead th {\n",
              "        text-align: right;\n",
              "    }\n",
              "</style>\n",
              "<table border=\"1\" class=\"dataframe\">\n",
              "  <thead>\n",
              "    <tr style=\"text-align: right;\">\n",
              "      <th></th>\n",
              "      <th>tempmax</th>\n",
              "      <th>tempmin</th>\n",
              "      <th>temp</th>\n",
              "      <th>feelslikemax</th>\n",
              "      <th>feelslikemin</th>\n",
              "      <th>feelslike</th>\n",
              "      <th>dew</th>\n",
              "      <th>humidity</th>\n",
              "      <th>precip</th>\n",
              "      <th>precipprob</th>\n",
              "      <th>...</th>\n",
              "      <th>cloudcover</th>\n",
              "      <th>visibility</th>\n",
              "      <th>solarradiation</th>\n",
              "      <th>solarenergy</th>\n",
              "      <th>uvindex</th>\n",
              "      <th>moonphase</th>\n",
              "      <th>icon_partly-cloudy-day</th>\n",
              "      <th>icon_rain</th>\n",
              "      <th>icon_snow</th>\n",
              "      <th>icon_wind</th>\n",
              "    </tr>\n",
              "  </thead>\n",
              "  <tbody>\n",
              "    <tr>\n",
              "      <th>0</th>\n",
              "      <td>63.5</td>\n",
              "      <td>54.1</td>\n",
              "      <td>58.3</td>\n",
              "      <td>63.5</td>\n",
              "      <td>54.1</td>\n",
              "      <td>58.3</td>\n",
              "      <td>56.0</td>\n",
              "      <td>92.1</td>\n",
              "      <td>0.448</td>\n",
              "      <td>100</td>\n",
              "      <td>...</td>\n",
              "      <td>99.5</td>\n",
              "      <td>6.2</td>\n",
              "      <td>21.4</td>\n",
              "      <td>0.6</td>\n",
              "      <td>0</td>\n",
              "      <td>0.99</td>\n",
              "      <td>False</td>\n",
              "      <td>True</td>\n",
              "      <td>False</td>\n",
              "      <td>False</td>\n",
              "    </tr>\n",
              "    <tr>\n",
              "      <th>1</th>\n",
              "      <td>62.7</td>\n",
              "      <td>47.8</td>\n",
              "      <td>57.5</td>\n",
              "      <td>62.7</td>\n",
              "      <td>42.0</td>\n",
              "      <td>57.0</td>\n",
              "      <td>51.6</td>\n",
              "      <td>81.6</td>\n",
              "      <td>0.124</td>\n",
              "      <td>100</td>\n",
              "      <td>...</td>\n",
              "      <td>91.6</td>\n",
              "      <td>9.6</td>\n",
              "      <td>47.3</td>\n",
              "      <td>1.7</td>\n",
              "      <td>1</td>\n",
              "      <td>1.00</td>\n",
              "      <td>False</td>\n",
              "      <td>True</td>\n",
              "      <td>False</td>\n",
              "      <td>False</td>\n",
              "    </tr>\n",
              "    <tr>\n",
              "      <th>2</th>\n",
              "      <td>34.0</td>\n",
              "      <td>25.3</td>\n",
              "      <td>29.4</td>\n",
              "      <td>33.7</td>\n",
              "      <td>16.0</td>\n",
              "      <td>24.0</td>\n",
              "      <td>19.2</td>\n",
              "      <td>65.7</td>\n",
              "      <td>0.000</td>\n",
              "      <td>0</td>\n",
              "      <td>...</td>\n",
              "      <td>18.7</td>\n",
              "      <td>9.9</td>\n",
              "      <td>153.2</td>\n",
              "      <td>5.4</td>\n",
              "      <td>6</td>\n",
              "      <td>0.02</td>\n",
              "      <td>False</td>\n",
              "      <td>False</td>\n",
              "      <td>True</td>\n",
              "      <td>False</td>\n",
              "    </tr>\n",
              "    <tr>\n",
              "      <th>3</th>\n",
              "      <td>40.8</td>\n",
              "      <td>28.1</td>\n",
              "      <td>35.8</td>\n",
              "      <td>37.2</td>\n",
              "      <td>19.8</td>\n",
              "      <td>29.5</td>\n",
              "      <td>29.0</td>\n",
              "      <td>76.3</td>\n",
              "      <td>0.000</td>\n",
              "      <td>0</td>\n",
              "      <td>...</td>\n",
              "      <td>82.6</td>\n",
              "      <td>9.9</td>\n",
              "      <td>63.5</td>\n",
              "      <td>2.2</td>\n",
              "      <td>1</td>\n",
              "      <td>0.05</td>\n",
              "      <td>True</td>\n",
              "      <td>False</td>\n",
              "      <td>False</td>\n",
              "      <td>False</td>\n",
              "    </tr>\n",
              "    <tr>\n",
              "      <th>4</th>\n",
              "      <td>42.9</td>\n",
              "      <td>36.9</td>\n",
              "      <td>39.8</td>\n",
              "      <td>40.6</td>\n",
              "      <td>29.5</td>\n",
              "      <td>35.3</td>\n",
              "      <td>24.2</td>\n",
              "      <td>55.0</td>\n",
              "      <td>0.000</td>\n",
              "      <td>0</td>\n",
              "      <td>...</td>\n",
              "      <td>88.1</td>\n",
              "      <td>9.9</td>\n",
              "      <td>145.6</td>\n",
              "      <td>5.3</td>\n",
              "      <td>4</td>\n",
              "      <td>0.09</td>\n",
              "      <td>False</td>\n",
              "      <td>False</td>\n",
              "      <td>True</td>\n",
              "      <td>False</td>\n",
              "    </tr>\n",
              "  </tbody>\n",
              "</table>\n",
              "<p>5 rows × 26 columns</p>\n",
              "</div>"
            ],
            "text/plain": [
              "   tempmax  tempmin  temp  feelslikemax  feelslikemin  feelslike   dew   \n",
              "0     63.5     54.1  58.3          63.5          54.1       58.3  56.0  \\\n",
              "1     62.7     47.8  57.5          62.7          42.0       57.0  51.6   \n",
              "2     34.0     25.3  29.4          33.7          16.0       24.0  19.2   \n",
              "3     40.8     28.1  35.8          37.2          19.8       29.5  29.0   \n",
              "4     42.9     36.9  39.8          40.6          29.5       35.3  24.2   \n",
              "\n",
              "   humidity  precip  precipprob  ...  cloudcover  visibility  solarradiation   \n",
              "0      92.1   0.448         100  ...        99.5         6.2            21.4  \\\n",
              "1      81.6   0.124         100  ...        91.6         9.6            47.3   \n",
              "2      65.7   0.000           0  ...        18.7         9.9           153.2   \n",
              "3      76.3   0.000           0  ...        82.6         9.9            63.5   \n",
              "4      55.0   0.000           0  ...        88.1         9.9           145.6   \n",
              "\n",
              "   solarenergy  uvindex  moonphase  icon_partly-cloudy-day  icon_rain   \n",
              "0          0.6        0       0.99                   False       True  \\\n",
              "1          1.7        1       1.00                   False       True   \n",
              "2          5.4        6       0.02                   False      False   \n",
              "3          2.2        1       0.05                    True      False   \n",
              "4          5.3        4       0.09                   False      False   \n",
              "\n",
              "   icon_snow  icon_wind  \n",
              "0      False      False  \n",
              "1      False      False  \n",
              "2       True      False  \n",
              "3      False      False  \n",
              "4       True      False  \n",
              "\n",
              "[5 rows x 26 columns]"
            ]
          },
          "execution_count": 28,
          "metadata": {},
          "output_type": "execute_result"
        }
      ],
      "source": [
        "X.head()"
      ]
    },
    {
      "cell_type": "code",
      "execution_count": null,
      "id": "ad687259",
      "metadata": {
        "id": "ad687259"
      },
      "outputs": [],
      "source": [
        "X_train,X_test, y_train,y_test = train_test_split(X,y, test_size=0.4, random_state = 200)"
      ]
    },
    {
      "cell_type": "markdown",
      "id": "7f39bba9",
      "metadata": {
        "id": "7f39bba9"
      },
      "source": [
        "## Linear Regression"
      ]
    },
    {
      "cell_type": "code",
      "execution_count": null,
      "id": "e0fbf079",
      "metadata": {
        "id": "e0fbf079"
      },
      "outputs": [],
      "source": [
        "linear_regressor = LinearRegression()\n",
        "linear_regressor.fit(X_train, y_train) \n",
        "y_pred = linear_regressor.predict(X_test)"
      ]
    },
    {
      "cell_type": "code",
      "execution_count": null,
      "id": "79054bd3",
      "metadata": {
        "id": "79054bd3",
        "outputId": "6cc0b4cc-1722-407c-8baa-037946d1e49b"
      },
      "outputs": [
        {
          "name": "stdout",
          "output_type": "stream",
          "text": [
            "tempmax                   0.431837\n",
            "tempmin                   0.448190\n",
            "temp                     -1.871509\n",
            "feelslikemax             -0.538638\n",
            "feelslikemin             -0.896445\n",
            "feelslike                 1.318472\n",
            "dew                       2.196419\n",
            "humidity                 -1.363480\n",
            "precip                    4.108471\n",
            "precipprob                0.015612\n",
            "precipcover              -0.207099\n",
            "snow                     -2.908279\n",
            "snowdepth                 0.065122\n",
            "windspeed                -1.213763\n",
            "winddir                   0.032159\n",
            "sealevelpressure          0.162454\n",
            "cloudcover                0.101044\n",
            "visibility               -0.653260\n",
            "solarradiation           -0.249588\n",
            "solarenergy               3.458863\n",
            "uvindex                  -0.331106\n",
            "moonphase                 4.358135\n",
            "icon_partly-cloudy-day   -1.570322\n",
            "icon_rain                -3.090264\n",
            "icon_snow                 4.660585\n",
            "icon_wind                 0.000000\n",
            "dtype: float64\n"
          ]
        }
      ],
      "source": [
        "print(pd.Series(linear_regressor.coef_.flatten(), index=X_train.columns))"
      ]
    },
    {
      "cell_type": "code",
      "execution_count": null,
      "id": "e8957155",
      "metadata": {
        "id": "e8957155",
        "outputId": "34c9bfe6-1464-461f-ffcf-0da652397044"
      },
      "outputs": [
        {
          "name": "stdout",
          "output_type": "stream",
          "text": [
            "MSE is 213.572\n"
          ]
        }
      ],
      "source": [
        "mse = round(mean_squared_error(y_test, y_pred),3)\n",
        "print(f\"MSE is {mse}\")"
      ]
    },
    {
      "cell_type": "code",
      "execution_count": null,
      "id": "dd1bdd10",
      "metadata": {
        "id": "dd1bdd10",
        "outputId": "cd9cb05b-b091-4799-8c79-6c717fff28d6"
      },
      "outputs": [
        {
          "name": "stdout",
          "output_type": "stream",
          "text": [
            "Predicted Pick up at H street is [49.52190043]\n"
          ]
        }
      ],
      "source": [
        "pu_pred_Hst = linear_regressor.predict((X_test.iloc[[0]]))\n",
        "print(f\"Predicted Pick up at H street is {pu_pred_Hst}\")"
      ]
    },
    {
      "cell_type": "markdown",
      "id": "d6e63f86",
      "metadata": {
        "id": "d6e63f86"
      },
      "source": [
        "## LASSO"
      ]
    },
    {
      "cell_type": "code",
      "execution_count": null,
      "id": "9a16bee5",
      "metadata": {
        "id": "9a16bee5",
        "outputId": "eaeceba3-c495-46b0-ac7f-ffedb5acec9d"
      },
      "outputs": [
        {
          "data": {
            "image/png": "[encoded data removed]",
            "text/plain": [
              "<Figure size 432x288 with 1 Axes>"
            ]
          },
          "metadata": {
            "needs_background": "light"
          },
          "output_type": "display_data"
        }
      ],
      "source": [
        "alphas = 10**np.linspace(-2,2,100)\n",
        "\n",
        "lasso = Lasso()\n",
        "coefs = []\n",
        "\n",
        "for a in alphas:\n",
        "    lasso.set_params(alpha=a, max_iter=10000) # increase iterations for optimization of coefficients\n",
        "    lasso.fit(scale(X_train), y_train)\n",
        "    coefs.append(lasso.coef_)\n",
        "\n",
        "ax = plt.gca()\n",
        "ax.plot(alphas, coefs)\n",
        "ax.set_xscale('log')\n",
        "ax.set_xlim(ax.get_xlim())  \n",
        "plt.axis('tight')\n",
        "plt.xlabel('alpha')\n",
        "plt.ylabel('Coefficients')\n",
        "# plt.legend(list(X_train.columns), loc='best')\n",
        "\n",
        "plt.title('Lasso coefficients as a function of the regularization');"
      ]
    },
    {
      "cell_type": "code",
      "execution_count": null,
      "id": "3a3dd86b",
      "metadata": {
        "id": "3a3dd86b",
        "outputId": "242e589e-e12e-4d85-d104-230cc3b03d01"
      },
      "outputs": [
        {
          "name": "stdout",
          "output_type": "stream",
          "text": [
            "The best alpha from LassoCV: 0.7924828983539177\n"
          ]
        }
      ],
      "source": [
        "# find the best alpha via CV with selected scoring metric\n",
        "lassocv = LassoCV(alphas=alphas, max_iter=10000)\n",
        "lassocv.fit(scale(X_train), y_train)\n",
        "\n",
        "print('The best alpha from LassoCV:', lassocv.alpha_)"
      ]
    },
    {
      "cell_type": "code",
      "execution_count": null,
      "id": "8aa4fba5",
      "metadata": {
        "id": "8aa4fba5",
        "outputId": "d85e00d3-b3d0-459a-b808-5a22ba546791"
      },
      "outputs": [
        {
          "name": "stdout",
          "output_type": "stream",
          "text": [
            "The coefficients are:\n",
            "tempmax                   2.061753\n",
            "tempmin                   0.000000\n",
            "temp                      6.690140\n",
            "feelslikemax              0.000000\n",
            "feelslikemin              0.000000\n",
            "feelslike                 0.000000\n",
            "dew                       0.000000\n",
            "humidity                 -2.245071\n",
            "precip                   -0.000000\n",
            "precipprob               -0.000000\n",
            "precipcover              -2.495638\n",
            "snow                      0.000000\n",
            "snowdepth                -3.228062\n",
            "windspeed                -2.590788\n",
            "winddir                   0.481611\n",
            "sealevelpressure          0.000000\n",
            "cloudcover                0.000000\n",
            "visibility                0.790024\n",
            "solarradiation           -0.000000\n",
            "solarenergy               2.318058\n",
            "uvindex                   0.000000\n",
            "moonphase                 0.765663\n",
            "icon_partly-cloudy-day    0.000000\n",
            "icon_rain                -0.000000\n",
            "icon_snow                 0.000000\n",
            "icon_wind                 0.000000\n",
            "dtype: float64\n"
          ]
        }
      ],
      "source": [
        "# with the best alpha\n",
        "lasso.set_params(alpha=lassocv.alpha_)\n",
        "lasso.fit(scale(X_train), y_train)\n",
        "print('The coefficients are:')\n",
        "print(pd.Series(lasso.coef_.flatten(), index=X_train.columns))"
      ]
    },
    {
      "cell_type": "code",
      "execution_count": null,
      "id": "40502cfe",
      "metadata": {
        "id": "40502cfe",
        "outputId": "d07e9efb-43e0-472b-b121-60fb81d26746"
      },
      "outputs": [
        {
          "data": {
            "image/png": "[encoded data removed]",
            "text/plain": [
              "<Figure size 432x288 with 1 Axes>"
            ]
          },
          "metadata": {
            "needs_background": "light"
          },
          "output_type": "display_data"
        }
      ],
      "source": [
        "plt.semilogx(lassocv.alphas_, lassocv.mse_path_, linestyle=\":\")\n",
        "plt.plot(\n",
        "    lassocv.alphas_,\n",
        "    lassocv.mse_path_.mean(axis=-1),\n",
        "    color=\"black\",\n",
        "    label=\"Average across the folds\",\n",
        "    linewidth=2,\n",
        ")\n",
        "plt.axvline(lassocv.alpha_, linestyle=\"--\", color=\"black\", label=\"alpha: CV estimate\")\n",
        "\n",
        "\n",
        "plt.xlabel(r\"$\\alpha$\")\n",
        "plt.ylabel(\"Mean square error\")\n",
        "plt.legend()\n",
        "plt.title(\"MSE\")\n",
        "plt.show()"
      ]
    },
    {
      "cell_type": "code",
      "execution_count": null,
      "id": "7a21e12b",
      "metadata": {
        "id": "7a21e12b",
        "outputId": "671f2196-741e-45bd-a8d4-b64e707543d2"
      },
      "outputs": [
        {
          "name": "stdout",
          "output_type": "stream",
          "text": [
            "MSE is 143.928\n"
          ]
        }
      ],
      "source": [
        "y_pred=lasso.predict(scale(X_test.values))\n",
        "mse = round(mean_squared_error(y_test, y_pred),3)\n",
        "print(f\"MSE is {mse}\")"
      ]
    },
    {
      "cell_type": "code",
      "execution_count": null,
      "id": "07833c02",
      "metadata": {
        "id": "07833c02",
        "outputId": "7f9193ab-9bfe-411b-d1bd-5b3fe37fce91"
      },
      "outputs": [
        {
          "name": "stdout",
          "output_type": "stream",
          "text": [
            "Predicted Pick up at 21st & I St NW is [32.87142857]\n",
            "----------------------------------\n"
          ]
        }
      ],
      "source": [
        "y_pred_ = lasso.predict(scale(X_test.iloc[[0]]))\n",
        "print(f\"Predicted Pick up at 21st & I St NW is {y_pred_}\")\n",
        "print('----------------------------------')"
      ]
    },
    {
      "cell_type": "markdown",
      "id": "ee44741e",
      "metadata": {
        "id": "ee44741e"
      },
      "source": [
        "## Ridge Regression"
      ]
    },
    {
      "cell_type": "code",
      "execution_count": null,
      "id": "74da3909",
      "metadata": {
        "id": "74da3909"
      },
      "outputs": [],
      "source": [
        "# standardize the features\n",
        "from sklearn.preprocessing import StandardScaler\n",
        "\n",
        "scaler = StandardScaler().fit(X_train)"
      ]
    },
    {
      "cell_type": "code",
      "execution_count": null,
      "id": "6559f3eb",
      "metadata": {
        "id": "6559f3eb",
        "outputId": "9ee00400-d133-4bee-c410-bc213d61297d"
      },
      "outputs": [
        {
          "name": "stdout",
          "output_type": "stream",
          "text": [
            "The coefficients are:\n",
            "tempmax                   0.518914\n",
            "tempmin                   0.417278\n",
            "temp                      0.501468\n",
            "feelslikemax              0.516175\n",
            "feelslikemin              0.434726\n",
            "feelslike                 0.505465\n",
            "dew                       0.256249\n",
            "humidity                 -0.323599\n",
            "precip                   -0.318611\n",
            "precipprob               -0.249697\n",
            "precipcover              -0.360155\n",
            "snow                     -0.279665\n",
            "snowdepth                -0.403603\n",
            "windspeed                -0.159882\n",
            "winddir                   0.080501\n",
            "sealevelpressure          0.042812\n",
            "cloudcover               -0.162258\n",
            "visibility                0.296259\n",
            "solarradiation            0.353997\n",
            "solarenergy               0.496237\n",
            "uvindex                   0.468611\n",
            "moonphase                 0.205383\n",
            "icon_partly-cloudy-day    0.286303\n",
            "icon_rain                -0.068904\n",
            "icon_snow                -0.305114\n",
            "icon_wind                 0.000000\n",
            "dtype: float64\n"
          ]
        }
      ],
      "source": [
        "# set a large alpha to get smaller coefficients\n",
        "ridge = Ridge(alpha=1000)\n",
        "ridge.fit(scaler.transform(X_train), y_train)\n",
        "\n",
        "print('The coefficients are:')\n",
        "print(pd.Series(ridge.coef_.flatten(), index=X_train.columns))"
      ]
    },
    {
      "cell_type": "code",
      "execution_count": null,
      "id": "813e7bb5",
      "metadata": {
        "id": "813e7bb5",
        "outputId": "cdfd28b8-824d-4e12-bbdd-ce5030275b3b"
      },
      "outputs": [
        {
          "name": "stdout",
          "output_type": "stream",
          "text": [
            "The best alpha from RidgeCV: 62.802914418342596\n"
          ]
        }
      ],
      "source": [
        "# find the best alpha via CV with selected scoring metric\n",
        "ridgecv = RidgeCV(alphas=alphas, scoring='neg_mean_squared_error')\n",
        "ridgecv.fit(scale(X_train), y_train)\n",
        "\n",
        "print('The best alpha from RidgeCV:', ridgecv.alpha_)"
      ]
    },
    {
      "cell_type": "code",
      "execution_count": null,
      "id": "8bbc8385",
      "metadata": {
        "id": "8bbc8385",
        "outputId": "c8b6b3d6-2c99-4195-fde7-63fc85de75c3"
      },
      "outputs": [
        {
          "name": "stdout",
          "output_type": "stream",
          "text": [
            "The coefficients are:\n",
            "tempmax                   1.543797\n",
            "tempmin                   0.952600\n",
            "temp                      1.522103\n",
            "feelslikemax              1.454506\n",
            "feelslikemin              0.931355\n",
            "feelslike                 1.497628\n",
            "dew                       0.544465\n",
            "humidity                 -1.454270\n",
            "precip                   -0.708886\n",
            "precipprob               -0.587100\n",
            "precipcover              -1.069975\n",
            "snow                     -0.241601\n",
            "snowdepth                -2.039025\n",
            "windspeed                -1.347876\n",
            "winddir                   0.578114\n",
            "sealevelpressure          0.287228\n",
            "cloudcover                0.111879\n",
            "visibility                1.029505\n",
            "solarradiation            0.204191\n",
            "solarenergy               1.479417\n",
            "uvindex                   1.226165\n",
            "moonphase                 1.097249\n",
            "icon_partly-cloudy-day    0.325159\n",
            "icon_rain                -0.209078\n",
            "icon_snow                -0.186669\n",
            "icon_wind                 0.000000\n",
            "dtype: float64\n"
          ]
        }
      ],
      "source": [
        "# with the best alpha\n",
        "ridge.set_params(alpha=ridgecv.alpha_)\n",
        "ridge.fit(scale(X_train), y_train)\n",
        "print('The coefficients are:')\n",
        "print(pd.Series(ridge.coef_.flatten(), index=X_train.columns))"
      ]
    },
    {
      "cell_type": "code",
      "execution_count": null,
      "id": "52deb7fc",
      "metadata": {
        "id": "52deb7fc",
        "outputId": "4156aba5-4dc8-43f8-b8b2-40d3c737a20b"
      },
      "outputs": [
        {
          "name": "stdout",
          "output_type": "stream",
          "text": [
            "MSE is before alpha tuning 146.868\n"
          ]
        }
      ],
      "source": [
        "y_pred=ridge.predict(scaler.transform(X_test.values))\n",
        "mse = round(mean_squared_error(y_test, y_pred),3)\n",
        "print(f\"MSE is before alpha tuning {mse}\")"
      ]
    },
    {
      "cell_type": "code",
      "execution_count": null,
      "id": "05654292",
      "metadata": {
        "id": "05654292",
        "outputId": "2291fd75-06a8-421e-c41a-1b4afedf65b5"
      },
      "outputs": [
        {
          "name": "stdout",
          "output_type": "stream",
          "text": [
            "Predicted Pick up at 21st & I St NW is [32.87142857]\n",
            "----------------------------------\n"
          ]
        }
      ],
      "source": [
        "y_pred_ = ridge.predict(scale(X_test.iloc[[0]]))\n",
        "print(f\"Predicted Pick up at 21st & I St NW is {y_pred_}\")\n",
        "print('----------------------------------')"
      ]
    },
    {
      "cell_type": "markdown",
      "id": "08985891",
      "metadata": {
        "id": "08985891"
      },
      "source": [
        "## Elastic Net"
      ]
    },
    {
      "cell_type": "code",
      "execution_count": null,
      "id": "850a228a",
      "metadata": {
        "id": "850a228a",
        "outputId": "c35412bc-7bea-483a-c51d-e4f791498a9a"
      },
      "outputs": [
        {
          "name": "stdout",
          "output_type": "stream",
          "text": [
            "The best alpha from ElasticNetCV: 0.8441537223475757\n"
          ]
        }
      ],
      "source": [
        "#Elastic Net\n",
        "\n",
        "from sklearn.linear_model import ElasticNet\n",
        "from sklearn.linear_model import ElasticNetCV\n",
        "\n",
        "ENcv = ElasticNetCV(alphas=None, cv=10, max_iter=10000) # default l1_ratio=0.5\n",
        "ENcv.fit(scale(X_train), y_train)\n",
        "\n",
        "print('The best alpha from ElasticNetCV:', ENcv.alpha_)"
      ]
    },
    {
      "cell_type": "code",
      "execution_count": null,
      "id": "0ae70069",
      "metadata": {
        "id": "0ae70069"
      },
      "outputs": [],
      "source": [
        "EN=ElasticNet()"
      ]
    },
    {
      "cell_type": "code",
      "execution_count": null,
      "id": "b9c8b9f4",
      "metadata": {
        "id": "b9c8b9f4",
        "outputId": "eb24fac5-35a3-4d02-f864-b078710754f7"
      },
      "outputs": [
        {
          "name": "stdout",
          "output_type": "stream",
          "text": [
            "The coefficients are:\n",
            "tempmax                   1.787805\n",
            "tempmin                   0.732949\n",
            "temp                      1.822107\n",
            "feelslikemax              1.605643\n",
            "feelslikemin              0.684583\n",
            "feelslike                 1.779751\n",
            "dew                       0.070541\n",
            "humidity                 -1.589035\n",
            "precip                   -0.578261\n",
            "precipprob               -0.506038\n",
            "precipcover              -1.276274\n",
            "snow                     -0.000000\n",
            "snowdepth                -2.460448\n",
            "windspeed                -1.725519\n",
            "winddir                   0.483840\n",
            "sealevelpressure          0.000000\n",
            "cloudcover                0.000000\n",
            "visibility                1.080337\n",
            "solarradiation            0.000000\n",
            "solarenergy               1.708672\n",
            "uvindex                   1.202641\n",
            "moonphase                 1.064203\n",
            "icon_partly-cloudy-day    0.085965\n",
            "icon_rain                -0.000000\n",
            "icon_snow                -0.000000\n",
            "icon_wind                 0.000000\n",
            "dtype: float64\n"
          ]
        }
      ],
      "source": [
        "# with the best alpha\n",
        "EN.set_params(alpha=ENcv.alpha_)\n",
        "EN.fit(scale(X_train), y_train)\n",
        "\n",
        "\n",
        "EN=ElasticNet()\n",
        "\n",
        "EN.set_params(alpha=ENcv.alpha_)\n",
        "EN.fit(scale(X_train), y_train)\n",
        "\n",
        "print('The coefficients are:')\n",
        "print(pd.Series(EN.coef_.flatten(), index=X_train.columns))"
      ]
    },
    {
      "cell_type": "code",
      "execution_count": null,
      "id": "f13ce7df",
      "metadata": {
        "id": "f13ce7df",
        "outputId": "783ad5ad-dcb7-440b-959b-7102238d2354"
      },
      "outputs": [
        {
          "data": {
            "image/png": "[encoded data removed]",
            "text/plain": [
              "<Figure size 432x288 with 1 Axes>"
            ]
          },
          "metadata": {
            "needs_background": "light"
          },
          "output_type": "display_data"
        }
      ],
      "source": [
        "import matplotlib.pyplot as plt\n",
        "\n",
        "# Fit ElasticNetCV\n",
        "ENcv = ElasticNetCV(alphas=None, cv=10, max_iter=10000)\n",
        "ENcv.fit(scale(X_train), y_train)\n",
        "\n",
        "# Plot MSE path\n",
        "mse_path = ENcv.mse_path_\n",
        "alphas = ENcv.alphas_\n",
        "plt.figure()\n",
        "plt.plot(alphas, mse_path, ':')\n",
        "plt.plot(alphas, mse_path.mean(axis=-1), 'k', label='Average across the folds', linewidth=2)\n",
        "plt.axvline(ENcv.alpha_, linestyle='--', color='k', label='Best alpha')\n",
        "plt.legend()\n",
        "plt.xlabel('alpha')\n",
        "plt.ylabel('Mean squared error')\n",
        "plt.title('Mean squared error on each fold: coordinate descent ')\n",
        "plt.show()"
      ]
    },
    {
      "cell_type": "code",
      "execution_count": null,
      "id": "5d872c28",
      "metadata": {
        "id": "5d872c28",
        "outputId": "2ca73bca-5833-4095-defc-d3d8b732eafb"
      },
      "outputs": [
        {
          "name": "stdout",
          "output_type": "stream",
          "text": [
            "MSE is 144.573\n"
          ]
        }
      ],
      "source": [
        "from sklearn.metrics import mean_squared_error\n",
        "\n",
        "# Predict target variable on test set\n",
        "y_pred = EN.predict(scale(X_test.values))\n",
        "\n",
        "# Calculate MSE on test set\n",
        "mse = round(mean_squared_error(y_test, y_pred), 3)\n",
        "\n",
        "print(f\"MSE is {mse}\")"
      ]
    },
    {
      "cell_type": "code",
      "execution_count": null,
      "id": "a0d5769a",
      "metadata": {
        "id": "a0d5769a",
        "outputId": "5854795d-24d5-4dfe-916c-6bda63b6be36"
      },
      "outputs": [
        {
          "name": "stdout",
          "output_type": "stream",
          "text": [
            "Predicted Pick up at 21st & I St NW is [32.87142857]\n",
            "----------------------------------\n"
          ]
        }
      ],
      "source": [
        "y_pred_ = EN.predict(scale(X_test.iloc[[0]]))\n",
        "print(f\"Predicted Pick up at 21st & I St NW is {y_pred_}\")\n",
        "print('----------------------------------')"
      ]
    },
    {
      "cell_type": "markdown",
      "id": "05aba562",
      "metadata": {
        "id": "05aba562"
      },
      "source": [
        "# KNN"
      ]
    },
    {
      "cell_type": "code",
      "execution_count": null,
      "id": "7c363339",
      "metadata": {
        "id": "7c363339",
        "outputId": "c22f2e2e-808b-414a-d1c4-9c4b58f461ad"
      },
      "outputs": [
        {
          "data": {
            "text/html": [
              "<style>#sk-container-id-1 {color: black;background-color: white;}#sk-container-id-1 pre{padding: 0;}#sk-container-id-1 div.sk-toggleable {background-color: white;}#sk-container-id-1 label.sk-toggleable__label {cursor: pointer;display: block;width: 100%;margin-bottom: 0;padding: 0.3em;box-sizing: border-box;text-align: center;}#sk-container-id-1 label.sk-toggleable__label-arrow:before {content: \"▸\";float: left;margin-right: 0.25em;color: #696969;}#sk-container-id-1 label.sk-toggleable__label-arrow:hover:before {color: black;}#sk-container-id-1 div.sk-estimator:hover label.sk-toggleable__label-arrow:before {color: black;}#sk-container-id-1 div.sk-toggleable__content {max-height: 0;max-width: 0;overflow: hidden;text-align: left;background-color: #f0f8ff;}#sk-container-id-1 div.sk-toggleable__content pre {margin: 0.2em;color: black;border-radius: 0.25em;background-color: #f0f8ff;}#sk-container-id-1 input.sk-toggleable__control:checked~div.sk-toggleable__content {max-height: 200px;max-width: 100%;overflow: auto;}#sk-container-id-1 input.sk-toggleable__control:checked~label.sk-toggleable__label-arrow:before {content: \"▾\";}#sk-container-id-1 div.sk-estimator input.sk-toggleable__control:checked~label.sk-toggleable__label {background-color: #d4ebff;}#sk-container-id-1 div.sk-label input.sk-toggleable__control:checked~label.sk-toggleable__label {background-color: #d4ebff;}#sk-container-id-1 input.sk-hidden--visually {border: 0;clip: rect(1px 1px 1px 1px);clip: rect(1px, 1px, 1px, 1px);height: 1px;margin: -1px;overflow: hidden;padding: 0;position: absolute;width: 1px;}#sk-container-id-1 div.sk-estimator {font-family: monospace;background-color: #f0f8ff;border: 1px dotted black;border-radius: 0.25em;box-sizing: border-box;margin-bottom: 0.5em;}#sk-container-id-1 div.sk-estimator:hover {background-color: #d4ebff;}#sk-container-id-1 div.sk-parallel-item::after {content: \"\";width: 100%;border-bottom: 1px solid gray;flex-grow: 1;}#sk-container-id-1 div.sk-label:hover label.sk-toggleable__label {background-color: #d4ebff;}#sk-container-id-1 div.sk-serial::before {content: \"\";position: absolute;border-left: 1px solid gray;box-sizing: border-box;top: 0;bottom: 0;left: 50%;z-index: 0;}#sk-container-id-1 div.sk-serial {display: flex;flex-direction: column;align-items: center;background-color: white;padding-right: 0.2em;padding-left: 0.2em;position: relative;}#sk-container-id-1 div.sk-item {position: relative;z-index: 1;}#sk-container-id-1 div.sk-parallel {display: flex;align-items: stretch;justify-content: center;background-color: white;position: relative;}#sk-container-id-1 div.sk-item::before, #sk-container-id-1 div.sk-parallel-item::before {content: \"\";position: absolute;border-left: 1px solid gray;box-sizing: border-box;top: 0;bottom: 0;left: 50%;z-index: -1;}#sk-container-id-1 div.sk-parallel-item {display: flex;flex-direction: column;z-index: 1;position: relative;background-color: white;}#sk-container-id-1 div.sk-parallel-item:first-child::after {align-self: flex-end;width: 50%;}#sk-container-id-1 div.sk-parallel-item:last-child::after {align-self: flex-start;width: 50%;}#sk-container-id-1 div.sk-parallel-item:only-child::after {width: 0;}#sk-container-id-1 div.sk-dashed-wrapped {border: 1px dashed gray;margin: 0 0.4em 0.5em 0.4em;box-sizing: border-box;padding-bottom: 0.4em;background-color: white;}#sk-container-id-1 div.sk-label label {font-family: monospace;font-weight: bold;display: inline-block;line-height: 1.2em;}#sk-container-id-1 div.sk-label-container {text-align: center;}#sk-container-id-1 div.sk-container {/* jupyter's `normalize.less` sets `[hidden] { display: none; }` but bootstrap.min.css set `[hidden] { display: none !important; }` so we also need the `!important` here to be able to override the default hidden behavior on the sphinx rendered scikit-learn.org. See: https://github.com/scikit-learn/scikit-learn/issues/21755 */display: inline-block !important;position: relative;}#sk-container-id-1 div.sk-text-repr-fallback {display: none;}</style><div id=\"sk-container-id-1\" class=\"sk-top-container\"><div class=\"sk-text-repr-fallback\"><pre>KNeighborsRegressor()</pre><b>In a Jupyter environment, please rerun this cell to show the HTML representation or trust the notebook. <br />On GitHub, the HTML representation is unable to render, please try loading this page with nbviewer.org.</b></div><div class=\"sk-container\" hidden><div class=\"sk-item\"><div class=\"sk-estimator sk-toggleable\"><input class=\"sk-toggleable__control sk-hidden--visually\" id=\"sk-estimator-id-1\" type=\"checkbox\" checked><label for=\"sk-estimator-id-1\" class=\"sk-toggleable__label sk-toggleable__label-arrow\">KNeighborsRegressor</label><div class=\"sk-toggleable__content\"><pre>KNeighborsRegressor()</pre></div></div></div></div></div>"
            ],
            "text/plain": [
              "KNeighborsRegressor()"
            ]
          },
          "execution_count": 52,
          "metadata": {},
          "output_type": "execute_result"
        }
      ],
      "source": [
        "from sklearn.neighbors import KNeighborsRegressor\n",
        "from sklearn.metrics import mean_squared_error\n",
        "\n",
        "# Create and fit the KNN model for k=5\n",
        "k = 5\n",
        "knn = KNeighborsRegressor(n_neighbors=k)\n",
        "knn.fit(X_train, y_train)"
      ]
    },
    {
      "cell_type": "code",
      "execution_count": null,
      "id": "14fdd1aa",
      "metadata": {
        "id": "14fdd1aa",
        "outputId": "fcb28e4f-b7e1-4154-f1f5-dca3d02c1962"
      },
      "outputs": [
        {
          "name": "stdout",
          "output_type": "stream",
          "text": [
            "MSE for KNN: 267.796\n"
          ]
        }
      ],
      "source": [
        "y_pred = knn.predict(X_test)\n",
        "mse = round(mean_squared_error(y_test, y_pred), 3)\n",
        "print(f\"MSE for KNN: {mse}\")"
      ]
    },
    {
      "cell_type": "code",
      "execution_count": null,
      "id": "dfa223fa",
      "metadata": {
        "id": "dfa223fa",
        "outputId": "ff6ef214-2e55-40d7-f210-80381fa68976"
      },
      "outputs": [
        {
          "name": "stdout",
          "output_type": "stream",
          "text": [
            "Predicted Pick up at H street is [37.6]\n"
          ]
        }
      ],
      "source": [
        "pu_pred_Hst = knn.predict((X_test.iloc[[0]]))\n",
        "print(f\"Predicted Pick up at H street is {pu_pred_Hst}\")"
      ]
    },
    {
      "cell_type": "markdown",
      "id": "588a9aad",
      "metadata": {
        "id": "588a9aad"
      },
      "source": [
        "# Demo: train linear models for dropoff"
      ]
    },
    {
      "cell_type": "code",
      "execution_count": null,
      "id": "c0828649",
      "metadata": {
        "id": "c0828649",
        "outputId": "8db421ac-6ce2-4c3d-df18-7d7c5b4abbad"
      },
      "outputs": [
        {
          "name": "stdout",
          "output_type": "stream",
          "text": [
            "<class 'pandas.core.frame.DataFrame'>\n",
            "RangeIndex: 118 entries, 0 to 117\n",
            "Data columns (total 26 columns):\n",
            " #   Column                  Non-Null Count  Dtype  \n",
            "---  ------                  --------------  -----  \n",
            " 0   tempmax                 118 non-null    float64\n",
            " 1   tempmin                 118 non-null    float64\n",
            " 2   temp                    118 non-null    float64\n",
            " 3   feelslikemax            118 non-null    float64\n",
            " 4   feelslikemin            118 non-null    float64\n",
            " 5   feelslike               118 non-null    float64\n",
            " 6   dew                     118 non-null    float64\n",
            " 7   humidity                118 non-null    float64\n",
            " 8   precip                  118 non-null    float64\n",
            " 9   precipprob              118 non-null    int64  \n",
            " 10  precipcover             118 non-null    float64\n",
            " 11  snow                    118 non-null    float64\n",
            " 12  snowdepth               118 non-null    float64\n",
            " 13  windspeed               118 non-null    float64\n",
            " 14  winddir                 118 non-null    float64\n",
            " 15  sealevelpressure        118 non-null    float64\n",
            " 16  cloudcover              118 non-null    float64\n",
            " 17  visibility              118 non-null    float64\n",
            " 18  solarradiation          118 non-null    float64\n",
            " 19  solarenergy             118 non-null    float64\n",
            " 20  uvindex                 118 non-null    int64  \n",
            " 21  moonphase               118 non-null    float64\n",
            " 22  icon_partly-cloudy-day  118 non-null    bool   \n",
            " 23  icon_rain               118 non-null    bool   \n",
            " 24  icon_snow               118 non-null    bool   \n",
            " 25  icon_wind               118 non-null    bool   \n",
            "dtypes: bool(4), float64(20), int64(2)\n",
            "memory usage: 20.9 KB\n"
          ]
        }
      ],
      "source": [
        "# dropoff\n",
        "df_m_do \n",
        "y = df_m_do['do_ct']\n",
        "X = df_m_do.drop('do_ct',axis=1)\n",
        "X = pd.get_dummies(data=X, drop_first=True)\n",
        "X.info()"
      ]
    },
    {
      "cell_type": "code",
      "execution_count": null,
      "id": "0519bbe5",
      "metadata": {
        "id": "0519bbe5"
      },
      "outputs": [],
      "source": [
        "X_train,X_test, y_train,y_test = train_test_split(X,y, test_size=0.4, random_state = 200)"
      ]
    },
    {
      "cell_type": "markdown",
      "id": "cbefb488",
      "metadata": {
        "id": "cbefb488"
      },
      "source": [
        "## Linear Regression"
      ]
    },
    {
      "cell_type": "code",
      "execution_count": null,
      "id": "087e30ef",
      "metadata": {
        "id": "087e30ef"
      },
      "outputs": [],
      "source": [
        "linear_regressor = LinearRegression()\n",
        "linear_regressor.fit(X_train, y_train) \n",
        "y_pred = linear_regressor.predict(X_test)"
      ]
    },
    {
      "cell_type": "code",
      "execution_count": null,
      "id": "c51848a6",
      "metadata": {
        "id": "c51848a6",
        "outputId": "63e69e4d-3429-42b0-c4c2-c30c454a5de6"
      },
      "outputs": [
        {
          "name": "stdout",
          "output_type": "stream",
          "text": [
            "tempmax                    0.685609\n",
            "tempmin                    1.325933\n",
            "temp                      -4.087984\n",
            "feelslikemax              -0.743661\n",
            "feelslikemin              -1.411161\n",
            "feelslike                  1.422090\n",
            "dew                        4.354584\n",
            "humidity                  -2.334513\n",
            "precip                    13.481857\n",
            "precipprob                 0.075972\n",
            "precipcover               -0.301099\n",
            "snow                      -3.270237\n",
            "snowdepth                  1.567371\n",
            "windspeed                 -1.300018\n",
            "winddir                    0.016408\n",
            "sealevelpressure           0.329531\n",
            "cloudcover                 0.038046\n",
            "visibility                -0.885912\n",
            "solarradiation            -0.327798\n",
            "solarenergy                4.079766\n",
            "uvindex                   -0.250852\n",
            "moonphase                  9.744829\n",
            "icon_partly-cloudy-day     2.519802\n",
            "icon_rain                 -2.591437\n",
            "icon_snow                  0.071634\n",
            "icon_wind                  0.000000\n",
            "dtype: float64\n"
          ]
        }
      ],
      "source": [
        "print(pd.Series(linear_regressor.coef_.flatten(), index=X_train.columns))"
      ]
    },
    {
      "cell_type": "code",
      "execution_count": null,
      "id": "6abff7a2",
      "metadata": {
        "id": "6abff7a2",
        "outputId": "69a14ef9-d51b-4b34-8802-ae6d8b07e6eb"
      },
      "outputs": [
        {
          "name": "stdout",
          "output_type": "stream",
          "text": [
            "MSE is 233.961\n"
          ]
        }
      ],
      "source": [
        "mse = round(mean_squared_error(y_test, y_pred),3)\n",
        "print(f\"MSE is {mse}\")"
      ]
    },
    {
      "cell_type": "code",
      "execution_count": null,
      "id": "49dd7e7c",
      "metadata": {
        "id": "49dd7e7c",
        "outputId": "1d4c101a-2626-46e6-b1b5-d175d32fe586"
      },
      "outputs": [
        {
          "name": "stdout",
          "output_type": "stream",
          "text": [
            "Predicted Pick up at H street is [50.87998382]\n"
          ]
        }
      ],
      "source": [
        "pu_pred_Hst = linear_regressor.predict((X_test.iloc[[0]]))\n",
        "print(f\"Predicted Pick up at H street is {pu_pred_Hst}\")"
      ]
    },
    {
      "cell_type": "markdown",
      "id": "c0d36dfc",
      "metadata": {
        "id": "c0d36dfc"
      },
      "source": [
        "## LASSO"
      ]
    },
    {
      "cell_type": "code",
      "execution_count": null,
      "id": "cc550d57",
      "metadata": {
        "id": "cc550d57",
        "outputId": "e710b7c6-2ae3-4785-c1ee-133f767dfaab"
      },
      "outputs": [
        {
          "data": {
            "image/png": "[encoded data removed]",
            "text/plain": [
              "<Figure size 432x288 with 1 Axes>"
            ]
          },
          "metadata": {
            "needs_background": "light"
          },
          "output_type": "display_data"
        }
      ],
      "source": [
        "alphas = 10**np.linspace(-2,2,100)\n",
        "\n",
        "lasso = Lasso()\n",
        "coefs = []\n",
        "\n",
        "for a in alphas:\n",
        "    lasso.set_params(alpha=a, max_iter=10000) # increase iterations for optimization of coefficients\n",
        "    lasso.fit(scale(X_train), y_train)\n",
        "    coefs.append(lasso.coef_)\n",
        "\n",
        "ax = plt.gca()\n",
        "ax.plot(alphas, coefs)\n",
        "ax.set_xscale('log')\n",
        "ax.set_xlim(ax.get_xlim())  \n",
        "plt.axis('tight')\n",
        "plt.xlabel('alpha')\n",
        "plt.ylabel('Coefficients')\n",
        "# plt.legend(list(X_train.columns), loc='best')\n",
        "\n",
        "plt.title('Lasso coefficients as a function of the regularization');"
      ]
    },
    {
      "cell_type": "code",
      "execution_count": null,
      "id": "38873a98",
      "metadata": {
        "id": "38873a98",
        "outputId": "d43e23fb-e691-4583-82c7-d71c858e48d0"
      },
      "outputs": [
        {
          "name": "stdout",
          "output_type": "stream",
          "text": [
            "The best alpha from LassoCV: 0.7220809018385468\n"
          ]
        }
      ],
      "source": [
        "# find the best alpha via CV with selected scoring metric\n",
        "lassocv2 = LassoCV(alphas=alphas, max_iter=10000)\n",
        "lassocv2.fit(scale(X_train), y_train)\n",
        "\n",
        "print('The best alpha from LassoCV:', lassocv2.alpha_)"
      ]
    },
    {
      "cell_type": "code",
      "execution_count": null,
      "id": "9532b76d",
      "metadata": {
        "id": "9532b76d",
        "outputId": "c7bb53d8-4a38-45a3-b75e-a7a550294405"
      },
      "outputs": [
        {
          "name": "stdout",
          "output_type": "stream",
          "text": [
            "The coefficients are:\n",
            "tempmax                   0.000000\n",
            "tempmin                   0.000000\n",
            "temp                      9.629816\n",
            "feelslikemax              0.000000\n",
            "feelslikemin              0.000000\n",
            "feelslike                 0.000000\n",
            "dew                       0.000000\n",
            "humidity                 -1.198794\n",
            "precip                    0.000000\n",
            "precipprob               -0.000000\n",
            "precipcover              -1.312996\n",
            "snow                     -0.000000\n",
            "snowdepth                -3.974668\n",
            "windspeed                -3.051639\n",
            "winddir                  -0.000000\n",
            "sealevelpressure          0.517770\n",
            "cloudcover                0.000000\n",
            "visibility                1.661285\n",
            "solarradiation           -0.000000\n",
            "solarenergy               2.742897\n",
            "uvindex                   0.000000\n",
            "moonphase                 2.364949\n",
            "icon_partly-cloudy-day    0.000000\n",
            "icon_rain                -0.000000\n",
            "icon_snow                -0.051349\n",
            "icon_wind                 0.000000\n",
            "dtype: float64\n"
          ]
        }
      ],
      "source": [
        "# with the best alpha\n",
        "lasso.set_params(alpha=lassocv2.alpha_)\n",
        "lasso.fit(scale(X_train), y_train)\n",
        "print('The coefficients are:')\n",
        "print(pd.Series(lasso.coef_.flatten(), index=X_train.columns))"
      ]
    },
    {
      "cell_type": "code",
      "execution_count": null,
      "id": "7195af34",
      "metadata": {
        "id": "7195af34",
        "outputId": "705f994c-b00e-49d9-d05a-0d2bab0aeee5"
      },
      "outputs": [
        {
          "data": {
            "image/png": "[encoded data removed]",
            "text/plain": [
              "<Figure size 432x288 with 1 Axes>"
            ]
          },
          "metadata": {
            "needs_background": "light"
          },
          "output_type": "display_data"
        }
      ],
      "source": [
        "plt.semilogx(lassocv2.alphas_, lassocv2.mse_path_, linestyle=\":\")\n",
        "plt.plot(\n",
        "    lassocv2.alphas_,\n",
        "    lassocv2.mse_path_.mean(axis=-1),\n",
        "    color=\"black\",\n",
        "    label=\"Average across the folds\",\n",
        "    linewidth=2,\n",
        ")\n",
        "plt.axvline(lassocv2.alpha_, linestyle=\"--\", color=\"black\", label=\"alpha: CV estimate\")\n",
        "\n",
        "\n",
        "plt.xlabel(r\"$\\alpha$\")\n",
        "plt.ylabel(\"Mean square error\")\n",
        "plt.legend()\n",
        "plt.title(\"MSE\")\n",
        "plt.show()"
      ]
    },
    {
      "cell_type": "code",
      "execution_count": null,
      "id": "ada6ca81",
      "metadata": {
        "id": "ada6ca81",
        "outputId": "9da5b3b4-0c73-4c10-88c5-dc851afc7991"
      },
      "outputs": [
        {
          "name": "stdout",
          "output_type": "stream",
          "text": [
            "MSE is 133.142\n"
          ]
        }
      ],
      "source": [
        "y_pred=lasso.predict(scale(X_test.values))\n",
        "mse = round(mean_squared_error(y_test, y_pred),3)\n",
        "print(f\"MSE is {mse}\")"
      ]
    },
    {
      "cell_type": "code",
      "execution_count": null,
      "id": "ed7ed3af",
      "metadata": {
        "id": "ed7ed3af",
        "outputId": "8896a578-48e0-4b65-bff3-45bf0d7eb575"
      },
      "outputs": [
        {
          "name": "stdout",
          "output_type": "stream",
          "text": [
            "Predicted Pick up at 21st & I St NW is [35.24285714]\n",
            "----------------------------------\n"
          ]
        }
      ],
      "source": [
        "y_pred_ = lasso.predict(scale(X_test.iloc[[0]]))\n",
        "print(f\"Predicted Pick up at 21st & I St NW is {y_pred_}\")\n",
        "print('----------------------------------')"
      ]
    },
    {
      "cell_type": "markdown",
      "id": "5ff5f1ea",
      "metadata": {
        "id": "5ff5f1ea"
      },
      "source": [
        "## Ridge Regression"
      ]
    },
    {
      "cell_type": "code",
      "execution_count": null,
      "id": "9922576a",
      "metadata": {
        "id": "9922576a",
        "outputId": "52055dff-1131-4ae1-83dd-beb71e3512df"
      },
      "outputs": [
        {
          "name": "stdout",
          "output_type": "stream",
          "text": [
            "The coefficients are:\n",
            "tempmax                   0.559432\n",
            "tempmin                   0.484031\n",
            "temp                      0.552915\n",
            "feelslikemax              0.550496\n",
            "feelslikemin              0.499554\n",
            "feelslike                 0.556414\n",
            "dew                       0.324602\n",
            "humidity                 -0.282567\n",
            "precip                   -0.246181\n",
            "precipprob               -0.204025\n",
            "precipcover              -0.327348\n",
            "snow                     -0.352540\n",
            "snowdepth                -0.468283\n",
            "windspeed                -0.202698\n",
            "winddir                  -0.041886\n",
            "sealevelpressure          0.085110\n",
            "cloudcover               -0.145991\n",
            "visibility                0.274305\n",
            "solarradiation            0.327188\n",
            "solarenergy               0.485850\n",
            "uvindex                   0.453176\n",
            "moonphase                 0.303217\n",
            "icon_partly-cloudy-day    0.293995\n",
            "icon_rain                 0.001099\n",
            "icon_snow                -0.401111\n",
            "icon_wind                 0.000000\n",
            "dtype: float64\n",
            "The best alpha from RidgeCV: 68.92612104349702\n",
            "The coefficients are:\n",
            "tempmax                   1.511948\n",
            "tempmin                   1.232689\n",
            "temp                      1.594455\n",
            "feelslikemax              1.339746\n",
            "feelslikemin              1.143037\n",
            "feelslike                 1.515508\n",
            "dew                       0.763982\n",
            "humidity                 -1.312686\n",
            "precip                   -0.190779\n",
            "precipprob               -0.281688\n",
            "precipcover              -1.012077\n",
            "snow                     -0.574436\n",
            "snowdepth                -2.187947\n",
            "windspeed                -1.355553\n",
            "winddir                  -0.420683\n",
            "sealevelpressure          0.688183\n",
            "cloudcover               -0.018120\n",
            "visibility                1.102789\n",
            "solarradiation            0.092941\n",
            "solarenergy               1.400005\n",
            "uvindex                   1.163013\n",
            "moonphase                 1.847316\n",
            "icon_partly-cloudy-day    0.519807\n",
            "icon_rain                 0.074931\n",
            "icon_snow                -0.798382\n",
            "icon_wind                 0.000000\n",
            "dtype: float64\n",
            "MSE after alpha tuning: 125.784\n",
            "Predicted Pick up at 21st & I St NW is [35.24285714]\n",
            "----------------------------------\n"
          ]
        }
      ],
      "source": [
        "# standardize the features\n",
        "from sklearn.preprocessing import StandardScaler\n",
        "\n",
        "scaler2 = StandardScaler().fit(X_train)  # Removed extra comma\n",
        "# set a large alpha to get smaller coefficients\n",
        "ridge2 = Ridge(alpha=1000)\n",
        "ridge2.fit(scaler2.transform(X_train), y_train)\n",
        "\n",
        "print('The coefficients are:')\n",
        "print(pd.Series(ridge2.coef_.flatten(), index=X_train.columns))\n",
        "\n",
        "# find the best alpha via CV with selected scoring metric\n",
        "ridgecv2 = RidgeCV(alphas=alphas, scoring='neg_mean_squared_error')\n",
        "ridgecv2.fit(scale(X_train), y_train)\n",
        "\n",
        "print('The best alpha from RidgeCV:', ridgecv2.alpha_)  # Removed extra period\n",
        "\n",
        "ridge2.set_params(alpha=ridgecv2.alpha_)\n",
        "ridge2.fit(scale(X_train), y_train)\n",
        "print('The coefficients are:')\n",
        "print(pd.Series(ridge2.coef_.flatten(), index=X_train.columns))\n",
        "\n",
        "y_pred = ridge2.predict(scaler2.transform(X_test.values))  # Removed extra period\n",
        "mse = round(mean_squared_error(y_test, y_pred), 3)\n",
        "print(f\"MSE after alpha tuning: {mse}\")  # Added missing opening quotation mark\n",
        "\n",
        "y_pred_ = ridge2.predict(scale(X_test.iloc[[0]]))\n",
        "print(f\"Predicted Pick up at 21st & I St NW is {y_pred_}\")\n",
        "print('----------------------------------')\n"
      ]
    },
    {
      "cell_type": "code",
      "execution_count": null,
      "id": "ee4610ca",
      "metadata": {
        "id": "ee4610ca"
      },
      "outputs": [],
      "source": [
        "# standardize the features\n",
        "from sklearn.preprocessing import StandardScaler\n",
        "\n",
        "scaler2 = StandardScaler().fit(X_train)"
      ]
    },
    {
      "cell_type": "code",
      "execution_count": null,
      "id": "0b418177",
      "metadata": {
        "id": "0b418177",
        "outputId": "027dbb23-edc1-4def-d2d7-37a348b546cd"
      },
      "outputs": [
        {
          "name": "stdout",
          "output_type": "stream",
          "text": [
            "The coefficients are:\n",
            "tempmax                   0.559432\n",
            "tempmin                   0.484031\n",
            "temp                      0.552915\n",
            "feelslikemax              0.550496\n",
            "feelslikemin              0.499554\n",
            "feelslike                 0.556414\n",
            "dew                       0.324602\n",
            "humidity                 -0.282567\n",
            "precip                   -0.246181\n",
            "precipprob               -0.204025\n",
            "precipcover              -0.327348\n",
            "snow                     -0.352540\n",
            "snowdepth                -0.468283\n",
            "windspeed                -0.202698\n",
            "winddir                  -0.041886\n",
            "sealevelpressure          0.085110\n",
            "cloudcover               -0.145991\n",
            "visibility                0.274305\n",
            "solarradiation            0.327188\n",
            "solarenergy               0.485850\n",
            "uvindex                   0.453176\n",
            "moonphase                 0.303217\n",
            "icon_partly-cloudy-day    0.293995\n",
            "icon_rain                 0.001099\n",
            "icon_snow                -0.401111\n",
            "icon_wind                 0.000000\n",
            "dtype: float64\n"
          ]
        }
      ],
      "source": [
        "# set a large alpha to get smaller coefficients\n",
        "ridge2 = Ridge(alpha=1000)\n",
        "ridge2.fit(scaler2.transform(X_train), y_train)\n",
        "\n",
        "print('The coefficients are:')\n",
        "print(pd.Series(ridge2.coef_.flatten(), index=X_train.columns))"
      ]
    },
    {
      "cell_type": "code",
      "execution_count": null,
      "id": "b5db579c",
      "metadata": {
        "id": "b5db579c",
        "outputId": "0810ed7c-d68b-4759-d5a8-9160bbde49e4"
      },
      "outputs": [
        {
          "name": "stdout",
          "output_type": "stream",
          "text": [
            "The best alpha from RidgeCV: 68.92612104349702\n"
          ]
        }
      ],
      "source": [
        "# find the best alpha via CV with selected scoring metric\n",
        "ridgecv2 = RidgeCV(alphas=alphas, scoring='neg_mean_squared_error')\n",
        "ridgecv2.fit(scale(X_train), y_train)\n",
        "\n",
        "print('The best alpha from RidgeCV:', ridgecv2.alpha_)"
      ]
    },
    {
      "cell_type": "code",
      "execution_count": null,
      "id": "b2067ec9",
      "metadata": {
        "id": "b2067ec9",
        "outputId": "815ba884-e244-4871-e690-447081a9d6af"
      },
      "outputs": [
        {
          "name": "stdout",
          "output_type": "stream",
          "text": [
            "The coefficients are:\n",
            "tempmax                   1.511948\n",
            "tempmin                   1.232689\n",
            "temp                      1.594455\n",
            "feelslikemax              1.339746\n",
            "feelslikemin              1.143037\n",
            "feelslike                 1.515508\n",
            "dew                       0.763982\n",
            "humidity                 -1.312686\n",
            "precip                   -0.190779\n",
            "precipprob               -0.281688\n",
            "precipcover              -1.012077\n",
            "snow                     -0.574436\n",
            "snowdepth                -2.187947\n",
            "windspeed                -1.355553\n",
            "winddir                  -0.420683\n",
            "sealevelpressure          0.688183\n",
            "cloudcover               -0.018120\n",
            "visibility                1.102789\n",
            "solarradiation            0.092941\n",
            "solarenergy               1.400005\n",
            "uvindex                   1.163013\n",
            "moonphase                 1.847316\n",
            "icon_partly-cloudy-day    0.519807\n",
            "icon_rain                 0.074931\n",
            "icon_snow                -0.798382\n",
            "icon_wind                 0.000000\n",
            "dtype: float64\n"
          ]
        }
      ],
      "source": [
        "# with the best alpha\n",
        "ridge2.set_params(alpha=ridgecv2.alpha_)\n",
        "ridge2.fit(scale(X_train), y_train)\n",
        "print('The coefficients are:')\n",
        "print(pd.Series(ridge2.coef_.flatten(), index=X_train.columns))"
      ]
    },
    {
      "cell_type": "code",
      "execution_count": null,
      "id": "99d27ae9",
      "metadata": {
        "id": "99d27ae9",
        "outputId": "2a663331-17ac-45e5-ab14-78ed175944f9"
      },
      "outputs": [
        {
          "name": "stdout",
          "output_type": "stream",
          "text": [
            "MSE after alpha tuning 125.784\n"
          ]
        }
      ],
      "source": [
        "y_pred=ridge2.predict(scaler2.transform(X_test.values))\n",
        "mse = round(mean_squared_error(y_test, y_pred),3)\n",
        "print(f\"MSE after alpha tuning {mse}\")"
      ]
    },
    {
      "cell_type": "code",
      "execution_count": null,
      "id": "15ac91fe",
      "metadata": {
        "id": "15ac91fe",
        "outputId": "83829464-eebf-450c-ffc2-109eb5be499a"
      },
      "outputs": [
        {
          "name": "stdout",
          "output_type": "stream",
          "text": [
            "Predicted Pick up at 21st & I St NW is [35.24285714]\n",
            "----------------------------------\n"
          ]
        }
      ],
      "source": [
        "y_pred_ = ridge2.predict(scale(X_test.iloc[[0]]))\n",
        "print(f\"Predicted Pick up at 21st & I St NW is {y_pred_}\")\n",
        "print('----------------------------------')"
      ]
    },
    {
      "cell_type": "markdown",
      "id": "8fc3fae0",
      "metadata": {
        "id": "8fc3fae0"
      },
      "source": [
        "## Elastic Net\n"
      ]
    },
    {
      "cell_type": "code",
      "execution_count": null,
      "id": "8914d6cf",
      "metadata": {
        "id": "8914d6cf",
        "outputId": "1c5faa88-4c8a-414d-f532-730cc0a6c177"
      },
      "outputs": [
        {
          "name": "stdout",
          "output_type": "stream",
          "text": [
            "The best alpha from ElasticNetCV: 0.8000497261907156\n"
          ]
        }
      ],
      "source": [
        "#Elastic Net\n",
        "\n",
        "from sklearn.linear_model import ElasticNet\n",
        "from sklearn.linear_model import ElasticNetCV\n",
        "\n",
        "ENcv = ElasticNetCV(alphas=None, cv=10, max_iter=10000) # default l1_ratio=0.5\n",
        "ENcv.fit(scale(X_train), y_train)\n",
        "\n",
        "print('The best alpha from ElasticNetCV:', ENcv.alpha_)"
      ]
    },
    {
      "cell_type": "code",
      "execution_count": null,
      "id": "fceee495",
      "metadata": {
        "id": "fceee495",
        "outputId": "07079a9e-2664-4cfc-e101-d760ca7692e9"
      },
      "outputs": [
        {
          "name": "stdout",
          "output_type": "stream",
          "text": [
            "The coefficients are:\n",
            "tempmax                   1.709979\n",
            "tempmin                   1.225950\n",
            "temp                      1.971675\n",
            "feelslikemax              1.301766\n",
            "feelslikemin              0.974971\n",
            "feelslike                 1.783743\n",
            "dew                       0.482155\n",
            "humidity                 -1.476576\n",
            "precip                   -0.000000\n",
            "precipprob               -0.000000\n",
            "precipcover              -1.203158\n",
            "snow                     -0.259797\n",
            "snowdepth                -2.780053\n",
            "windspeed                -1.917766\n",
            "winddir                  -0.223894\n",
            "sealevelpressure          0.662049\n",
            "cloudcover                0.000000\n",
            "visibility                1.333035\n",
            "solarradiation           -0.000000\n",
            "solarenergy               1.625183\n",
            "uvindex                   1.040007\n",
            "moonphase                 2.185131\n",
            "icon_partly-cloudy-day    0.281284\n",
            "icon_rain                -0.000000\n",
            "icon_snow                -0.697454\n",
            "icon_wind                 0.000000\n",
            "dtype: float64\n"
          ]
        }
      ],
      "source": [
        "# with the best alpha\n",
        "EN.set_params(alpha=ENcv.alpha_)\n",
        "EN.fit(scale(X_train), y_train)\n",
        "\n",
        "\n",
        "EN=ElasticNet()\n",
        "EN.set_params(alpha=ENcv.alpha_)\n",
        "EN.fit(scale(X_train), y_train)\n",
        "\n",
        "print('The coefficients are:')\n",
        "print(pd.Series(EN.coef_.flatten(), index=X_train.columns))"
      ]
    },
    {
      "cell_type": "code",
      "execution_count": null,
      "id": "277be4a6",
      "metadata": {
        "id": "277be4a6",
        "outputId": "7268f4d9-25cb-4000-ae3c-6b6889144f3e"
      },
      "outputs": [
        {
          "data": {
            "image/png": "[encoded data removed]",
            "text/plain": [
              "<Figure size 432x288 with 1 Axes>"
            ]
          },
          "metadata": {
            "needs_background": "light"
          },
          "output_type": "display_data"
        }
      ],
      "source": [
        "import matplotlib.pyplot as plt\n",
        "\n",
        "# Fit ElasticNetCV\n",
        "ENcv = ElasticNetCV(alphas=None, cv=10, max_iter=10000)\n",
        "ENcv.fit(scale(X_train), y_train)\n",
        "\n",
        "# Plot MSE path\n",
        "mse_path = ENcv.mse_path_\n",
        "alphas = ENcv.alphas_\n",
        "plt.figure()\n",
        "plt.plot(alphas, mse_path, ':')\n",
        "plt.plot(alphas, mse_path.mean(axis=-1), 'k', label='Average across the folds', linewidth=2)\n",
        "plt.axvline(ENcv.alpha_, linestyle='--', color='k', label='Best alpha')\n",
        "plt.legend()\n",
        "plt.xlabel('alpha')\n",
        "plt.ylabel('Mean squared error')\n",
        "plt.title('Mean squared error on each fold: coordinate descent ')\n",
        "plt.show()"
      ]
    },
    {
      "cell_type": "code",
      "execution_count": null,
      "id": "dc259ab9",
      "metadata": {
        "id": "dc259ab9",
        "outputId": "757395a7-7f0b-4f45-8749-cb37855f8e20"
      },
      "outputs": [
        {
          "name": "stdout",
          "output_type": "stream",
          "text": [
            "MSE is 129.268\n"
          ]
        }
      ],
      "source": [
        "from sklearn.metrics import mean_squared_error\n",
        "\n",
        "# Predict target variable on test set\n",
        "y_pred = EN.predict(scale(X_test.values))\n",
        "\n",
        "# Calculate MSE on test set\n",
        "mse = round(mean_squared_error(y_test, y_pred), 3)\n",
        "\n",
        "print(f\"MSE is {mse}\")"
      ]
    },
    {
      "cell_type": "code",
      "execution_count": null,
      "id": "930bd091",
      "metadata": {
        "id": "930bd091",
        "outputId": "22d0974d-3b13-49b6-d189-f698f8cb22e5"
      },
      "outputs": [
        {
          "name": "stdout",
          "output_type": "stream",
          "text": [
            "Predicted Pick up at 21st & I St NW is [35.24285714]\n",
            "----------------------------------\n"
          ]
        }
      ],
      "source": [
        "y_pred_ = EN.predict(scale(X_test.iloc[[0]]))\n",
        "print(f\"Predicted Pick up at 21st & I St NW is {y_pred_}\")\n",
        "print('----------------------------------')"
      ]
    },
    {
      "cell_type": "markdown",
      "id": "f0da2aba",
      "metadata": {
        "id": "f0da2aba"
      },
      "source": [
        "# KNN"
      ]
    },
    {
      "cell_type": "code",
      "execution_count": null,
      "id": "0f2b7761",
      "metadata": {
        "id": "0f2b7761",
        "outputId": "fb82b925-f62d-4b85-b0fb-4165235607fd"
      },
      "outputs": [
        {
          "data": {
            "text/html": [
              "<style>#sk-container-id-2 {color: black;background-color: white;}#sk-container-id-2 pre{padding: 0;}#sk-container-id-2 div.sk-toggleable {background-color: white;}#sk-container-id-2 label.sk-toggleable__label {cursor: pointer;display: block;width: 100%;margin-bottom: 0;padding: 0.3em;box-sizing: border-box;text-align: center;}#sk-container-id-2 label.sk-toggleable__label-arrow:before {content: \"▸\";float: left;margin-right: 0.25em;color: #696969;}#sk-container-id-2 label.sk-toggleable__label-arrow:hover:before {color: black;}#sk-container-id-2 div.sk-estimator:hover label.sk-toggleable__label-arrow:before {color: black;}#sk-container-id-2 div.sk-toggleable__content {max-height: 0;max-width: 0;overflow: hidden;text-align: left;background-color: #f0f8ff;}#sk-container-id-2 div.sk-toggleable__content pre {margin: 0.2em;color: black;border-radius: 0.25em;background-color: #f0f8ff;}#sk-container-id-2 input.sk-toggleable__control:checked~div.sk-toggleable__content {max-height: 200px;max-width: 100%;overflow: auto;}#sk-container-id-2 input.sk-toggleable__control:checked~label.sk-toggleable__label-arrow:before {content: \"▾\";}#sk-container-id-2 div.sk-estimator input.sk-toggleable__control:checked~label.sk-toggleable__label {background-color: #d4ebff;}#sk-container-id-2 div.sk-label input.sk-toggleable__control:checked~label.sk-toggleable__label {background-color: #d4ebff;}#sk-container-id-2 input.sk-hidden--visually {border: 0;clip: rect(1px 1px 1px 1px);clip: rect(1px, 1px, 1px, 1px);height: 1px;margin: -1px;overflow: hidden;padding: 0;position: absolute;width: 1px;}#sk-container-id-2 div.sk-estimator {font-family: monospace;background-color: #f0f8ff;border: 1px dotted black;border-radius: 0.25em;box-sizing: border-box;margin-bottom: 0.5em;}#sk-container-id-2 div.sk-estimator:hover {background-color: #d4ebff;}#sk-container-id-2 div.sk-parallel-item::after {content: \"\";width: 100%;border-bottom: 1px solid gray;flex-grow: 1;}#sk-container-id-2 div.sk-label:hover label.sk-toggleable__label {background-color: #d4ebff;}#sk-container-id-2 div.sk-serial::before {content: \"\";position: absolute;border-left: 1px solid gray;box-sizing: border-box;top: 0;bottom: 0;left: 50%;z-index: 0;}#sk-container-id-2 div.sk-serial {display: flex;flex-direction: column;align-items: center;background-color: white;padding-right: 0.2em;padding-left: 0.2em;position: relative;}#sk-container-id-2 div.sk-item {position: relative;z-index: 1;}#sk-container-id-2 div.sk-parallel {display: flex;align-items: stretch;justify-content: center;background-color: white;position: relative;}#sk-container-id-2 div.sk-item::before, #sk-container-id-2 div.sk-parallel-item::before {content: \"\";position: absolute;border-left: 1px solid gray;box-sizing: border-box;top: 0;bottom: 0;left: 50%;z-index: -1;}#sk-container-id-2 div.sk-parallel-item {display: flex;flex-direction: column;z-index: 1;position: relative;background-color: white;}#sk-container-id-2 div.sk-parallel-item:first-child::after {align-self: flex-end;width: 50%;}#sk-container-id-2 div.sk-parallel-item:last-child::after {align-self: flex-start;width: 50%;}#sk-container-id-2 div.sk-parallel-item:only-child::after {width: 0;}#sk-container-id-2 div.sk-dashed-wrapped {border: 1px dashed gray;margin: 0 0.4em 0.5em 0.4em;box-sizing: border-box;padding-bottom: 0.4em;background-color: white;}#sk-container-id-2 div.sk-label label {font-family: monospace;font-weight: bold;display: inline-block;line-height: 1.2em;}#sk-container-id-2 div.sk-label-container {text-align: center;}#sk-container-id-2 div.sk-container {/* jupyter's `normalize.less` sets `[hidden] { display: none; }` but bootstrap.min.css set `[hidden] { display: none !important; }` so we also need the `!important` here to be able to override the default hidden behavior on the sphinx rendered scikit-learn.org. See: https://github.com/scikit-learn/scikit-learn/issues/21755 */display: inline-block !important;position: relative;}#sk-container-id-2 div.sk-text-repr-fallback {display: none;}</style><div id=\"sk-container-id-2\" class=\"sk-top-container\"><div class=\"sk-text-repr-fallback\"><pre>KNeighborsRegressor()</pre><b>In a Jupyter environment, please rerun this cell to show the HTML representation or trust the notebook. <br />On GitHub, the HTML representation is unable to render, please try loading this page with nbviewer.org.</b></div><div class=\"sk-container\" hidden><div class=\"sk-item\"><div class=\"sk-estimator sk-toggleable\"><input class=\"sk-toggleable__control sk-hidden--visually\" id=\"sk-estimator-id-2\" type=\"checkbox\" checked><label for=\"sk-estimator-id-2\" class=\"sk-toggleable__label sk-toggleable__label-arrow\">KNeighborsRegressor</label><div class=\"sk-toggleable__content\"><pre>KNeighborsRegressor()</pre></div></div></div></div></div>"
            ],
            "text/plain": [
              "KNeighborsRegressor()"
            ]
          },
          "execution_count": 79,
          "metadata": {},
          "output_type": "execute_result"
        }
      ],
      "source": [
        "from sklearn.neighbors import KNeighborsRegressor\n",
        "from sklearn.metrics import mean_squared_error\n",
        "\n",
        "# Create and fit the KNN model for k=5\n",
        "k = 5\n",
        "knn2 = KNeighborsRegressor(n_neighbors=k)\n",
        "knn2.fit(X_train, y_train)"
      ]
    },
    {
      "cell_type": "code",
      "execution_count": null,
      "id": "f5a2a845",
      "metadata": {
        "id": "f5a2a845",
        "outputId": "955ef583-995f-4c18-e868-f7b5ef5e904c"
      },
      "outputs": [
        {
          "name": "stdout",
          "output_type": "stream",
          "text": [
            "MSE for KNN: 237.325\n"
          ]
        }
      ],
      "source": [
        "y_pred = knn2.predict(X_test)\n",
        "mse = round(mean_squared_error(y_test, y_pred), 3)\n",
        "print(f\"MSE for KNN: {mse}\")"
      ]
    },
    {
      "cell_type": "code",
      "execution_count": null,
      "id": "b7197a12",
      "metadata": {
        "id": "b7197a12",
        "outputId": "8e55435a-3c00-4e88-b9b7-1cedeb7ba3cd"
      },
      "outputs": [
        {
          "name": "stdout",
          "output_type": "stream",
          "text": [
            "Predicted Pick up at H street is [42.4]\n"
          ]
        }
      ],
      "source": [
        "pu_pred_Hst = knn2.predict((X_test.iloc[[0]]))\n",
        "print(f\"Predicted Pick up at H street is {pu_pred_Hst}\")"
      ]
    },
    {
      "cell_type": "code",
      "execution_count": null,
      "id": "69707b96",
      "metadata": {
        "id": "69707b96"
      },
      "outputs": [],
      "source": []
    }
  ],
  "metadata": {
    "colab": {
      "provenance": [],
      "include_colab_link": true
    },
    "kernelspec": {
      "display_name": "Python 3 (ipykernel)",
      "language": "python",
      "name": "python3"
    },
    "language_info": {
      "codemirror_mode": {
        "name": "ipython",
        "version": 3
      },
      "file_extension": ".py",
      "mimetype": "text/x-python",
      "name": "python",
      "nbconvert_exporter": "python",
      "pygments_lexer": "ipython3",
      "version": "3.9.12"
    }
  },
  "nbformat": 4,
  "nbformat_minor": 5
}