{
  "cells": [
    {
      "cell_type": "markdown",
      "metadata": {
        "id": "view-in-github",
        "colab_type": "text"
      },
      "source": [
        "<a href=\"https://colab.research.google.com/github/Nguenda/DataDecider/blob/main/CapitalBikeshare_21st_St_%26_Pennsylvania_Ave_NW.ipynb\" target=\"_parent\"><img src=\"https://colab.research.google.com/assets/colab-badge.svg\" alt=\"Open In Colab\"/></a>"
      ]
    },
    {
      "cell_type": "markdown",
      "id": "2R4OmIJRW0w3",
      "metadata": {
        "id": "2R4OmIJRW0w3"
      },
      "source": [
        "                                 Apache License\n",
        "                           Version 2.0, January 2004\n",
        "                        http://www.apache.org/licenses/\n",
        "\n",
        "   TERMS AND CONDITIONS FOR USE, REPRODUCTION, AND DISTRIBUTION\n",
        "\n",
        "   1. Definitions.\n",
        "\n",
        "      \"License\" shall mean the terms and conditions for use, reproduction,\n",
        "      and distribution as defined by Sections 1 through 9 of this document.\n",
        "\n",
        "      \"Licensor\" shall mean the copyright owner or entity authorized by\n",
        "      the copyright owner that is granting the License.\n",
        "\n",
        "      \"Legal Entity\" shall mean the union of the acting entity and all\n",
        "      other entities that control, are controlled by, or are under common\n",
        "      control with that entity. For the purposes of this definition,\n",
        "      \"control\" means (i) the power, direct or indirect, to cause the\n",
        "      direction or management of such entity, whether by contract or\n",
        "      otherwise, or (ii) ownership of fifty percent (50%) or more of the\n",
        "      outstanding shares, or (iii) beneficial ownership of such entity.\n",
        "\n",
        "      \"You\" (or \"Your\") shall mean an individual or Legal Entity\n",
        "      exercising permissions granted by this License.\n",
        "\n",
        "      \"Source\" form shall mean the preferred form for making modifications,\n",
        "      including but not limited to software source code, documentation\n",
        "      source, and configuration files.\n",
        "\n",
        "      \"Object\" form shall mean any form resulting from mechanical\n",
        "      transformation or translation of a Source form, including but\n",
        "      not limited to compiled object code, generated documentation,\n",
        "      and conversions to other media types.\n",
        "\n",
        "      \"Work\" shall mean the work of authorship, whether in Source or\n",
        "      Object form, made available under the License, as indicated by a\n",
        "      copyright notice that is included in or attached to the work\n",
        "      (an example is provided in the Appendix below).\n",
        "\n",
        "      \"Derivative Works\" shall mean any work, whether in Source or Object\n",
        "      form, that is based on (or derived from) the Work and for which the\n",
        "      editorial revisions, annotations, elaborations, or other modifications\n",
        "      represent, as a whole, an original work of authorship. For the purposes\n",
        "      of this License, Derivative Works shall not include works that remain\n",
        "      separable from, or merely link (or bind by name) to the interfaces of,\n",
        "      the Work and Derivative Works thereof.\n",
        "\n",
        "      \"Contribution\" shall mean any work of authorship, including\n",
        "      the original version of the Work and any modifications or additions\n",
        "      to that Work or Derivative Works thereof, that is intentionally\n",
        "      submitted to Licensor for inclusion in the Work by the copyright owner\n",
        "      or by an individual or Legal Entity authorized to submit on behalf of\n",
        "      the copyright owner. For the purposes of this definition, \"submitted\"\n",
        "      means any form of electronic, verbal, or written communication sent\n",
        "      to the Licensor or its representatives, including but not limited to\n",
        "      communication on electronic mailing lists, source code control systems,\n",
        "      and issue tracking systems that are managed by, or on behalf of, the\n",
        "      Licensor for the purpose of discussing and improving the Work, but\n",
        "      excluding communication that is conspicuously marked or otherwise\n",
        "      designated in writing by the copyright owner as \"Not a Contribution.\"\n",
        "\n",
        "      \"Contributor\" shall mean Licensor and any individual or Legal Entity\n",
        "      on behalf of whom a Contribution has been received by Licensor and\n",
        "      subsequently incorporated within the Work.\n",
        "\n",
        "   2. Grant of Copyright License. Subject to the terms and conditions of\n",
        "      this License, each Contributor hereby grants to You a perpetual,\n",
        "      worldwide, non-exclusive, no-charge, royalty-free, irrevocable\n",
        "      copyright license to reproduce, prepare Derivative Works of,\n",
        "      publicly display, publicly perform, sublicense, and distribute the\n",
        "      Work and such Derivative Works in Source or Object form.\n",
        "\n",
        "   3. Grant of Patent License. Subject to the terms and conditions of\n",
        "      this License, each Contributor hereby grants to You a perpetual,\n",
        "      worldwide, non-exclusive, no-charge, royalty-free, irrevocable\n",
        "      (except as stated in this section) patent license to make, have made,\n",
        "      use, offer to sell, sell, import, and otherwise transfer the Work,\n",
        "      where such license applies only to those patent claims licensable\n",
        "      by such Contributor that are necessarily infringed by their\n",
        "      Contribution(s) alone or by combination of their Contribution(s)\n",
        "      with the Work to which such Contribution(s) was submitted. If You\n",
        "      institute patent litigation against any entity (including a\n",
        "      cross-claim or counterclaim in a lawsuit) alleging that the Work\n",
        "      or a Contribution incorporated within the Work constitutes direct\n",
        "      or contributory patent infringement, then any patent licenses\n",
        "      granted to You under this License for that Work shall terminate\n",
        "      as of the date such litigation is filed.\n",
        "\n",
        "   4. Redistribution. You may reproduce and distribute copies of the\n",
        "      Work or Derivative Works thereof in any medium, with or without\n",
        "      modifications, and in Source or Object form, provided that You\n",
        "      meet the following conditions:\n",
        "\n",
        "      (a) You must give any other recipients of the Work or\n",
        "          Derivative Works a copy of this License; and\n",
        "\n",
        "      (b) You must cause any modified files to carry prominent notices\n",
        "          stating that You changed the files; and\n",
        "\n",
        "      (c) You must retain, in the Source form of any Derivative Works\n",
        "          that You distribute, all copyright, patent, trademark, and\n",
        "          attribution notices from the Source form of the Work,\n",
        "          excluding those notices that do not pertain to any part of\n",
        "          the Derivative Works; and\n",
        "\n",
        "      (d) If the Work includes a \"NOTICE\" text file as part of its\n",
        "          distribution, then any Derivative Works that You distribute must\n",
        "          include a readable copy of the attribution notices contained\n",
        "          within such NOTICE file, excluding those notices that do not\n",
        "          pertain to any part of the Derivative Works, in at least one\n",
        "          of the following places: within a NOTICE text file distributed\n",
        "          as part of the Derivative Works; within the Source form or\n",
        "          documentation, if provided along with the Derivative Works; or,\n",
        "          within a display generated by the Derivative Works, if and\n",
        "          wherever such third-party notices normally appear. The contents\n",
        "          of the NOTICE file are for informational purposes only and\n",
        "          do not modify the License. You may add Your own attribution\n",
        "          notices within Derivative Works that You distribute, alongside\n",
        "          or as an addendum to the NOTICE text from the Work, provided\n",
        "          that such additional attribution notices cannot be construed\n",
        "          as modifying the License.\n",
        "\n",
        "      You may add Your own copyright statement to Your modifications and\n",
        "      may provide additional or different license terms and conditions\n",
        "      for use, reproduction, or distribution of Your modifications, or\n",
        "      for any such Derivative Works as a whole, provided Your use,\n",
        "      reproduction, and distribution of the Work otherwise complies with\n",
        "      the conditions stated in this License.\n",
        "\n",
        "   5. Submission of Contributions. Unless You explicitly state otherwise,\n",
        "      any Contribution intentionally submitted for inclusion in the Work\n",
        "      by You to the Licensor shall be under the terms and conditions of\n",
        "      this License, without any additional terms or conditions.\n",
        "      Notwithstanding the above, nothing herein shall supersede or modify\n",
        "      the terms of any separate license agreement you may have executed\n",
        "      with Licensor regarding such Contributions.\n",
        "\n",
        "   6. Trademarks. This License does not grant permission to use the trade\n",
        "      names, trademarks, service marks, or product names of the Licensor,\n",
        "      except as required for reasonable and customary use in describing the\n",
        "      origin of the Work and reproducing the content of the NOTICE file.\n",
        "\n",
        "   7. Disclaimer of Warranty. Unless required by applicable law or\n",
        "      agreed to in writing, Licensor provides the Work (and each\n",
        "      Contributor provides its Contributions) on an \"AS IS\" BASIS,\n",
        "      WITHOUT WARRANTIES OR CONDITIONS OF ANY KIND, either express or\n",
        "      implied, including, without limitation, any warranties or conditions\n",
        "      of TITLE, NON-INFRINGEMENT, MERCHANTABILITY, or FITNESS FOR A\n",
        "      PARTICULAR PURPOSE. You are solely responsible for determining the\n",
        "      appropriateness of using or redistributing the Work and assume any\n",
        "      risks associated with Your exercise of permissions under this License.\n",
        "\n",
        "   8. Limitation of Liability. In no event and under no legal theory,\n",
        "      whether in tort (including negligence), contract, or otherwise,\n",
        "      unless required by applicable law (such as deliberate and grossly\n",
        "      negligent acts) or agreed to in writing, shall any Contributor be\n",
        "      liable to You for damages, including any direct, indirect, special,\n",
        "      incidental, or consequential damages of any character arising as a\n",
        "      result of this License or out of the use or inability to use the\n",
        "      Work (including but not limited to damages for loss of goodwill,\n",
        "      work stoppage, computer failure or malfunction, or any and all\n",
        "      other commercial damages or losses), even if such Contributor\n",
        "      has been advised of the possibility of such damages.\n",
        "\n",
        "   9. Accepting Warranty or Additional Liability. While redistributing\n",
        "      the Work or Derivative Works thereof, You may choose to offer,\n",
        "      and charge a fee for, acceptance of support, warranty, indemnity,\n",
        "      or other liability obligations and/or rights consistent with this\n",
        "      License. However, in accepting such obligations, You may act only\n",
        "      on Your own behalf and on Your sole responsibility, not on behalf\n",
        "      of any other Contributor, and only if You agree to indemnify,\n",
        "      defend, and hold each Contributor harmless for any liability\n",
        "      incurred by, or claims asserted against, such Contributor by reason\n",
        "      of your accepting any such warranty or additional liability.\n",
        "\n",
        "   END OF TERMS AND CONDITIONS\n",
        "\n",
        "   APPENDIX: How to apply the Apache License to your work.\n",
        "\n",
        "      To apply the Apache License to your work, attach the following\n",
        "      boilerplate notice, with the fields enclosed by brackets \"[]\"\n",
        "      replaced with your own identifying information. (Don't include\n",
        "      the brackets!)  The text should be enclosed in the appropriate\n",
        "      comment syntax for the file format. We also recommend that a\n",
        "      file or class name and description of purpose be included on the\n",
        "      same \"printed page\" as the copyright notice for easier\n",
        "      identification within third-party archives.\n",
        "\n",
        "   Copyright [yyyy] [name of copyright owner]\n",
        "\n",
        "   Licensed under the Apache License, Version 2.0 (the \"License\");\n",
        "   you may not use this file except in compliance with the License.\n",
        "   You may obtain a copy of the License at\n",
        "\n",
        "       http://www.apache.org/licenses/LICENSE-2.0\n",
        "\n",
        "   Unless required by applicable law or agreed to in writing, software\n",
        "   distributed under the License is distributed on an \"AS IS\" BASIS,\n",
        "   WITHOUT WARRANTIES OR CONDITIONS OF ANY KIND, either express or implied.\n",
        "   See the License for the specific language governing permissions and\n",
        "   limitations under the License."
      ]
    },
    {
      "cell_type": "code",
      "execution_count": null,
      "id": "71f2d692",
      "metadata": {
        "id": "71f2d692"
      },
      "outputs": [],
      "source": [
        "import pandas as pd\n",
        "import numpy as np\n",
        "import matplotlib.pyplot as plt\n",
        "import matplotlib.dates as mdates\n",
        "import seaborn as sns\n",
        "from sklearn.linear_model import LinearRegression, Ridge, RidgeCV, Lasso, LassoCV\n",
        "from sklearn.preprocessing import scale \n",
        "import warnings\n",
        "warnings.filterwarnings('ignore')"
      ]
    },
    {
      "cell_type": "code",
      "execution_count": null,
      "id": "WTuTWQvbfE3o",
      "metadata": {
        "colab": {
          "base_uri": "https://localhost:8080/",
          "height": 37
        },
        "id": "WTuTWQvbfE3o",
        "outputId": "6e78b741-2c2e-494e-b5d5-177a3b891d88"
      },
      "outputs": [
        {
          "data": {
            "text/plain": [
              "'/Users/agnesdanielleflorenguenda/Dropbox/Mac/Downloads/Spring semester classes/Machine Learning I/Group assignment'"
            ]
          },
          "execution_count": 2,
          "metadata": {},
          "output_type": "execute_result"
        }
      ],
      "source": [
        "%pwd"
      ]
    },
    {
      "cell_type": "code",
      "execution_count": null,
      "id": "b70e3ccf",
      "metadata": {
        "id": "b70e3ccf",
        "outputId": "a098bd01-cca1-4c6e-d8ca-ff677257005a"
      },
      "outputs": [
        {
          "data": {
            "text/plain": [
              "'\\nAssumptions\\nHow many bikes to start with, eg 20 30 40 50 (try 2 scenarios when low or high or medium)\\nYou can optimize to optimal docking\\nCollect weather\\nCollect time & date\\nChoose locations\\n\\n\\n'"
            ]
          },
          "execution_count": 3,
          "metadata": {},
          "output_type": "execute_result"
        }
      ],
      "source": [
        "'''\n",
        "Assumptions\n",
        "How many bikes to start with, eg 20 30 40 50 (try 2 scenarios when low or high or medium)\n",
        "You can optimize to optimal docking\n",
        "Collect weather\n",
        "Collect time & date\n",
        "Choose locations\n",
        "\n",
        "\n",
        "'''"
      ]
    },
    {
      "cell_type": "markdown",
      "id": "55a91441",
      "metadata": {
        "id": "55a91441"
      },
      "source": [
        "### Capital Bikeshare Data\n",
        "https://ride.capitalbikeshare.com/system-data\n",
        "\n",
        "We deal with data from Jan to Apr in 2022"
      ]
    },
    {
      "cell_type": "code",
      "execution_count": null,
      "id": "e54dd37d",
      "metadata": {
        "id": "e54dd37d"
      },
      "outputs": [],
      "source": [
        "# read csv files\n",
        "df_Jan=pd.read_csv('/202201-capitalbikeshare-tripdata.csv')\n",
        "df_Feb=pd.read_csv('/202202-capitalbikeshare-tripdata.csv')\n",
        "df_Mar=pd.read_csv('/202203-capitalbikeshare-tripdata.csv')\n",
        "df_Apr=pd.read_csv('/202204-capitalbikeshare-tripdata.csv')"
      ]
    },
    {
      "cell_type": "code",
      "execution_count": null,
      "id": "0bbfce28",
      "metadata": {
        "id": "0bbfce28",
        "outputId": "f19a65fe-773d-48d7-f033-66cb4bc05a03"
      },
      "outputs": [
        {
          "data": {
            "text/html": [
              "<div>\n",
              "<style scoped>\n",
              "    .dataframe tbody tr th:only-of-type {\n",
              "        vertical-align: middle;\n",
              "    }\n",
              "\n",
              "    .dataframe tbody tr th {\n",
              "        vertical-align: top;\n",
              "    }\n",
              "\n",
              "    .dataframe thead th {\n",
              "        text-align: right;\n",
              "    }\n",
              "</style>\n",
              "<table border=\"1\" class=\"dataframe\">\n",
              "  <thead>\n",
              "    <tr style=\"text-align: right;\">\n",
              "      <th></th>\n",
              "      <th>ride_id</th>\n",
              "      <th>rideable_type</th>\n",
              "      <th>started_at</th>\n",
              "      <th>ended_at</th>\n",
              "      <th>start_station_name</th>\n",
              "      <th>start_station_id</th>\n",
              "      <th>end_station_name</th>\n",
              "      <th>end_station_id</th>\n",
              "      <th>start_lat</th>\n",
              "      <th>start_lng</th>\n",
              "      <th>end_lat</th>\n",
              "      <th>end_lng</th>\n",
              "      <th>member_casual</th>\n",
              "    </tr>\n",
              "  </thead>\n",
              "  <tbody>\n",
              "    <tr>\n",
              "      <th>0</th>\n",
              "      <td>8F5ADBABCB4EBE01</td>\n",
              "      <td>classic_bike</td>\n",
              "      <td>2022-04-15 10:09:53</td>\n",
              "      <td>2022-04-15 10:16:12</td>\n",
              "      <td>Maine Ave &amp; 9th St SW</td>\n",
              "      <td>31646.0</td>\n",
              "      <td>Smithsonian-National Mall / Jefferson Dr &amp; 12t...</td>\n",
              "      <td>31248.0</td>\n",
              "      <td>38.880440</td>\n",
              "      <td>-77.025236</td>\n",
              "      <td>38.888774</td>\n",
              "      <td>-77.028694</td>\n",
              "      <td>member</td>\n",
              "    </tr>\n",
              "    <tr>\n",
              "      <th>1</th>\n",
              "      <td>F502B0A7034DE321</td>\n",
              "      <td>classic_bike</td>\n",
              "      <td>2022-04-30 20:00:03</td>\n",
              "      <td>2022-05-01 14:27:41</td>\n",
              "      <td>Braddock Rd Metro North</td>\n",
              "      <td>31047.0</td>\n",
              "      <td>Braddock Rd Metro South</td>\n",
              "      <td>31969.0</td>\n",
              "      <td>38.814577</td>\n",
              "      <td>-77.052808</td>\n",
              "      <td>38.813474</td>\n",
              "      <td>-77.053734</td>\n",
              "      <td>casual</td>\n",
              "    </tr>\n",
              "    <tr>\n",
              "      <th>2</th>\n",
              "      <td>01BF0E3746A32678</td>\n",
              "      <td>classic_bike</td>\n",
              "      <td>2022-04-20 19:35:59</td>\n",
              "      <td>2022-04-20 19:41:04</td>\n",
              "      <td>11th &amp; V st NW</td>\n",
              "      <td>31332.0</td>\n",
              "      <td>14th &amp; Belmont St NW</td>\n",
              "      <td>31119.0</td>\n",
              "      <td>38.918199</td>\n",
              "      <td>-77.027171</td>\n",
              "      <td>38.921074</td>\n",
              "      <td>-77.031887</td>\n",
              "      <td>member</td>\n",
              "    </tr>\n",
              "    <tr>\n",
              "      <th>3</th>\n",
              "      <td>94BD7902E9889076</td>\n",
              "      <td>docked_bike</td>\n",
              "      <td>2022-04-15 17:23:21</td>\n",
              "      <td>2022-04-15 17:48:35</td>\n",
              "      <td>14th &amp; D St NW / Ronald Reagan Building</td>\n",
              "      <td>31231.0</td>\n",
              "      <td>15th &amp; W St NW</td>\n",
              "      <td>31125.0</td>\n",
              "      <td>38.894514</td>\n",
              "      <td>-77.031617</td>\n",
              "      <td>38.919019</td>\n",
              "      <td>-77.034449</td>\n",
              "      <td>casual</td>\n",
              "    </tr>\n",
              "    <tr>\n",
              "      <th>4</th>\n",
              "      <td>2CA1C29600E5F00A</td>\n",
              "      <td>classic_bike</td>\n",
              "      <td>2022-04-18 09:04:07</td>\n",
              "      <td>2022-04-18 09:05:12</td>\n",
              "      <td>11th &amp; V st NW</td>\n",
              "      <td>31332.0</td>\n",
              "      <td>11th &amp; V st NW</td>\n",
              "      <td>31332.0</td>\n",
              "      <td>38.918199</td>\n",
              "      <td>-77.027171</td>\n",
              "      <td>38.918199</td>\n",
              "      <td>-77.027171</td>\n",
              "      <td>member</td>\n",
              "    </tr>\n",
              "  </tbody>\n",
              "</table>\n",
              "</div>"
            ],
            "text/plain": [
              "            ride_id rideable_type           started_at             ended_at   \n",
              "0  8F5ADBABCB4EBE01  classic_bike  2022-04-15 10:09:53  2022-04-15 10:16:12  \\\n",
              "1  F502B0A7034DE321  classic_bike  2022-04-30 20:00:03  2022-05-01 14:27:41   \n",
              "2  01BF0E3746A32678  classic_bike  2022-04-20 19:35:59  2022-04-20 19:41:04   \n",
              "3  94BD7902E9889076   docked_bike  2022-04-15 17:23:21  2022-04-15 17:48:35   \n",
              "4  2CA1C29600E5F00A  classic_bike  2022-04-18 09:04:07  2022-04-18 09:05:12   \n",
              "\n",
              "                        start_station_name  start_station_id   \n",
              "0                    Maine Ave & 9th St SW           31646.0  \\\n",
              "1                  Braddock Rd Metro North           31047.0   \n",
              "2                           11th & V st NW           31332.0   \n",
              "3  14th & D St NW / Ronald Reagan Building           31231.0   \n",
              "4                           11th & V st NW           31332.0   \n",
              "\n",
              "                                    end_station_name  end_station_id   \n",
              "0  Smithsonian-National Mall / Jefferson Dr & 12t...         31248.0  \\\n",
              "1                            Braddock Rd Metro South         31969.0   \n",
              "2                               14th & Belmont St NW         31119.0   \n",
              "3                                     15th & W St NW         31125.0   \n",
              "4                                     11th & V st NW         31332.0   \n",
              "\n",
              "   start_lat  start_lng    end_lat    end_lng member_casual  \n",
              "0  38.880440 -77.025236  38.888774 -77.028694        member  \n",
              "1  38.814577 -77.052808  38.813474 -77.053734        casual  \n",
              "2  38.918199 -77.027171  38.921074 -77.031887        member  \n",
              "3  38.894514 -77.031617  38.919019 -77.034449        casual  \n",
              "4  38.918199 -77.027171  38.918199 -77.027171        member  "
            ]
          },
          "execution_count": 5,
          "metadata": {},
          "output_type": "execute_result"
        }
      ],
      "source": [
        "df_Apr.head()"
      ]
    },
    {
      "cell_type": "code",
      "execution_count": null,
      "id": "e370c1f7",
      "metadata": {
        "id": "e370c1f7",
        "outputId": "18a412c7-f28c-498d-e260-d9867e4246de"
      },
      "outputs": [
        {
          "name": "stdout",
          "output_type": "stream",
          "text": [
            "<class 'pandas.core.frame.DataFrame'>\n",
            "Index: 828621 entries, 0 to 310434\n",
            "Data columns (total 13 columns):\n",
            " #   Column              Non-Null Count   Dtype  \n",
            "---  ------              --------------   -----  \n",
            " 0   ride_id             828621 non-null  object \n",
            " 1   rideable_type       828621 non-null  object \n",
            " 2   started_at          828621 non-null  object \n",
            " 3   ended_at            828621 non-null  object \n",
            " 4   start_station_name  792027 non-null  object \n",
            " 5   start_station_id    792027 non-null  float64\n",
            " 6   end_station_name    786251 non-null  object \n",
            " 7   end_station_id      786251 non-null  float64\n",
            " 8   start_lat           828621 non-null  float64\n",
            " 9   start_lng           828621 non-null  float64\n",
            " 10  end_lat             827170 non-null  float64\n",
            " 11  end_lng             827170 non-null  float64\n",
            " 12  member_casual       828621 non-null  object \n",
            "dtypes: float64(6), object(7)\n",
            "memory usage: 88.5+ MB\n"
          ]
        }
      ],
      "source": [
        "# concat data\n",
        "df=pd.concat([df_Jan,df_Feb,df_Mar,df_Apr])\n",
        "df.info()"
      ]
    },
    {
      "cell_type": "code",
      "execution_count": null,
      "id": "6e4405c7",
      "metadata": {
        "id": "6e4405c7",
        "outputId": "aa86c90c-ecb0-4d65-cbaa-8df6bb76260e"
      },
      "outputs": [
        {
          "data": {
            "text/html": [
              "<div>\n",
              "<style scoped>\n",
              "    .dataframe tbody tr th:only-of-type {\n",
              "        vertical-align: middle;\n",
              "    }\n",
              "\n",
              "    .dataframe tbody tr th {\n",
              "        vertical-align: top;\n",
              "    }\n",
              "\n",
              "    .dataframe thead th {\n",
              "        text-align: right;\n",
              "    }\n",
              "</style>\n",
              "<table border=\"1\" class=\"dataframe\">\n",
              "  <thead>\n",
              "    <tr style=\"text-align: right;\">\n",
              "      <th></th>\n",
              "      <th>ride_id</th>\n",
              "      <th>rideable_type</th>\n",
              "      <th>started_at</th>\n",
              "      <th>ended_at</th>\n",
              "      <th>start_station_name</th>\n",
              "      <th>start_station_id</th>\n",
              "      <th>end_station_name</th>\n",
              "      <th>end_station_id</th>\n",
              "      <th>start_lat</th>\n",
              "      <th>start_lng</th>\n",
              "      <th>end_lat</th>\n",
              "      <th>end_lng</th>\n",
              "      <th>member_casual</th>\n",
              "    </tr>\n",
              "  </thead>\n",
              "  <tbody>\n",
              "    <tr>\n",
              "      <th>0</th>\n",
              "      <td>1B4445D591115BD9</td>\n",
              "      <td>classic_bike</td>\n",
              "      <td>2022-01-06 18:39:28</td>\n",
              "      <td>2022-01-06 18:43:03</td>\n",
              "      <td>Monroe Ave &amp; Leslie Ave</td>\n",
              "      <td>31087.0</td>\n",
              "      <td>Potomac Ave &amp; Main Line Blvd</td>\n",
              "      <td>31910.0</td>\n",
              "      <td>38.820932</td>\n",
              "      <td>-77.053096</td>\n",
              "      <td>38.822738</td>\n",
              "      <td>-77.049265</td>\n",
              "      <td>member</td>\n",
              "    </tr>\n",
              "    <tr>\n",
              "      <th>1</th>\n",
              "      <td>7F4A0E2F03EADEB7</td>\n",
              "      <td>classic_bike</td>\n",
              "      <td>2022-01-31 19:21:22</td>\n",
              "      <td>2022-01-31 19:27:33</td>\n",
              "      <td>14th &amp; L St NW</td>\n",
              "      <td>31283.0</td>\n",
              "      <td>10th &amp; G St NW</td>\n",
              "      <td>31274.0</td>\n",
              "      <td>38.903658</td>\n",
              "      <td>-77.031737</td>\n",
              "      <td>38.898243</td>\n",
              "      <td>-77.026235</td>\n",
              "      <td>member</td>\n",
              "    </tr>\n",
              "    <tr>\n",
              "      <th>2</th>\n",
              "      <td>30DD8A84164843AD</td>\n",
              "      <td>classic_bike</td>\n",
              "      <td>2022-01-07 15:28:39</td>\n",
              "      <td>2022-01-07 15:31:01</td>\n",
              "      <td>14th &amp; L St NW</td>\n",
              "      <td>31283.0</td>\n",
              "      <td>12th &amp; L St NW</td>\n",
              "      <td>31251.0</td>\n",
              "      <td>38.903658</td>\n",
              "      <td>-77.031737</td>\n",
              "      <td>38.903819</td>\n",
              "      <td>-77.028400</td>\n",
              "      <td>member</td>\n",
              "    </tr>\n",
              "    <tr>\n",
              "      <th>3</th>\n",
              "      <td>FC67665D7682D0A6</td>\n",
              "      <td>classic_bike</td>\n",
              "      <td>2022-01-27 20:09:25</td>\n",
              "      <td>2022-01-27 20:37:02</td>\n",
              "      <td>New York Ave &amp; Hecht Ave NE</td>\n",
              "      <td>31518.0</td>\n",
              "      <td>Nannie Helen Burroughs &amp; Minnesota Ave NE</td>\n",
              "      <td>31704.0</td>\n",
              "      <td>38.915604</td>\n",
              "      <td>-76.983683</td>\n",
              "      <td>38.901385</td>\n",
              "      <td>-76.941877</td>\n",
              "      <td>casual</td>\n",
              "    </tr>\n",
              "    <tr>\n",
              "      <th>4</th>\n",
              "      <td>7854F7CC4F631A1E</td>\n",
              "      <td>classic_bike</td>\n",
              "      <td>2022-01-07 16:14:28</td>\n",
              "      <td>2022-01-07 16:16:13</td>\n",
              "      <td>Falls Church City Hall / Park Ave &amp; Little Fal...</td>\n",
              "      <td>32608.0</td>\n",
              "      <td>Pennsylvania Ave &amp; Park Ave</td>\n",
              "      <td>32603.0</td>\n",
              "      <td>38.885434</td>\n",
              "      <td>-77.173605</td>\n",
              "      <td>38.887403</td>\n",
              "      <td>-77.176992</td>\n",
              "      <td>member</td>\n",
              "    </tr>\n",
              "  </tbody>\n",
              "</table>\n",
              "</div>"
            ],
            "text/plain": [
              "            ride_id rideable_type           started_at             ended_at   \n",
              "0  1B4445D591115BD9  classic_bike  2022-01-06 18:39:28  2022-01-06 18:43:03  \\\n",
              "1  7F4A0E2F03EADEB7  classic_bike  2022-01-31 19:21:22  2022-01-31 19:27:33   \n",
              "2  30DD8A84164843AD  classic_bike  2022-01-07 15:28:39  2022-01-07 15:31:01   \n",
              "3  FC67665D7682D0A6  classic_bike  2022-01-27 20:09:25  2022-01-27 20:37:02   \n",
              "4  7854F7CC4F631A1E  classic_bike  2022-01-07 16:14:28  2022-01-07 16:16:13   \n",
              "\n",
              "                                  start_station_name  start_station_id   \n",
              "0                            Monroe Ave & Leslie Ave           31087.0  \\\n",
              "1                                     14th & L St NW           31283.0   \n",
              "2                                     14th & L St NW           31283.0   \n",
              "3                        New York Ave & Hecht Ave NE           31518.0   \n",
              "4  Falls Church City Hall / Park Ave & Little Fal...           32608.0   \n",
              "\n",
              "                            end_station_name  end_station_id  start_lat   \n",
              "0               Potomac Ave & Main Line Blvd         31910.0  38.820932  \\\n",
              "1                             10th & G St NW         31274.0  38.903658   \n",
              "2                             12th & L St NW         31251.0  38.903658   \n",
              "3  Nannie Helen Burroughs & Minnesota Ave NE         31704.0  38.915604   \n",
              "4                Pennsylvania Ave & Park Ave         32603.0  38.885434   \n",
              "\n",
              "   start_lng    end_lat    end_lng member_casual  \n",
              "0 -77.053096  38.822738 -77.049265        member  \n",
              "1 -77.031737  38.898243 -77.026235        member  \n",
              "2 -77.031737  38.903819 -77.028400        member  \n",
              "3 -76.983683  38.901385 -76.941877        casual  \n",
              "4 -77.173605  38.887403 -77.176992        member  "
            ]
          },
          "execution_count": 7,
          "metadata": {},
          "output_type": "execute_result"
        }
      ],
      "source": [
        "df.head()"
      ]
    },
    {
      "cell_type": "markdown",
      "id": "1520a1db",
      "metadata": {
        "id": "1520a1db"
      },
      "source": [
        "### Be careful when dealing with time and date"
      ]
    },
    {
      "cell_type": "code",
      "execution_count": null,
      "id": "5f55be11",
      "metadata": {
        "id": "5f55be11"
      },
      "outputs": [],
      "source": [
        "# Transform time to date ONLY\n",
        "df['started_at_date'] = pd.to_datetime(df['started_at']).dt.date\n",
        "df['ended_at_date'] = pd.to_datetime(df['ended_at']).dt.date"
      ]
    },
    {
      "cell_type": "code",
      "execution_count": null,
      "id": "88f12e86",
      "metadata": {
        "id": "88f12e86",
        "outputId": "80a8a57d-1542-4027-ea9e-5c11a807b44e"
      },
      "outputs": [
        {
          "data": {
            "text/html": [
              "<div>\n",
              "<style scoped>\n",
              "    .dataframe tbody tr th:only-of-type {\n",
              "        vertical-align: middle;\n",
              "    }\n",
              "\n",
              "    .dataframe tbody tr th {\n",
              "        vertical-align: top;\n",
              "    }\n",
              "\n",
              "    .dataframe thead th {\n",
              "        text-align: right;\n",
              "    }\n",
              "</style>\n",
              "<table border=\"1\" class=\"dataframe\">\n",
              "  <thead>\n",
              "    <tr style=\"text-align: right;\">\n",
              "      <th></th>\n",
              "      <th>ride_id</th>\n",
              "      <th>rideable_type</th>\n",
              "      <th>started_at</th>\n",
              "      <th>ended_at</th>\n",
              "      <th>start_station_name</th>\n",
              "      <th>start_station_id</th>\n",
              "      <th>end_station_name</th>\n",
              "      <th>end_station_id</th>\n",
              "      <th>start_lat</th>\n",
              "      <th>start_lng</th>\n",
              "      <th>end_lat</th>\n",
              "      <th>end_lng</th>\n",
              "      <th>member_casual</th>\n",
              "      <th>started_at_date</th>\n",
              "      <th>ended_at_date</th>\n",
              "    </tr>\n",
              "  </thead>\n",
              "  <tbody>\n",
              "    <tr>\n",
              "      <th>0</th>\n",
              "      <td>1B4445D591115BD9</td>\n",
              "      <td>classic_bike</td>\n",
              "      <td>2022-01-06 18:39:28</td>\n",
              "      <td>2022-01-06 18:43:03</td>\n",
              "      <td>Monroe Ave &amp; Leslie Ave</td>\n",
              "      <td>31087.0</td>\n",
              "      <td>Potomac Ave &amp; Main Line Blvd</td>\n",
              "      <td>31910.0</td>\n",
              "      <td>38.820932</td>\n",
              "      <td>-77.053096</td>\n",
              "      <td>38.822738</td>\n",
              "      <td>-77.049265</td>\n",
              "      <td>member</td>\n",
              "      <td>2022-01-06</td>\n",
              "      <td>2022-01-06</td>\n",
              "    </tr>\n",
              "    <tr>\n",
              "      <th>1</th>\n",
              "      <td>7F4A0E2F03EADEB7</td>\n",
              "      <td>classic_bike</td>\n",
              "      <td>2022-01-31 19:21:22</td>\n",
              "      <td>2022-01-31 19:27:33</td>\n",
              "      <td>14th &amp; L St NW</td>\n",
              "      <td>31283.0</td>\n",
              "      <td>10th &amp; G St NW</td>\n",
              "      <td>31274.0</td>\n",
              "      <td>38.903658</td>\n",
              "      <td>-77.031737</td>\n",
              "      <td>38.898243</td>\n",
              "      <td>-77.026235</td>\n",
              "      <td>member</td>\n",
              "      <td>2022-01-31</td>\n",
              "      <td>2022-01-31</td>\n",
              "    </tr>\n",
              "    <tr>\n",
              "      <th>2</th>\n",
              "      <td>30DD8A84164843AD</td>\n",
              "      <td>classic_bike</td>\n",
              "      <td>2022-01-07 15:28:39</td>\n",
              "      <td>2022-01-07 15:31:01</td>\n",
              "      <td>14th &amp; L St NW</td>\n",
              "      <td>31283.0</td>\n",
              "      <td>12th &amp; L St NW</td>\n",
              "      <td>31251.0</td>\n",
              "      <td>38.903658</td>\n",
              "      <td>-77.031737</td>\n",
              "      <td>38.903819</td>\n",
              "      <td>-77.028400</td>\n",
              "      <td>member</td>\n",
              "      <td>2022-01-07</td>\n",
              "      <td>2022-01-07</td>\n",
              "    </tr>\n",
              "    <tr>\n",
              "      <th>3</th>\n",
              "      <td>FC67665D7682D0A6</td>\n",
              "      <td>classic_bike</td>\n",
              "      <td>2022-01-27 20:09:25</td>\n",
              "      <td>2022-01-27 20:37:02</td>\n",
              "      <td>New York Ave &amp; Hecht Ave NE</td>\n",
              "      <td>31518.0</td>\n",
              "      <td>Nannie Helen Burroughs &amp; Minnesota Ave NE</td>\n",
              "      <td>31704.0</td>\n",
              "      <td>38.915604</td>\n",
              "      <td>-76.983683</td>\n",
              "      <td>38.901385</td>\n",
              "      <td>-76.941877</td>\n",
              "      <td>casual</td>\n",
              "      <td>2022-01-27</td>\n",
              "      <td>2022-01-27</td>\n",
              "    </tr>\n",
              "    <tr>\n",
              "      <th>4</th>\n",
              "      <td>7854F7CC4F631A1E</td>\n",
              "      <td>classic_bike</td>\n",
              "      <td>2022-01-07 16:14:28</td>\n",
              "      <td>2022-01-07 16:16:13</td>\n",
              "      <td>Falls Church City Hall / Park Ave &amp; Little Fal...</td>\n",
              "      <td>32608.0</td>\n",
              "      <td>Pennsylvania Ave &amp; Park Ave</td>\n",
              "      <td>32603.0</td>\n",
              "      <td>38.885434</td>\n",
              "      <td>-77.173605</td>\n",
              "      <td>38.887403</td>\n",
              "      <td>-77.176992</td>\n",
              "      <td>member</td>\n",
              "      <td>2022-01-07</td>\n",
              "      <td>2022-01-07</td>\n",
              "    </tr>\n",
              "  </tbody>\n",
              "</table>\n",
              "</div>"
            ],
            "text/plain": [
              "            ride_id rideable_type           started_at             ended_at   \n",
              "0  1B4445D591115BD9  classic_bike  2022-01-06 18:39:28  2022-01-06 18:43:03  \\\n",
              "1  7F4A0E2F03EADEB7  classic_bike  2022-01-31 19:21:22  2022-01-31 19:27:33   \n",
              "2  30DD8A84164843AD  classic_bike  2022-01-07 15:28:39  2022-01-07 15:31:01   \n",
              "3  FC67665D7682D0A6  classic_bike  2022-01-27 20:09:25  2022-01-27 20:37:02   \n",
              "4  7854F7CC4F631A1E  classic_bike  2022-01-07 16:14:28  2022-01-07 16:16:13   \n",
              "\n",
              "                                  start_station_name  start_station_id   \n",
              "0                            Monroe Ave & Leslie Ave           31087.0  \\\n",
              "1                                     14th & L St NW           31283.0   \n",
              "2                                     14th & L St NW           31283.0   \n",
              "3                        New York Ave & Hecht Ave NE           31518.0   \n",
              "4  Falls Church City Hall / Park Ave & Little Fal...           32608.0   \n",
              "\n",
              "                            end_station_name  end_station_id  start_lat   \n",
              "0               Potomac Ave & Main Line Blvd         31910.0  38.820932  \\\n",
              "1                             10th & G St NW         31274.0  38.903658   \n",
              "2                             12th & L St NW         31251.0  38.903658   \n",
              "3  Nannie Helen Burroughs & Minnesota Ave NE         31704.0  38.915604   \n",
              "4                Pennsylvania Ave & Park Ave         32603.0  38.885434   \n",
              "\n",
              "   start_lng    end_lat    end_lng member_casual started_at_date ended_at_date  \n",
              "0 -77.053096  38.822738 -77.049265        member      2022-01-06    2022-01-06  \n",
              "1 -77.031737  38.898243 -77.026235        member      2022-01-31    2022-01-31  \n",
              "2 -77.031737  38.903819 -77.028400        member      2022-01-07    2022-01-07  \n",
              "3 -76.983683  38.901385 -76.941877        casual      2022-01-27    2022-01-27  \n",
              "4 -77.173605  38.887403 -77.176992        member      2022-01-07    2022-01-07  "
            ]
          },
          "execution_count": 9,
          "metadata": {},
          "output_type": "execute_result"
        }
      ],
      "source": [
        "df.head()"
      ]
    },
    {
      "cell_type": "markdown",
      "id": "fb061040",
      "metadata": {
        "id": "fb061040"
      },
      "source": [
        "\n",
        "### We work with '21st & I St NW' and '21st St & Pennsylvania Ave NW' ."
      ]
    },
    {
      "cell_type": "markdown",
      "id": "d01737fc",
      "metadata": {
        "id": "d01737fc"
      },
      "source": [
        "### Count daily pickups"
      ]
    },
    {
      "cell_type": "code",
      "execution_count": null,
      "id": "143741b5",
      "metadata": {
        "id": "143741b5",
        "outputId": "a1e3af29-008e-4e34-a87a-29311431d82d"
      },
      "outputs": [
        {
          "data": {
            "text/html": [
              "<div>\n",
              "<style scoped>\n",
              "    .dataframe tbody tr th:only-of-type {\n",
              "        vertical-align: middle;\n",
              "    }\n",
              "\n",
              "    .dataframe tbody tr th {\n",
              "        vertical-align: top;\n",
              "    }\n",
              "\n",
              "    .dataframe thead th {\n",
              "        text-align: right;\n",
              "    }\n",
              "</style>\n",
              "<table border=\"1\" class=\"dataframe\">\n",
              "  <thead>\n",
              "    <tr style=\"text-align: right;\">\n",
              "      <th></th>\n",
              "      <th>started_at_date</th>\n",
              "      <th>start_station_name</th>\n",
              "      <th>pu_ct</th>\n",
              "    </tr>\n",
              "  </thead>\n",
              "  <tbody>\n",
              "    <tr>\n",
              "      <th>0</th>\n",
              "      <td>2022-01-01</td>\n",
              "      <td>21st St &amp; Pennsylvania Ave NW</td>\n",
              "      <td>5</td>\n",
              "    </tr>\n",
              "    <tr>\n",
              "      <th>1</th>\n",
              "      <td>2022-01-02</td>\n",
              "      <td>21st St &amp; Pennsylvania Ave NW</td>\n",
              "      <td>1</td>\n",
              "    </tr>\n",
              "    <tr>\n",
              "      <th>2</th>\n",
              "      <td>2022-01-03</td>\n",
              "      <td>21st St &amp; Pennsylvania Ave NW</td>\n",
              "      <td>1</td>\n",
              "    </tr>\n",
              "    <tr>\n",
              "      <th>3</th>\n",
              "      <td>2022-01-05</td>\n",
              "      <td>21st St &amp; Pennsylvania Ave NW</td>\n",
              "      <td>3</td>\n",
              "    </tr>\n",
              "    <tr>\n",
              "      <th>4</th>\n",
              "      <td>2022-01-06</td>\n",
              "      <td>21st St &amp; Pennsylvania Ave NW</td>\n",
              "      <td>5</td>\n",
              "    </tr>\n",
              "    <tr>\n",
              "      <th>...</th>\n",
              "      <td>...</td>\n",
              "      <td>...</td>\n",
              "      <td>...</td>\n",
              "    </tr>\n",
              "    <tr>\n",
              "      <th>110</th>\n",
              "      <td>2022-04-26</td>\n",
              "      <td>21st St &amp; Pennsylvania Ave NW</td>\n",
              "      <td>22</td>\n",
              "    </tr>\n",
              "    <tr>\n",
              "      <th>111</th>\n",
              "      <td>2022-04-27</td>\n",
              "      <td>21st St &amp; Pennsylvania Ave NW</td>\n",
              "      <td>21</td>\n",
              "    </tr>\n",
              "    <tr>\n",
              "      <th>112</th>\n",
              "      <td>2022-04-28</td>\n",
              "      <td>21st St &amp; Pennsylvania Ave NW</td>\n",
              "      <td>23</td>\n",
              "    </tr>\n",
              "    <tr>\n",
              "      <th>113</th>\n",
              "      <td>2022-04-29</td>\n",
              "      <td>21st St &amp; Pennsylvania Ave NW</td>\n",
              "      <td>23</td>\n",
              "    </tr>\n",
              "    <tr>\n",
              "      <th>114</th>\n",
              "      <td>2022-04-30</td>\n",
              "      <td>21st St &amp; Pennsylvania Ave NW</td>\n",
              "      <td>11</td>\n",
              "    </tr>\n",
              "  </tbody>\n",
              "</table>\n",
              "<p>115 rows × 3 columns</p>\n",
              "</div>"
            ],
            "text/plain": [
              "    started_at_date             start_station_name  pu_ct\n",
              "0        2022-01-01  21st St & Pennsylvania Ave NW      5\n",
              "1        2022-01-02  21st St & Pennsylvania Ave NW      1\n",
              "2        2022-01-03  21st St & Pennsylvania Ave NW      1\n",
              "3        2022-01-05  21st St & Pennsylvania Ave NW      3\n",
              "4        2022-01-06  21st St & Pennsylvania Ave NW      5\n",
              "..              ...                            ...    ...\n",
              "110      2022-04-26  21st St & Pennsylvania Ave NW     22\n",
              "111      2022-04-27  21st St & Pennsylvania Ave NW     21\n",
              "112      2022-04-28  21st St & Pennsylvania Ave NW     23\n",
              "113      2022-04-29  21st St & Pennsylvania Ave NW     23\n",
              "114      2022-04-30  21st St & Pennsylvania Ave NW     11\n",
              "\n",
              "[115 rows x 3 columns]"
            ]
          },
          "execution_count": 10,
          "metadata": {},
          "output_type": "execute_result"
        }
      ],
      "source": [
        "# Group and get pickup occurrence for 21st St & Pennsylvania Ave NW\n",
        "df_sub1 = df[df['start_station_name']==\"21st St & Pennsylvania Ave NW\"]\n",
        "df_grp1 = df_sub1.groupby(['started_at_date','start_station_name']).size()\n",
        "df_pu=df_grp1.reset_index(name = \"pu_ct\")\n",
        "df_pu"
      ]
    },
    {
      "cell_type": "code",
      "execution_count": null,
      "id": "dcba4855",
      "metadata": {
        "id": "dcba4855",
        "outputId": "d8956b28-c4bc-4111-8ad2-9d80d98a2c9c"
      },
      "outputs": [
        {
          "data": {
            "text/plain": [
              "started_at_date  start_station_name           \n",
              "2022-01-01       21st St & Pennsylvania Ave NW     5\n",
              "2022-01-02       21st St & Pennsylvania Ave NW     1\n",
              "2022-01-03       21st St & Pennsylvania Ave NW     1\n",
              "2022-01-05       21st St & Pennsylvania Ave NW     3\n",
              "2022-01-06       21st St & Pennsylvania Ave NW     5\n",
              "                                                  ..\n",
              "2022-04-26       21st St & Pennsylvania Ave NW    22\n",
              "2022-04-27       21st St & Pennsylvania Ave NW    21\n",
              "2022-04-28       21st St & Pennsylvania Ave NW    23\n",
              "2022-04-29       21st St & Pennsylvania Ave NW    23\n",
              "2022-04-30       21st St & Pennsylvania Ave NW    11\n",
              "Length: 115, dtype: int64"
            ]
          },
          "execution_count": 11,
          "metadata": {},
          "output_type": "execute_result"
        }
      ],
      "source": [
        "df_grp1"
      ]
    },
    {
      "cell_type": "markdown",
      "id": "0da58a9c",
      "metadata": {
        "id": "0da58a9c"
      },
      "source": [
        "### Count daily dropoffs"
      ]
    },
    {
      "cell_type": "code",
      "execution_count": null,
      "id": "1ab7421d",
      "metadata": {
        "id": "1ab7421d",
        "outputId": "f22518b2-8a95-416b-f731-97315ec324d2"
      },
      "outputs": [
        {
          "data": {
            "text/html": [
              "<div>\n",
              "<style scoped>\n",
              "    .dataframe tbody tr th:only-of-type {\n",
              "        vertical-align: middle;\n",
              "    }\n",
              "\n",
              "    .dataframe tbody tr th {\n",
              "        vertical-align: top;\n",
              "    }\n",
              "\n",
              "    .dataframe thead th {\n",
              "        text-align: right;\n",
              "    }\n",
              "</style>\n",
              "<table border=\"1\" class=\"dataframe\">\n",
              "  <thead>\n",
              "    <tr style=\"text-align: right;\">\n",
              "      <th></th>\n",
              "      <th>ended_at_date</th>\n",
              "      <th>end_station_name</th>\n",
              "      <th>do_ct</th>\n",
              "    </tr>\n",
              "  </thead>\n",
              "  <tbody>\n",
              "    <tr>\n",
              "      <th>0</th>\n",
              "      <td>2022-01-01</td>\n",
              "      <td>21st St &amp; Pennsylvania Ave NW</td>\n",
              "      <td>4</td>\n",
              "    </tr>\n",
              "    <tr>\n",
              "      <th>1</th>\n",
              "      <td>2022-01-02</td>\n",
              "      <td>21st St &amp; Pennsylvania Ave NW</td>\n",
              "      <td>3</td>\n",
              "    </tr>\n",
              "    <tr>\n",
              "      <th>2</th>\n",
              "      <td>2022-01-03</td>\n",
              "      <td>21st St &amp; Pennsylvania Ave NW</td>\n",
              "      <td>2</td>\n",
              "    </tr>\n",
              "    <tr>\n",
              "      <th>3</th>\n",
              "      <td>2022-01-04</td>\n",
              "      <td>21st St &amp; Pennsylvania Ave NW</td>\n",
              "      <td>1</td>\n",
              "    </tr>\n",
              "    <tr>\n",
              "      <th>4</th>\n",
              "      <td>2022-01-05</td>\n",
              "      <td>21st St &amp; Pennsylvania Ave NW</td>\n",
              "      <td>4</td>\n",
              "    </tr>\n",
              "    <tr>\n",
              "      <th>...</th>\n",
              "      <td>...</td>\n",
              "      <td>...</td>\n",
              "      <td>...</td>\n",
              "    </tr>\n",
              "    <tr>\n",
              "      <th>114</th>\n",
              "      <td>2022-04-26</td>\n",
              "      <td>21st St &amp; Pennsylvania Ave NW</td>\n",
              "      <td>29</td>\n",
              "    </tr>\n",
              "    <tr>\n",
              "      <th>115</th>\n",
              "      <td>2022-04-27</td>\n",
              "      <td>21st St &amp; Pennsylvania Ave NW</td>\n",
              "      <td>29</td>\n",
              "    </tr>\n",
              "    <tr>\n",
              "      <th>116</th>\n",
              "      <td>2022-04-28</td>\n",
              "      <td>21st St &amp; Pennsylvania Ave NW</td>\n",
              "      <td>26</td>\n",
              "    </tr>\n",
              "    <tr>\n",
              "      <th>117</th>\n",
              "      <td>2022-04-29</td>\n",
              "      <td>21st St &amp; Pennsylvania Ave NW</td>\n",
              "      <td>34</td>\n",
              "    </tr>\n",
              "    <tr>\n",
              "      <th>118</th>\n",
              "      <td>2022-04-30</td>\n",
              "      <td>21st St &amp; Pennsylvania Ave NW</td>\n",
              "      <td>12</td>\n",
              "    </tr>\n",
              "  </tbody>\n",
              "</table>\n",
              "<p>119 rows × 3 columns</p>\n",
              "</div>"
            ],
            "text/plain": [
              "    ended_at_date               end_station_name  do_ct\n",
              "0      2022-01-01  21st St & Pennsylvania Ave NW      4\n",
              "1      2022-01-02  21st St & Pennsylvania Ave NW      3\n",
              "2      2022-01-03  21st St & Pennsylvania Ave NW      2\n",
              "3      2022-01-04  21st St & Pennsylvania Ave NW      1\n",
              "4      2022-01-05  21st St & Pennsylvania Ave NW      4\n",
              "..            ...                            ...    ...\n",
              "114    2022-04-26  21st St & Pennsylvania Ave NW     29\n",
              "115    2022-04-27  21st St & Pennsylvania Ave NW     29\n",
              "116    2022-04-28  21st St & Pennsylvania Ave NW     26\n",
              "117    2022-04-29  21st St & Pennsylvania Ave NW     34\n",
              "118    2022-04-30  21st St & Pennsylvania Ave NW     12\n",
              "\n",
              "[119 rows x 3 columns]"
            ]
          },
          "execution_count": 12,
          "metadata": {},
          "output_type": "execute_result"
        }
      ],
      "source": [
        "# Group and get drop off occurrence for 21st St & Pennsylvania Ave NW\n",
        "df_sub2 = df[df['end_station_name']==\"21st St & Pennsylvania Ave NW\"]\n",
        "df_grp2 = df_sub2.groupby(['ended_at_date','end_station_name']).size()\n",
        "df_do=df_grp2.reset_index(name = \"do_ct\")\n",
        "df_do"
      ]
    },
    {
      "cell_type": "code",
      "execution_count": null,
      "id": "2bc17068",
      "metadata": {
        "id": "2bc17068",
        "outputId": "d7a4640f-3b10-41dc-a0a6-fb3a4d8a71ce"
      },
      "outputs": [
        {
          "data": {
            "text/plain": [
              "ended_at_date  end_station_name             \n",
              "2022-01-01     21st St & Pennsylvania Ave NW     4\n",
              "2022-01-02     21st St & Pennsylvania Ave NW     3\n",
              "2022-01-03     21st St & Pennsylvania Ave NW     2\n",
              "2022-01-04     21st St & Pennsylvania Ave NW     1\n",
              "2022-01-05     21st St & Pennsylvania Ave NW     4\n",
              "                                                ..\n",
              "2022-04-26     21st St & Pennsylvania Ave NW    29\n",
              "2022-04-27     21st St & Pennsylvania Ave NW    29\n",
              "2022-04-28     21st St & Pennsylvania Ave NW    26\n",
              "2022-04-29     21st St & Pennsylvania Ave NW    34\n",
              "2022-04-30     21st St & Pennsylvania Ave NW    12\n",
              "Length: 119, dtype: int64"
            ]
          },
          "execution_count": 13,
          "metadata": {},
          "output_type": "execute_result"
        }
      ],
      "source": [
        "df_grp2"
      ]
    },
    {
      "cell_type": "markdown",
      "id": "4f5c2444",
      "metadata": {
        "id": "4f5c2444"
      },
      "source": [
        "### Visualize pickups and dropoffs"
      ]
    },
    {
      "cell_type": "code",
      "execution_count": null,
      "id": "cb6ac76c",
      "metadata": {
        "id": "cb6ac76c",
        "outputId": "0e81b1fe-677d-42ae-f951-f88683c44648"
      },
      "outputs": [
        {
          "data": {
            "image/png": "[encoded data removed]",
            "text/plain": [
              "<Figure size 864x648 with 1 Axes>"
            ]
          },
          "metadata": {
            "needs_background": "light"
          },
          "output_type": "display_data"
        }
      ],
      "source": [
        "fig, ax1 = plt.subplots(figsize=(12, 9))\n",
        "ax1.plot_date(df_pu['started_at_date'].to_numpy(), df_pu['pu_ct'].to_numpy(), linestyle='solid', markeredgecolor='blue', markerfacecolor='blue', markersize=3)\n",
        "ax1.plot_date(df_do['ended_at_date'].to_numpy(), df_do['do_ct'].to_numpy(), linestyle='solid', markeredgecolor='red', markerfacecolor='red', markersize=3)\n",
        "\n",
        "ax1.set_xlabel('Date', fontsize=10)\n",
        "ax1.set_ylabel('Count',fontsize=16)\n",
        "plt.gcf().autofmt_xdate()\n",
        "\n",
        "plt.tick_params(labelsize=18)\n",
        "plt.show()  "
      ]
    },
    {
      "cell_type": "markdown",
      "id": "cbb1a6e3",
      "metadata": {
        "id": "cbb1a6e3"
      },
      "source": [
        "## Weather Data"
      ]
    },
    {
      "cell_type": "code",
      "execution_count": null,
      "id": "91178cea",
      "metadata": {
        "id": "91178cea",
        "scrolled": false,
        "outputId": "40dfe5f4-b750-4e44-de2f-d9ba359f2c46"
      },
      "outputs": [
        {
          "data": {
            "text/html": [
              "<div>\n",
              "<style scoped>\n",
              "    .dataframe tbody tr th:only-of-type {\n",
              "        vertical-align: middle;\n",
              "    }\n",
              "\n",
              "    .dataframe tbody tr th {\n",
              "        vertical-align: top;\n",
              "    }\n",
              "\n",
              "    .dataframe thead th {\n",
              "        text-align: right;\n",
              "    }\n",
              "</style>\n",
              "<table border=\"1\" class=\"dataframe\">\n",
              "  <thead>\n",
              "    <tr style=\"text-align: right;\">\n",
              "      <th></th>\n",
              "      <th>name</th>\n",
              "      <th>datetime</th>\n",
              "      <th>tempmax</th>\n",
              "      <th>tempmin</th>\n",
              "      <th>temp</th>\n",
              "      <th>feelslikemax</th>\n",
              "      <th>feelslikemin</th>\n",
              "      <th>feelslike</th>\n",
              "      <th>dew</th>\n",
              "      <th>humidity</th>\n",
              "      <th>...</th>\n",
              "      <th>solarenergy</th>\n",
              "      <th>uvindex</th>\n",
              "      <th>severerisk</th>\n",
              "      <th>sunrise</th>\n",
              "      <th>sunset</th>\n",
              "      <th>moonphase</th>\n",
              "      <th>conditions</th>\n",
              "      <th>description</th>\n",
              "      <th>icon</th>\n",
              "      <th>stations</th>\n",
              "    </tr>\n",
              "  </thead>\n",
              "  <tbody>\n",
              "    <tr>\n",
              "      <th>0</th>\n",
              "      <td>Washington,DC,USA</td>\n",
              "      <td>2022-01-01</td>\n",
              "      <td>63.5</td>\n",
              "      <td>54.1</td>\n",
              "      <td>58.3</td>\n",
              "      <td>63.5</td>\n",
              "      <td>54.1</td>\n",
              "      <td>58.3</td>\n",
              "      <td>56.0</td>\n",
              "      <td>92.1</td>\n",
              "      <td>...</td>\n",
              "      <td>0.6</td>\n",
              "      <td>0</td>\n",
              "      <td>NaN</td>\n",
              "      <td>2022-01-01T07:26:53</td>\n",
              "      <td>2022-01-01T16:56:53</td>\n",
              "      <td>0.99</td>\n",
              "      <td>Rain, Overcast</td>\n",
              "      <td>Cloudy skies throughout the day with rain.</td>\n",
              "      <td>rain</td>\n",
              "      <td>KDCA,72405013743,72403793728,F0198,KADW,KDAA,A...</td>\n",
              "    </tr>\n",
              "    <tr>\n",
              "      <th>1</th>\n",
              "      <td>Washington,DC,USA</td>\n",
              "      <td>2022-01-02</td>\n",
              "      <td>62.7</td>\n",
              "      <td>47.8</td>\n",
              "      <td>57.5</td>\n",
              "      <td>62.7</td>\n",
              "      <td>42.0</td>\n",
              "      <td>57.0</td>\n",
              "      <td>51.6</td>\n",
              "      <td>81.6</td>\n",
              "      <td>...</td>\n",
              "      <td>1.7</td>\n",
              "      <td>1</td>\n",
              "      <td>NaN</td>\n",
              "      <td>2022-01-02T07:27:00</td>\n",
              "      <td>2022-01-02T16:57:43</td>\n",
              "      <td>1.00</td>\n",
              "      <td>Rain, Overcast</td>\n",
              "      <td>Cloudy skies throughout the day with rain clea...</td>\n",
              "      <td>rain</td>\n",
              "      <td>KDCA,72405013743,72403793728,F0198,KADW,KDAA,7...</td>\n",
              "    </tr>\n",
              "    <tr>\n",
              "      <th>2</th>\n",
              "      <td>Washington,DC,USA</td>\n",
              "      <td>2022-01-03</td>\n",
              "      <td>46.0</td>\n",
              "      <td>26.1</td>\n",
              "      <td>32.7</td>\n",
              "      <td>39.4</td>\n",
              "      <td>14.3</td>\n",
              "      <td>23.0</td>\n",
              "      <td>26.6</td>\n",
              "      <td>78.7</td>\n",
              "      <td>...</td>\n",
              "      <td>0.0</td>\n",
              "      <td>0</td>\n",
              "      <td>NaN</td>\n",
              "      <td>2022-01-03T07:27:05</td>\n",
              "      <td>2022-01-03T16:58:34</td>\n",
              "      <td>0.00</td>\n",
              "      <td>Snow, Rain, Partially cloudy</td>\n",
              "      <td>Partly cloudy throughout the day with a chance...</td>\n",
              "      <td>snow</td>\n",
              "      <td>KDCA,72405013743,72403793728,F0198,KADW,KDAA,A...</td>\n",
              "    </tr>\n",
              "    <tr>\n",
              "      <th>3</th>\n",
              "      <td>Washington,DC,USA</td>\n",
              "      <td>2022-01-04</td>\n",
              "      <td>34.0</td>\n",
              "      <td>25.3</td>\n",
              "      <td>29.4</td>\n",
              "      <td>33.7</td>\n",
              "      <td>16.0</td>\n",
              "      <td>24.0</td>\n",
              "      <td>19.2</td>\n",
              "      <td>65.7</td>\n",
              "      <td>...</td>\n",
              "      <td>5.4</td>\n",
              "      <td>6</td>\n",
              "      <td>NaN</td>\n",
              "      <td>2022-01-04T07:27:07</td>\n",
              "      <td>2022-01-04T16:59:27</td>\n",
              "      <td>0.02</td>\n",
              "      <td>Clear</td>\n",
              "      <td>Clear conditions throughout the day.</td>\n",
              "      <td>snow</td>\n",
              "      <td>KDCA,72405013743,72403793728,D6279,F0198,KADW,...</td>\n",
              "    </tr>\n",
              "    <tr>\n",
              "      <th>4</th>\n",
              "      <td>Washington,DC,USA</td>\n",
              "      <td>2022-01-05</td>\n",
              "      <td>40.8</td>\n",
              "      <td>28.1</td>\n",
              "      <td>35.8</td>\n",
              "      <td>37.2</td>\n",
              "      <td>19.8</td>\n",
              "      <td>29.5</td>\n",
              "      <td>29.0</td>\n",
              "      <td>76.3</td>\n",
              "      <td>...</td>\n",
              "      <td>2.2</td>\n",
              "      <td>1</td>\n",
              "      <td>NaN</td>\n",
              "      <td>2022-01-05T07:27:08</td>\n",
              "      <td>2022-01-05T17:00:21</td>\n",
              "      <td>0.05</td>\n",
              "      <td>Partially cloudy</td>\n",
              "      <td>Partly cloudy throughout the day.</td>\n",
              "      <td>partly-cloudy-day</td>\n",
              "      <td>KDCA,72405013743,72403793728,F0198,KADW,KDAA,7...</td>\n",
              "    </tr>\n",
              "  </tbody>\n",
              "</table>\n",
              "<p>5 rows × 33 columns</p>\n",
              "</div>"
            ],
            "text/plain": [
              "                name    datetime  tempmax  tempmin  temp  feelslikemax   \n",
              "0  Washington,DC,USA  2022-01-01     63.5     54.1  58.3          63.5  \\\n",
              "1  Washington,DC,USA  2022-01-02     62.7     47.8  57.5          62.7   \n",
              "2  Washington,DC,USA  2022-01-03     46.0     26.1  32.7          39.4   \n",
              "3  Washington,DC,USA  2022-01-04     34.0     25.3  29.4          33.7   \n",
              "4  Washington,DC,USA  2022-01-05     40.8     28.1  35.8          37.2   \n",
              "\n",
              "   feelslikemin  feelslike   dew  humidity  ...  solarenergy  uvindex   \n",
              "0          54.1       58.3  56.0      92.1  ...          0.6        0  \\\n",
              "1          42.0       57.0  51.6      81.6  ...          1.7        1   \n",
              "2          14.3       23.0  26.6      78.7  ...          0.0        0   \n",
              "3          16.0       24.0  19.2      65.7  ...          5.4        6   \n",
              "4          19.8       29.5  29.0      76.3  ...          2.2        1   \n",
              "\n",
              "   severerisk              sunrise               sunset  moonphase   \n",
              "0         NaN  2022-01-01T07:26:53  2022-01-01T16:56:53       0.99  \\\n",
              "1         NaN  2022-01-02T07:27:00  2022-01-02T16:57:43       1.00   \n",
              "2         NaN  2022-01-03T07:27:05  2022-01-03T16:58:34       0.00   \n",
              "3         NaN  2022-01-04T07:27:07  2022-01-04T16:59:27       0.02   \n",
              "4         NaN  2022-01-05T07:27:08  2022-01-05T17:00:21       0.05   \n",
              "\n",
              "                     conditions   \n",
              "0                Rain, Overcast  \\\n",
              "1                Rain, Overcast   \n",
              "2  Snow, Rain, Partially cloudy   \n",
              "3                         Clear   \n",
              "4              Partially cloudy   \n",
              "\n",
              "                                         description               icon   \n",
              "0         Cloudy skies throughout the day with rain.               rain  \\\n",
              "1  Cloudy skies throughout the day with rain clea...               rain   \n",
              "2  Partly cloudy throughout the day with a chance...               snow   \n",
              "3               Clear conditions throughout the day.               snow   \n",
              "4                  Partly cloudy throughout the day.  partly-cloudy-day   \n",
              "\n",
              "                                            stations  \n",
              "0  KDCA,72405013743,72403793728,F0198,KADW,KDAA,A...  \n",
              "1  KDCA,72405013743,72403793728,F0198,KADW,KDAA,7...  \n",
              "2  KDCA,72405013743,72403793728,F0198,KADW,KDAA,A...  \n",
              "3  KDCA,72405013743,72403793728,D6279,F0198,KADW,...  \n",
              "4  KDCA,72405013743,72403793728,F0198,KADW,KDAA,7...  \n",
              "\n",
              "[5 rows x 33 columns]"
            ]
          },
          "execution_count": 15,
          "metadata": {},
          "output_type": "execute_result"
        }
      ],
      "source": [
        "df_weather = pd.read_csv('DC Weather 2022-01-01 to 2022-12-31.csv')\n",
        "\n",
        "df_weather.head()"
      ]
    },
    {
      "cell_type": "markdown",
      "id": "6b289bbc",
      "metadata": {
        "id": "6b289bbc"
      },
      "source": [
        "## Check missing values"
      ]
    },
    {
      "cell_type": "code",
      "execution_count": null,
      "id": "8c89c41a",
      "metadata": {
        "id": "8c89c41a",
        "outputId": "926cbea7-e1c4-4937-90fe-290f07376398"
      },
      "outputs": [
        {
          "data": {
            "image/png": "[encoded data removed]",
            "text/plain": [
              "<Figure size 432x288 with 2 Axes>"
            ]
          },
          "metadata": {
            "needs_background": "light"
          },
          "output_type": "display_data"
        }
      ],
      "source": [
        "# Date time format \n",
        "df_weather['datetime'] = pd.to_datetime(df_weather['datetime']).dt.date\n",
        "\n",
        "# Use sns heatmap to see whats are the null values.\n",
        "coln = df_weather.columns[:df_weather.shape[1]]  \n",
        "colors = ['#000099','#ffff00'] # specify the colors - yellow is missing. blue is not missing.\n",
        "sns.heatmap(df_weather[coln].isnull(), cmap = sns.color_palette(colors))\n",
        "plt.show()"
      ]
    },
    {
      "cell_type": "markdown",
      "id": "94f6001e",
      "metadata": {
        "id": "94f6001e"
      },
      "source": [
        "## Drop variables of your choice"
      ]
    },
    {
      "cell_type": "code",
      "execution_count": null,
      "id": "82a937c9",
      "metadata": {
        "id": "82a937c9"
      },
      "outputs": [],
      "source": [
        "# Drop unnecessary variables\n",
        "df_weather=df_weather.drop(columns=['name', 'stations','description','sunrise','sunset','conditions','severerisk','preciptype','windgust'])"
      ]
    },
    {
      "cell_type": "code",
      "execution_count": null,
      "id": "891e6a0b",
      "metadata": {
        "id": "891e6a0b",
        "outputId": "3a1b1fdb-193d-4004-f772-038a097c6856"
      },
      "outputs": [
        {
          "name": "stdout",
          "output_type": "stream",
          "text": [
            "<class 'pandas.core.frame.DataFrame'>\n",
            "RangeIndex: 365 entries, 0 to 364\n",
            "Data columns (total 24 columns):\n",
            " #   Column            Non-Null Count  Dtype  \n",
            "---  ------            --------------  -----  \n",
            " 0   datetime          365 non-null    object \n",
            " 1   tempmax           365 non-null    float64\n",
            " 2   tempmin           365 non-null    float64\n",
            " 3   temp              365 non-null    float64\n",
            " 4   feelslikemax      365 non-null    float64\n",
            " 5   feelslikemin      365 non-null    float64\n",
            " 6   feelslike         365 non-null    float64\n",
            " 7   dew               365 non-null    float64\n",
            " 8   humidity          365 non-null    float64\n",
            " 9   precip            365 non-null    float64\n",
            " 10  precipprob        365 non-null    int64  \n",
            " 11  precipcover       365 non-null    float64\n",
            " 12  snow              365 non-null    float64\n",
            " 13  snowdepth         365 non-null    float64\n",
            " 14  windspeed         365 non-null    float64\n",
            " 15  winddir           365 non-null    float64\n",
            " 16  sealevelpressure  365 non-null    float64\n",
            " 17  cloudcover        365 non-null    float64\n",
            " 18  visibility        365 non-null    float64\n",
            " 19  solarradiation    365 non-null    float64\n",
            " 20  solarenergy       365 non-null    float64\n",
            " 21  uvindex           365 non-null    int64  \n",
            " 22  moonphase         365 non-null    float64\n",
            " 23  icon              365 non-null    object \n",
            "dtypes: float64(20), int64(2), object(2)\n",
            "memory usage: 68.6+ KB\n"
          ]
        }
      ],
      "source": [
        "df_weather.info()"
      ]
    },
    {
      "cell_type": "markdown",
      "id": "a28e9ce3",
      "metadata": {
        "id": "a28e9ce3"
      },
      "source": [
        "## Prepare X and y: Merge weather data with trip data"
      ]
    },
    {
      "cell_type": "code",
      "execution_count": null,
      "id": "a5ea795f",
      "metadata": {
        "id": "a5ea795f"
      },
      "outputs": [],
      "source": [
        "# Merge with weather data and remove dates and station name\n",
        "\n",
        "df_m_pu = df_pu.merge(df_weather, left_on='started_at_date', right_on='datetime') \n",
        "df_m_pu = df_m_pu.drop(columns=['started_at_date','start_station_name','datetime'])\n",
        "df_m_do = df_do.merge(df_weather, left_on='ended_at_date', right_on='datetime') \n",
        "df_m_do = df_m_do.drop(columns=['ended_at_date','end_station_name','datetime'])"
      ]
    },
    {
      "cell_type": "code",
      "execution_count": null,
      "id": "3a52496e",
      "metadata": {
        "id": "3a52496e",
        "outputId": "dfddba86-b8b9-404b-a725-956bead80adb"
      },
      "outputs": [
        {
          "data": {
            "text/html": [
              "<div>\n",
              "<style scoped>\n",
              "    .dataframe tbody tr th:only-of-type {\n",
              "        vertical-align: middle;\n",
              "    }\n",
              "\n",
              "    .dataframe tbody tr th {\n",
              "        vertical-align: top;\n",
              "    }\n",
              "\n",
              "    .dataframe thead th {\n",
              "        text-align: right;\n",
              "    }\n",
              "</style>\n",
              "<table border=\"1\" class=\"dataframe\">\n",
              "  <thead>\n",
              "    <tr style=\"text-align: right;\">\n",
              "      <th></th>\n",
              "      <th>pu_ct</th>\n",
              "      <th>tempmax</th>\n",
              "      <th>tempmin</th>\n",
              "      <th>temp</th>\n",
              "      <th>feelslikemax</th>\n",
              "      <th>feelslikemin</th>\n",
              "      <th>feelslike</th>\n",
              "      <th>dew</th>\n",
              "      <th>humidity</th>\n",
              "      <th>precip</th>\n",
              "      <th>...</th>\n",
              "      <th>windspeed</th>\n",
              "      <th>winddir</th>\n",
              "      <th>sealevelpressure</th>\n",
              "      <th>cloudcover</th>\n",
              "      <th>visibility</th>\n",
              "      <th>solarradiation</th>\n",
              "      <th>solarenergy</th>\n",
              "      <th>uvindex</th>\n",
              "      <th>moonphase</th>\n",
              "      <th>icon</th>\n",
              "    </tr>\n",
              "  </thead>\n",
              "  <tbody>\n",
              "    <tr>\n",
              "      <th>0</th>\n",
              "      <td>5</td>\n",
              "      <td>63.5</td>\n",
              "      <td>54.1</td>\n",
              "      <td>58.3</td>\n",
              "      <td>63.5</td>\n",
              "      <td>54.1</td>\n",
              "      <td>58.3</td>\n",
              "      <td>56.0</td>\n",
              "      <td>92.1</td>\n",
              "      <td>0.448</td>\n",
              "      <td>...</td>\n",
              "      <td>11.4</td>\n",
              "      <td>190.2</td>\n",
              "      <td>1007.2</td>\n",
              "      <td>99.5</td>\n",
              "      <td>6.2</td>\n",
              "      <td>21.4</td>\n",
              "      <td>0.6</td>\n",
              "      <td>0</td>\n",
              "      <td>0.99</td>\n",
              "      <td>rain</td>\n",
              "    </tr>\n",
              "    <tr>\n",
              "      <th>1</th>\n",
              "      <td>1</td>\n",
              "      <td>62.7</td>\n",
              "      <td>47.8</td>\n",
              "      <td>57.5</td>\n",
              "      <td>62.7</td>\n",
              "      <td>42.0</td>\n",
              "      <td>57.0</td>\n",
              "      <td>51.6</td>\n",
              "      <td>81.6</td>\n",
              "      <td>0.124</td>\n",
              "      <td>...</td>\n",
              "      <td>18.9</td>\n",
              "      <td>290.7</td>\n",
              "      <td>1006.6</td>\n",
              "      <td>91.6</td>\n",
              "      <td>9.6</td>\n",
              "      <td>47.3</td>\n",
              "      <td>1.7</td>\n",
              "      <td>1</td>\n",
              "      <td>1.00</td>\n",
              "      <td>rain</td>\n",
              "    </tr>\n",
              "    <tr>\n",
              "      <th>2</th>\n",
              "      <td>1</td>\n",
              "      <td>46.0</td>\n",
              "      <td>26.1</td>\n",
              "      <td>32.7</td>\n",
              "      <td>39.4</td>\n",
              "      <td>14.3</td>\n",
              "      <td>23.0</td>\n",
              "      <td>26.6</td>\n",
              "      <td>78.7</td>\n",
              "      <td>0.889</td>\n",
              "      <td>...</td>\n",
              "      <td>22.5</td>\n",
              "      <td>358.5</td>\n",
              "      <td>1019.7</td>\n",
              "      <td>77.2</td>\n",
              "      <td>6.2</td>\n",
              "      <td>6.3</td>\n",
              "      <td>0.0</td>\n",
              "      <td>0</td>\n",
              "      <td>0.00</td>\n",
              "      <td>snow</td>\n",
              "    </tr>\n",
              "    <tr>\n",
              "      <th>3</th>\n",
              "      <td>3</td>\n",
              "      <td>40.8</td>\n",
              "      <td>28.1</td>\n",
              "      <td>35.8</td>\n",
              "      <td>37.2</td>\n",
              "      <td>19.8</td>\n",
              "      <td>29.5</td>\n",
              "      <td>29.0</td>\n",
              "      <td>76.3</td>\n",
              "      <td>0.000</td>\n",
              "      <td>...</td>\n",
              "      <td>13.6</td>\n",
              "      <td>195.2</td>\n",
              "      <td>1014.5</td>\n",
              "      <td>82.6</td>\n",
              "      <td>9.9</td>\n",
              "      <td>63.5</td>\n",
              "      <td>2.2</td>\n",
              "      <td>1</td>\n",
              "      <td>0.05</td>\n",
              "      <td>partly-cloudy-day</td>\n",
              "    </tr>\n",
              "    <tr>\n",
              "      <th>4</th>\n",
              "      <td>5</td>\n",
              "      <td>42.9</td>\n",
              "      <td>36.9</td>\n",
              "      <td>39.8</td>\n",
              "      <td>40.6</td>\n",
              "      <td>29.5</td>\n",
              "      <td>35.3</td>\n",
              "      <td>24.2</td>\n",
              "      <td>55.0</td>\n",
              "      <td>0.000</td>\n",
              "      <td>...</td>\n",
              "      <td>12.9</td>\n",
              "      <td>16.0</td>\n",
              "      <td>1012.7</td>\n",
              "      <td>88.1</td>\n",
              "      <td>9.9</td>\n",
              "      <td>145.6</td>\n",
              "      <td>5.3</td>\n",
              "      <td>4</td>\n",
              "      <td>0.09</td>\n",
              "      <td>snow</td>\n",
              "    </tr>\n",
              "  </tbody>\n",
              "</table>\n",
              "<p>5 rows × 24 columns</p>\n",
              "</div>"
            ],
            "text/plain": [
              "   pu_ct  tempmax  tempmin  temp  feelslikemax  feelslikemin  feelslike   dew   \n",
              "0      5     63.5     54.1  58.3          63.5          54.1       58.3  56.0  \\\n",
              "1      1     62.7     47.8  57.5          62.7          42.0       57.0  51.6   \n",
              "2      1     46.0     26.1  32.7          39.4          14.3       23.0  26.6   \n",
              "3      3     40.8     28.1  35.8          37.2          19.8       29.5  29.0   \n",
              "4      5     42.9     36.9  39.8          40.6          29.5       35.3  24.2   \n",
              "\n",
              "   humidity  precip  ...  windspeed  winddir  sealevelpressure  cloudcover   \n",
              "0      92.1   0.448  ...       11.4    190.2            1007.2        99.5  \\\n",
              "1      81.6   0.124  ...       18.9    290.7            1006.6        91.6   \n",
              "2      78.7   0.889  ...       22.5    358.5            1019.7        77.2   \n",
              "3      76.3   0.000  ...       13.6    195.2            1014.5        82.6   \n",
              "4      55.0   0.000  ...       12.9     16.0            1012.7        88.1   \n",
              "\n",
              "   visibility  solarradiation  solarenergy  uvindex  moonphase   \n",
              "0         6.2            21.4          0.6        0       0.99  \\\n",
              "1         9.6            47.3          1.7        1       1.00   \n",
              "2         6.2             6.3          0.0        0       0.00   \n",
              "3         9.9            63.5          2.2        1       0.05   \n",
              "4         9.9           145.6          5.3        4       0.09   \n",
              "\n",
              "                icon  \n",
              "0               rain  \n",
              "1               rain  \n",
              "2               snow  \n",
              "3  partly-cloudy-day  \n",
              "4               snow  \n",
              "\n",
              "[5 rows x 24 columns]"
            ]
          },
          "execution_count": 20,
          "metadata": {},
          "output_type": "execute_result"
        }
      ],
      "source": [
        "df_m_pu.head()"
      ]
    },
    {
      "cell_type": "code",
      "execution_count": null,
      "id": "b4c42242",
      "metadata": {
        "id": "b4c42242",
        "outputId": "8c973bb2-b769-4235-bda9-c11f1e74cb8e"
      },
      "outputs": [
        {
          "data": {
            "text/html": [
              "<div>\n",
              "<style scoped>\n",
              "    .dataframe tbody tr th:only-of-type {\n",
              "        vertical-align: middle;\n",
              "    }\n",
              "\n",
              "    .dataframe tbody tr th {\n",
              "        vertical-align: top;\n",
              "    }\n",
              "\n",
              "    .dataframe thead th {\n",
              "        text-align: right;\n",
              "    }\n",
              "</style>\n",
              "<table border=\"1\" class=\"dataframe\">\n",
              "  <thead>\n",
              "    <tr style=\"text-align: right;\">\n",
              "      <th></th>\n",
              "      <th>do_ct</th>\n",
              "      <th>tempmax</th>\n",
              "      <th>tempmin</th>\n",
              "      <th>temp</th>\n",
              "      <th>feelslikemax</th>\n",
              "      <th>feelslikemin</th>\n",
              "      <th>feelslike</th>\n",
              "      <th>dew</th>\n",
              "      <th>humidity</th>\n",
              "      <th>precip</th>\n",
              "      <th>...</th>\n",
              "      <th>windspeed</th>\n",
              "      <th>winddir</th>\n",
              "      <th>sealevelpressure</th>\n",
              "      <th>cloudcover</th>\n",
              "      <th>visibility</th>\n",
              "      <th>solarradiation</th>\n",
              "      <th>solarenergy</th>\n",
              "      <th>uvindex</th>\n",
              "      <th>moonphase</th>\n",
              "      <th>icon</th>\n",
              "    </tr>\n",
              "  </thead>\n",
              "  <tbody>\n",
              "    <tr>\n",
              "      <th>0</th>\n",
              "      <td>4</td>\n",
              "      <td>63.5</td>\n",
              "      <td>54.1</td>\n",
              "      <td>58.3</td>\n",
              "      <td>63.5</td>\n",
              "      <td>54.1</td>\n",
              "      <td>58.3</td>\n",
              "      <td>56.0</td>\n",
              "      <td>92.1</td>\n",
              "      <td>0.448</td>\n",
              "      <td>...</td>\n",
              "      <td>11.4</td>\n",
              "      <td>190.2</td>\n",
              "      <td>1007.2</td>\n",
              "      <td>99.5</td>\n",
              "      <td>6.2</td>\n",
              "      <td>21.4</td>\n",
              "      <td>0.6</td>\n",
              "      <td>0</td>\n",
              "      <td>0.99</td>\n",
              "      <td>rain</td>\n",
              "    </tr>\n",
              "    <tr>\n",
              "      <th>1</th>\n",
              "      <td>3</td>\n",
              "      <td>62.7</td>\n",
              "      <td>47.8</td>\n",
              "      <td>57.5</td>\n",
              "      <td>62.7</td>\n",
              "      <td>42.0</td>\n",
              "      <td>57.0</td>\n",
              "      <td>51.6</td>\n",
              "      <td>81.6</td>\n",
              "      <td>0.124</td>\n",
              "      <td>...</td>\n",
              "      <td>18.9</td>\n",
              "      <td>290.7</td>\n",
              "      <td>1006.6</td>\n",
              "      <td>91.6</td>\n",
              "      <td>9.6</td>\n",
              "      <td>47.3</td>\n",
              "      <td>1.7</td>\n",
              "      <td>1</td>\n",
              "      <td>1.00</td>\n",
              "      <td>rain</td>\n",
              "    </tr>\n",
              "    <tr>\n",
              "      <th>2</th>\n",
              "      <td>2</td>\n",
              "      <td>46.0</td>\n",
              "      <td>26.1</td>\n",
              "      <td>32.7</td>\n",
              "      <td>39.4</td>\n",
              "      <td>14.3</td>\n",
              "      <td>23.0</td>\n",
              "      <td>26.6</td>\n",
              "      <td>78.7</td>\n",
              "      <td>0.889</td>\n",
              "      <td>...</td>\n",
              "      <td>22.5</td>\n",
              "      <td>358.5</td>\n",
              "      <td>1019.7</td>\n",
              "      <td>77.2</td>\n",
              "      <td>6.2</td>\n",
              "      <td>6.3</td>\n",
              "      <td>0.0</td>\n",
              "      <td>0</td>\n",
              "      <td>0.00</td>\n",
              "      <td>snow</td>\n",
              "    </tr>\n",
              "    <tr>\n",
              "      <th>3</th>\n",
              "      <td>1</td>\n",
              "      <td>34.0</td>\n",
              "      <td>25.3</td>\n",
              "      <td>29.4</td>\n",
              "      <td>33.7</td>\n",
              "      <td>16.0</td>\n",
              "      <td>24.0</td>\n",
              "      <td>19.2</td>\n",
              "      <td>65.7</td>\n",
              "      <td>0.000</td>\n",
              "      <td>...</td>\n",
              "      <td>14.1</td>\n",
              "      <td>192.1</td>\n",
              "      <td>1029.7</td>\n",
              "      <td>18.7</td>\n",
              "      <td>9.9</td>\n",
              "      <td>153.2</td>\n",
              "      <td>5.4</td>\n",
              "      <td>6</td>\n",
              "      <td>0.02</td>\n",
              "      <td>snow</td>\n",
              "    </tr>\n",
              "    <tr>\n",
              "      <th>4</th>\n",
              "      <td>4</td>\n",
              "      <td>40.8</td>\n",
              "      <td>28.1</td>\n",
              "      <td>35.8</td>\n",
              "      <td>37.2</td>\n",
              "      <td>19.8</td>\n",
              "      <td>29.5</td>\n",
              "      <td>29.0</td>\n",
              "      <td>76.3</td>\n",
              "      <td>0.000</td>\n",
              "      <td>...</td>\n",
              "      <td>13.6</td>\n",
              "      <td>195.2</td>\n",
              "      <td>1014.5</td>\n",
              "      <td>82.6</td>\n",
              "      <td>9.9</td>\n",
              "      <td>63.5</td>\n",
              "      <td>2.2</td>\n",
              "      <td>1</td>\n",
              "      <td>0.05</td>\n",
              "      <td>partly-cloudy-day</td>\n",
              "    </tr>\n",
              "  </tbody>\n",
              "</table>\n",
              "<p>5 rows × 24 columns</p>\n",
              "</div>"
            ],
            "text/plain": [
              "   do_ct  tempmax  tempmin  temp  feelslikemax  feelslikemin  feelslike   dew   \n",
              "0      4     63.5     54.1  58.3          63.5          54.1       58.3  56.0  \\\n",
              "1      3     62.7     47.8  57.5          62.7          42.0       57.0  51.6   \n",
              "2      2     46.0     26.1  32.7          39.4          14.3       23.0  26.6   \n",
              "3      1     34.0     25.3  29.4          33.7          16.0       24.0  19.2   \n",
              "4      4     40.8     28.1  35.8          37.2          19.8       29.5  29.0   \n",
              "\n",
              "   humidity  precip  ...  windspeed  winddir  sealevelpressure  cloudcover   \n",
              "0      92.1   0.448  ...       11.4    190.2            1007.2        99.5  \\\n",
              "1      81.6   0.124  ...       18.9    290.7            1006.6        91.6   \n",
              "2      78.7   0.889  ...       22.5    358.5            1019.7        77.2   \n",
              "3      65.7   0.000  ...       14.1    192.1            1029.7        18.7   \n",
              "4      76.3   0.000  ...       13.6    195.2            1014.5        82.6   \n",
              "\n",
              "   visibility  solarradiation  solarenergy  uvindex  moonphase   \n",
              "0         6.2            21.4          0.6        0       0.99  \\\n",
              "1         9.6            47.3          1.7        1       1.00   \n",
              "2         6.2             6.3          0.0        0       0.00   \n",
              "3         9.9           153.2          5.4        6       0.02   \n",
              "4         9.9            63.5          2.2        1       0.05   \n",
              "\n",
              "                icon  \n",
              "0               rain  \n",
              "1               rain  \n",
              "2               snow  \n",
              "3               snow  \n",
              "4  partly-cloudy-day  \n",
              "\n",
              "[5 rows x 24 columns]"
            ]
          },
          "execution_count": 21,
          "metadata": {},
          "output_type": "execute_result"
        }
      ],
      "source": [
        "df_m_do.head()"
      ]
    },
    {
      "cell_type": "code",
      "execution_count": null,
      "id": "8cd69dfb",
      "metadata": {
        "id": "8cd69dfb",
        "scrolled": true,
        "outputId": "b19c6d70-82bb-4c9f-a02b-8643749816b8"
      },
      "outputs": [
        {
          "data": {
            "text/plain": [
              "array(['rain', 'snow', 'partly-cloudy-day', 'clear-day', 'wind'],\n",
              "      dtype=object)"
            ]
          },
          "execution_count": 22,
          "metadata": {},
          "output_type": "execute_result"
        }
      ],
      "source": [
        "df_m_pu.icon.unique()"
      ]
    },
    {
      "cell_type": "code",
      "execution_count": null,
      "id": "d3698f92",
      "metadata": {
        "id": "d3698f92",
        "outputId": "24a25213-eba3-4324-c9e6-d8a86b5b2e24"
      },
      "outputs": [
        {
          "data": {
            "text/plain": [
              "array(['rain', 'snow', 'partly-cloudy-day', 'clear-day', 'wind'],\n",
              "      dtype=object)"
            ]
          },
          "execution_count": 23,
          "metadata": {},
          "output_type": "execute_result"
        }
      ],
      "source": [
        "df_m_do.icon.unique()"
      ]
    },
    {
      "cell_type": "code",
      "execution_count": null,
      "id": "4e8f69bc",
      "metadata": {
        "id": "4e8f69bc",
        "outputId": "836336bc-c1ac-4a8f-af78-25d776d429e1"
      },
      "outputs": [
        {
          "data": {
            "text/html": [
              "<div>\n",
              "<style scoped>\n",
              "    .dataframe tbody tr th:only-of-type {\n",
              "        vertical-align: middle;\n",
              "    }\n",
              "\n",
              "    .dataframe tbody tr th {\n",
              "        vertical-align: top;\n",
              "    }\n",
              "\n",
              "    .dataframe thead th {\n",
              "        text-align: right;\n",
              "    }\n",
              "</style>\n",
              "<table border=\"1\" class=\"dataframe\">\n",
              "  <thead>\n",
              "    <tr style=\"text-align: right;\">\n",
              "      <th></th>\n",
              "      <th>pu_ct</th>\n",
              "      <th>tempmax</th>\n",
              "      <th>tempmin</th>\n",
              "      <th>temp</th>\n",
              "      <th>feelslikemax</th>\n",
              "      <th>feelslikemin</th>\n",
              "      <th>feelslike</th>\n",
              "      <th>dew</th>\n",
              "      <th>humidity</th>\n",
              "      <th>precip</th>\n",
              "      <th>...</th>\n",
              "      <th>snowdepth</th>\n",
              "      <th>windspeed</th>\n",
              "      <th>winddir</th>\n",
              "      <th>sealevelpressure</th>\n",
              "      <th>cloudcover</th>\n",
              "      <th>visibility</th>\n",
              "      <th>solarradiation</th>\n",
              "      <th>solarenergy</th>\n",
              "      <th>uvindex</th>\n",
              "      <th>moonphase</th>\n",
              "    </tr>\n",
              "  </thead>\n",
              "  <tbody>\n",
              "    <tr>\n",
              "      <th>count</th>\n",
              "      <td>115.000000</td>\n",
              "      <td>115.000000</td>\n",
              "      <td>115.000000</td>\n",
              "      <td>115.000000</td>\n",
              "      <td>115.000000</td>\n",
              "      <td>115.000000</td>\n",
              "      <td>115.000000</td>\n",
              "      <td>115.000000</td>\n",
              "      <td>115.00000</td>\n",
              "      <td>115.000000</td>\n",
              "      <td>...</td>\n",
              "      <td>115.000000</td>\n",
              "      <td>115.000000</td>\n",
              "      <td>115.000000</td>\n",
              "      <td>115.000000</td>\n",
              "      <td>115.000000</td>\n",
              "      <td>115.000000</td>\n",
              "      <td>115.000000</td>\n",
              "      <td>115.000000</td>\n",
              "      <td>115.000000</td>\n",
              "      <td>115.000000</td>\n",
              "    </tr>\n",
              "    <tr>\n",
              "      <th>mean</th>\n",
              "      <td>12.591304</td>\n",
              "      <td>55.519130</td>\n",
              "      <td>38.020870</td>\n",
              "      <td>46.286087</td>\n",
              "      <td>53.542609</td>\n",
              "      <td>32.092174</td>\n",
              "      <td>42.668696</td>\n",
              "      <td>30.334783</td>\n",
              "      <td>56.55913</td>\n",
              "      <td>0.102678</td>\n",
              "      <td>...</td>\n",
              "      <td>0.222609</td>\n",
              "      <td>17.180870</td>\n",
              "      <td>207.861739</td>\n",
              "      <td>1018.786087</td>\n",
              "      <td>67.973913</td>\n",
              "      <td>9.304348</td>\n",
              "      <td>93.300000</td>\n",
              "      <td>7.700870</td>\n",
              "      <td>4.826087</td>\n",
              "      <td>0.507652</td>\n",
              "    </tr>\n",
              "    <tr>\n",
              "      <th>std</th>\n",
              "      <td>8.267348</td>\n",
              "      <td>13.471255</td>\n",
              "      <td>10.762928</td>\n",
              "      <td>11.780827</td>\n",
              "      <td>15.771872</td>\n",
              "      <td>14.111095</td>\n",
              "      <td>14.823904</td>\n",
              "      <td>13.131227</td>\n",
              "      <td>14.13688</td>\n",
              "      <td>0.237998</td>\n",
              "      <td>...</td>\n",
              "      <td>0.757311</td>\n",
              "      <td>5.363717</td>\n",
              "      <td>105.753785</td>\n",
              "      <td>7.939805</td>\n",
              "      <td>22.874038</td>\n",
              "      <td>1.154122</td>\n",
              "      <td>49.674145</td>\n",
              "      <td>4.225019</td>\n",
              "      <td>2.686094</td>\n",
              "      <td>0.310857</td>\n",
              "    </tr>\n",
              "    <tr>\n",
              "      <th>min</th>\n",
              "      <td>1.000000</td>\n",
              "      <td>26.800000</td>\n",
              "      <td>16.700000</td>\n",
              "      <td>23.500000</td>\n",
              "      <td>16.600000</td>\n",
              "      <td>4.600000</td>\n",
              "      <td>11.700000</td>\n",
              "      <td>5.100000</td>\n",
              "      <td>30.10000</td>\n",
              "      <td>0.000000</td>\n",
              "      <td>...</td>\n",
              "      <td>0.000000</td>\n",
              "      <td>6.500000</td>\n",
              "      <td>1.100000</td>\n",
              "      <td>993.400000</td>\n",
              "      <td>9.000000</td>\n",
              "      <td>5.700000</td>\n",
              "      <td>6.300000</td>\n",
              "      <td>0.000000</td>\n",
              "      <td>0.000000</td>\n",
              "      <td>0.000000</td>\n",
              "    </tr>\n",
              "    <tr>\n",
              "      <th>25%</th>\n",
              "      <td>7.000000</td>\n",
              "      <td>45.500000</td>\n",
              "      <td>29.350000</td>\n",
              "      <td>36.700000</td>\n",
              "      <td>41.600000</td>\n",
              "      <td>21.550000</td>\n",
              "      <td>30.400000</td>\n",
              "      <td>22.550000</td>\n",
              "      <td>45.45000</td>\n",
              "      <td>0.000000</td>\n",
              "      <td>...</td>\n",
              "      <td>0.000000</td>\n",
              "      <td>13.100000</td>\n",
              "      <td>154.550000</td>\n",
              "      <td>1014.000000</td>\n",
              "      <td>53.800000</td>\n",
              "      <td>9.550000</td>\n",
              "      <td>49.550000</td>\n",
              "      <td>3.850000</td>\n",
              "      <td>3.000000</td>\n",
              "      <td>0.255000</td>\n",
              "    </tr>\n",
              "    <tr>\n",
              "      <th>50%</th>\n",
              "      <td>10.000000</td>\n",
              "      <td>55.800000</td>\n",
              "      <td>36.900000</td>\n",
              "      <td>47.100000</td>\n",
              "      <td>55.800000</td>\n",
              "      <td>31.500000</td>\n",
              "      <td>44.500000</td>\n",
              "      <td>28.700000</td>\n",
              "      <td>54.30000</td>\n",
              "      <td>0.000000</td>\n",
              "      <td>...</td>\n",
              "      <td>0.000000</td>\n",
              "      <td>16.600000</td>\n",
              "      <td>200.200000</td>\n",
              "      <td>1019.100000</td>\n",
              "      <td>73.400000</td>\n",
              "      <td>9.900000</td>\n",
              "      <td>100.000000</td>\n",
              "      <td>8.200000</td>\n",
              "      <td>5.000000</td>\n",
              "      <td>0.500000</td>\n",
              "    </tr>\n",
              "    <tr>\n",
              "      <th>75%</th>\n",
              "      <td>18.000000</td>\n",
              "      <td>65.400000</td>\n",
              "      <td>47.050000</td>\n",
              "      <td>54.650000</td>\n",
              "      <td>65.400000</td>\n",
              "      <td>42.900000</td>\n",
              "      <td>54.050000</td>\n",
              "      <td>38.400000</td>\n",
              "      <td>63.90000</td>\n",
              "      <td>0.037500</td>\n",
              "      <td>...</td>\n",
              "      <td>0.000000</td>\n",
              "      <td>20.900000</td>\n",
              "      <td>305.450000</td>\n",
              "      <td>1023.450000</td>\n",
              "      <td>86.400000</td>\n",
              "      <td>9.900000</td>\n",
              "      <td>133.750000</td>\n",
              "      <td>11.250000</td>\n",
              "      <td>7.000000</td>\n",
              "      <td>0.760000</td>\n",
              "    </tr>\n",
              "    <tr>\n",
              "      <th>max</th>\n",
              "      <td>37.000000</td>\n",
              "      <td>85.800000</td>\n",
              "      <td>61.000000</td>\n",
              "      <td>72.900000</td>\n",
              "      <td>84.300000</td>\n",
              "      <td>61.000000</td>\n",
              "      <td>72.800000</td>\n",
              "      <td>56.000000</td>\n",
              "      <td>92.10000</td>\n",
              "      <td>1.038000</td>\n",
              "      <td>...</td>\n",
              "      <td>4.900000</td>\n",
              "      <td>32.500000</td>\n",
              "      <td>358.900000</td>\n",
              "      <td>1037.200000</td>\n",
              "      <td>99.900000</td>\n",
              "      <td>9.900000</td>\n",
              "      <td>197.800000</td>\n",
              "      <td>16.400000</td>\n",
              "      <td>10.000000</td>\n",
              "      <td>1.000000</td>\n",
              "    </tr>\n",
              "  </tbody>\n",
              "</table>\n",
              "<p>8 rows × 23 columns</p>\n",
              "</div>"
            ],
            "text/plain": [
              "            pu_ct     tempmax     tempmin        temp  feelslikemax   \n",
              "count  115.000000  115.000000  115.000000  115.000000    115.000000  \\\n",
              "mean    12.591304   55.519130   38.020870   46.286087     53.542609   \n",
              "std      8.267348   13.471255   10.762928   11.780827     15.771872   \n",
              "min      1.000000   26.800000   16.700000   23.500000     16.600000   \n",
              "25%      7.000000   45.500000   29.350000   36.700000     41.600000   \n",
              "50%     10.000000   55.800000   36.900000   47.100000     55.800000   \n",
              "75%     18.000000   65.400000   47.050000   54.650000     65.400000   \n",
              "max     37.000000   85.800000   61.000000   72.900000     84.300000   \n",
              "\n",
              "       feelslikemin   feelslike         dew   humidity      precip  ...   \n",
              "count    115.000000  115.000000  115.000000  115.00000  115.000000  ...  \\\n",
              "mean      32.092174   42.668696   30.334783   56.55913    0.102678  ...   \n",
              "std       14.111095   14.823904   13.131227   14.13688    0.237998  ...   \n",
              "min        4.600000   11.700000    5.100000   30.10000    0.000000  ...   \n",
              "25%       21.550000   30.400000   22.550000   45.45000    0.000000  ...   \n",
              "50%       31.500000   44.500000   28.700000   54.30000    0.000000  ...   \n",
              "75%       42.900000   54.050000   38.400000   63.90000    0.037500  ...   \n",
              "max       61.000000   72.800000   56.000000   92.10000    1.038000  ...   \n",
              "\n",
              "        snowdepth   windspeed     winddir  sealevelpressure  cloudcover   \n",
              "count  115.000000  115.000000  115.000000        115.000000  115.000000  \\\n",
              "mean     0.222609   17.180870  207.861739       1018.786087   67.973913   \n",
              "std      0.757311    5.363717  105.753785          7.939805   22.874038   \n",
              "min      0.000000    6.500000    1.100000        993.400000    9.000000   \n",
              "25%      0.000000   13.100000  154.550000       1014.000000   53.800000   \n",
              "50%      0.000000   16.600000  200.200000       1019.100000   73.400000   \n",
              "75%      0.000000   20.900000  305.450000       1023.450000   86.400000   \n",
              "max      4.900000   32.500000  358.900000       1037.200000   99.900000   \n",
              "\n",
              "       visibility  solarradiation  solarenergy     uvindex   moonphase  \n",
              "count  115.000000      115.000000   115.000000  115.000000  115.000000  \n",
              "mean     9.304348       93.300000     7.700870    4.826087    0.507652  \n",
              "std      1.154122       49.674145     4.225019    2.686094    0.310857  \n",
              "min      5.700000        6.300000     0.000000    0.000000    0.000000  \n",
              "25%      9.550000       49.550000     3.850000    3.000000    0.255000  \n",
              "50%      9.900000      100.000000     8.200000    5.000000    0.500000  \n",
              "75%      9.900000      133.750000    11.250000    7.000000    0.760000  \n",
              "max      9.900000      197.800000    16.400000   10.000000    1.000000  \n",
              "\n",
              "[8 rows x 23 columns]"
            ]
          },
          "execution_count": 24,
          "metadata": {},
          "output_type": "execute_result"
        }
      ],
      "source": [
        "df_m_pu.describe()"
      ]
    },
    {
      "cell_type": "code",
      "execution_count": null,
      "id": "8809498e",
      "metadata": {
        "colab": {
          "base_uri": "https://localhost:8080/",
          "height": 164
        },
        "id": "8809498e",
        "outputId": "e1f4a037-389d-40a3-a2ec-d3aaf2ce61fd"
      },
      "outputs": [
        {
          "data": {
            "text/html": [
              "<div>\n",
              "<style scoped>\n",
              "    .dataframe tbody tr th:only-of-type {\n",
              "        vertical-align: middle;\n",
              "    }\n",
              "\n",
              "    .dataframe tbody tr th {\n",
              "        vertical-align: top;\n",
              "    }\n",
              "\n",
              "    .dataframe thead th {\n",
              "        text-align: right;\n",
              "    }\n",
              "</style>\n",
              "<table border=\"1\" class=\"dataframe\">\n",
              "  <thead>\n",
              "    <tr style=\"text-align: right;\">\n",
              "      <th></th>\n",
              "      <th>do_ct</th>\n",
              "      <th>tempmax</th>\n",
              "      <th>tempmin</th>\n",
              "      <th>temp</th>\n",
              "      <th>feelslikemax</th>\n",
              "      <th>feelslikemin</th>\n",
              "      <th>feelslike</th>\n",
              "      <th>dew</th>\n",
              "      <th>humidity</th>\n",
              "      <th>precip</th>\n",
              "      <th>...</th>\n",
              "      <th>snowdepth</th>\n",
              "      <th>windspeed</th>\n",
              "      <th>winddir</th>\n",
              "      <th>sealevelpressure</th>\n",
              "      <th>cloudcover</th>\n",
              "      <th>visibility</th>\n",
              "      <th>solarradiation</th>\n",
              "      <th>solarenergy</th>\n",
              "      <th>uvindex</th>\n",
              "      <th>moonphase</th>\n",
              "    </tr>\n",
              "  </thead>\n",
              "  <tbody>\n",
              "    <tr>\n",
              "      <th>count</th>\n",
              "      <td>119.000000</td>\n",
              "      <td>119.000000</td>\n",
              "      <td>119.000000</td>\n",
              "      <td>119.000000</td>\n",
              "      <td>119.000000</td>\n",
              "      <td>119.000000</td>\n",
              "      <td>119.000000</td>\n",
              "      <td>119.000000</td>\n",
              "      <td>119.000000</td>\n",
              "      <td>119.000000</td>\n",
              "      <td>...</td>\n",
              "      <td>119.000000</td>\n",
              "      <td>119.000000</td>\n",
              "      <td>119.000000</td>\n",
              "      <td>119.000000</td>\n",
              "      <td>119.000000</td>\n",
              "      <td>119.000000</td>\n",
              "      <td>119.000000</td>\n",
              "      <td>119.000000</td>\n",
              "      <td>119.000000</td>\n",
              "      <td>119.000000</td>\n",
              "    </tr>\n",
              "    <tr>\n",
              "      <th>mean</th>\n",
              "      <td>16.243697</td>\n",
              "      <td>54.868908</td>\n",
              "      <td>37.451261</td>\n",
              "      <td>45.674790</td>\n",
              "      <td>52.780672</td>\n",
              "      <td>31.353782</td>\n",
              "      <td>41.903361</td>\n",
              "      <td>29.635294</td>\n",
              "      <td>56.238655</td>\n",
              "      <td>0.099227</td>\n",
              "      <td>...</td>\n",
              "      <td>0.280672</td>\n",
              "      <td>17.169748</td>\n",
              "      <td>207.263025</td>\n",
              "      <td>1019.057143</td>\n",
              "      <td>67.080672</td>\n",
              "      <td>9.324370</td>\n",
              "      <td>93.702521</td>\n",
              "      <td>7.675630</td>\n",
              "      <td>4.840336</td>\n",
              "      <td>0.503025</td>\n",
              "    </tr>\n",
              "    <tr>\n",
              "      <th>std</th>\n",
              "      <td>10.086042</td>\n",
              "      <td>13.715238</td>\n",
              "      <td>11.028744</td>\n",
              "      <td>12.048941</td>\n",
              "      <td>16.062834</td>\n",
              "      <td>14.449044</td>\n",
              "      <td>15.158870</td>\n",
              "      <td>13.499439</td>\n",
              "      <td>14.144563</td>\n",
              "      <td>0.234666</td>\n",
              "      <td>...</td>\n",
              "      <td>0.955828</td>\n",
              "      <td>5.320978</td>\n",
              "      <td>106.354467</td>\n",
              "      <td>7.948495</td>\n",
              "      <td>23.168083</td>\n",
              "      <td>1.139504</td>\n",
              "      <td>49.558908</td>\n",
              "      <td>4.192183</td>\n",
              "      <td>2.664847</td>\n",
              "      <td>0.309115</td>\n",
              "    </tr>\n",
              "    <tr>\n",
              "      <th>min</th>\n",
              "      <td>1.000000</td>\n",
              "      <td>26.800000</td>\n",
              "      <td>16.700000</td>\n",
              "      <td>23.500000</td>\n",
              "      <td>16.600000</td>\n",
              "      <td>4.300000</td>\n",
              "      <td>11.700000</td>\n",
              "      <td>2.800000</td>\n",
              "      <td>30.100000</td>\n",
              "      <td>0.000000</td>\n",
              "      <td>...</td>\n",
              "      <td>0.000000</td>\n",
              "      <td>6.500000</td>\n",
              "      <td>1.000000</td>\n",
              "      <td>993.400000</td>\n",
              "      <td>9.000000</td>\n",
              "      <td>5.700000</td>\n",
              "      <td>6.300000</td>\n",
              "      <td>0.000000</td>\n",
              "      <td>0.000000</td>\n",
              "      <td>0.000000</td>\n",
              "    </tr>\n",
              "    <tr>\n",
              "      <th>25%</th>\n",
              "      <td>7.500000</td>\n",
              "      <td>43.900000</td>\n",
              "      <td>28.700000</td>\n",
              "      <td>35.900000</td>\n",
              "      <td>39.500000</td>\n",
              "      <td>19.500000</td>\n",
              "      <td>29.300000</td>\n",
              "      <td>20.300000</td>\n",
              "      <td>44.300000</td>\n",
              "      <td>0.000000</td>\n",
              "      <td>...</td>\n",
              "      <td>0.000000</td>\n",
              "      <td>13.100000</td>\n",
              "      <td>154.550000</td>\n",
              "      <td>1014.050000</td>\n",
              "      <td>53.650000</td>\n",
              "      <td>9.600000</td>\n",
              "      <td>49.550000</td>\n",
              "      <td>3.850000</td>\n",
              "      <td>3.000000</td>\n",
              "      <td>0.255000</td>\n",
              "    </tr>\n",
              "    <tr>\n",
              "      <th>50%</th>\n",
              "      <td>17.000000</td>\n",
              "      <td>55.100000</td>\n",
              "      <td>36.700000</td>\n",
              "      <td>46.800000</td>\n",
              "      <td>55.100000</td>\n",
              "      <td>30.200000</td>\n",
              "      <td>43.600000</td>\n",
              "      <td>28.500000</td>\n",
              "      <td>53.500000</td>\n",
              "      <td>0.000000</td>\n",
              "      <td>...</td>\n",
              "      <td>0.000000</td>\n",
              "      <td>16.600000</td>\n",
              "      <td>200.200000</td>\n",
              "      <td>1019.100000</td>\n",
              "      <td>70.700000</td>\n",
              "      <td>9.900000</td>\n",
              "      <td>100.000000</td>\n",
              "      <td>8.100000</td>\n",
              "      <td>5.000000</td>\n",
              "      <td>0.500000</td>\n",
              "    </tr>\n",
              "    <tr>\n",
              "      <th>75%</th>\n",
              "      <td>23.000000</td>\n",
              "      <td>64.900000</td>\n",
              "      <td>46.800000</td>\n",
              "      <td>54.550000</td>\n",
              "      <td>64.900000</td>\n",
              "      <td>42.650000</td>\n",
              "      <td>53.700000</td>\n",
              "      <td>38.100000</td>\n",
              "      <td>63.900000</td>\n",
              "      <td>0.033500</td>\n",
              "      <td>...</td>\n",
              "      <td>0.000000</td>\n",
              "      <td>20.900000</td>\n",
              "      <td>305.450000</td>\n",
              "      <td>1024.050000</td>\n",
              "      <td>86.100000</td>\n",
              "      <td>9.900000</td>\n",
              "      <td>135.050000</td>\n",
              "      <td>11.200000</td>\n",
              "      <td>7.000000</td>\n",
              "      <td>0.750000</td>\n",
              "    </tr>\n",
              "    <tr>\n",
              "      <th>max</th>\n",
              "      <td>39.000000</td>\n",
              "      <td>85.800000</td>\n",
              "      <td>61.000000</td>\n",
              "      <td>72.900000</td>\n",
              "      <td>84.300000</td>\n",
              "      <td>61.000000</td>\n",
              "      <td>72.800000</td>\n",
              "      <td>56.000000</td>\n",
              "      <td>92.100000</td>\n",
              "      <td>1.038000</td>\n",
              "      <td>...</td>\n",
              "      <td>6.700000</td>\n",
              "      <td>32.500000</td>\n",
              "      <td>358.900000</td>\n",
              "      <td>1037.200000</td>\n",
              "      <td>99.900000</td>\n",
              "      <td>9.900000</td>\n",
              "      <td>197.800000</td>\n",
              "      <td>16.400000</td>\n",
              "      <td>10.000000</td>\n",
              "      <td>1.000000</td>\n",
              "    </tr>\n",
              "  </tbody>\n",
              "</table>\n",
              "<p>8 rows × 23 columns</p>\n",
              "</div>"
            ],
            "text/plain": [
              "            do_ct     tempmax     tempmin        temp  feelslikemax   \n",
              "count  119.000000  119.000000  119.000000  119.000000    119.000000  \\\n",
              "mean    16.243697   54.868908   37.451261   45.674790     52.780672   \n",
              "std     10.086042   13.715238   11.028744   12.048941     16.062834   \n",
              "min      1.000000   26.800000   16.700000   23.500000     16.600000   \n",
              "25%      7.500000   43.900000   28.700000   35.900000     39.500000   \n",
              "50%     17.000000   55.100000   36.700000   46.800000     55.100000   \n",
              "75%     23.000000   64.900000   46.800000   54.550000     64.900000   \n",
              "max     39.000000   85.800000   61.000000   72.900000     84.300000   \n",
              "\n",
              "       feelslikemin   feelslike         dew    humidity      precip  ...   \n",
              "count    119.000000  119.000000  119.000000  119.000000  119.000000  ...  \\\n",
              "mean      31.353782   41.903361   29.635294   56.238655    0.099227  ...   \n",
              "std       14.449044   15.158870   13.499439   14.144563    0.234666  ...   \n",
              "min        4.300000   11.700000    2.800000   30.100000    0.000000  ...   \n",
              "25%       19.500000   29.300000   20.300000   44.300000    0.000000  ...   \n",
              "50%       30.200000   43.600000   28.500000   53.500000    0.000000  ...   \n",
              "75%       42.650000   53.700000   38.100000   63.900000    0.033500  ...   \n",
              "max       61.000000   72.800000   56.000000   92.100000    1.038000  ...   \n",
              "\n",
              "        snowdepth   windspeed     winddir  sealevelpressure  cloudcover   \n",
              "count  119.000000  119.000000  119.000000        119.000000  119.000000  \\\n",
              "mean     0.280672   17.169748  207.263025       1019.057143   67.080672   \n",
              "std      0.955828    5.320978  106.354467          7.948495   23.168083   \n",
              "min      0.000000    6.500000    1.000000        993.400000    9.000000   \n",
              "25%      0.000000   13.100000  154.550000       1014.050000   53.650000   \n",
              "50%      0.000000   16.600000  200.200000       1019.100000   70.700000   \n",
              "75%      0.000000   20.900000  305.450000       1024.050000   86.100000   \n",
              "max      6.700000   32.500000  358.900000       1037.200000   99.900000   \n",
              "\n",
              "       visibility  solarradiation  solarenergy     uvindex   moonphase  \n",
              "count  119.000000      119.000000   119.000000  119.000000  119.000000  \n",
              "mean     9.324370       93.702521     7.675630    4.840336    0.503025  \n",
              "std      1.139504       49.558908     4.192183    2.664847    0.309115  \n",
              "min      5.700000        6.300000     0.000000    0.000000    0.000000  \n",
              "25%      9.600000       49.550000     3.850000    3.000000    0.255000  \n",
              "50%      9.900000      100.000000     8.100000    5.000000    0.500000  \n",
              "75%      9.900000      135.050000    11.200000    7.000000    0.750000  \n",
              "max      9.900000      197.800000    16.400000   10.000000    1.000000  \n",
              "\n",
              "[8 rows x 23 columns]"
            ]
          },
          "execution_count": 25,
          "metadata": {},
          "output_type": "execute_result"
        }
      ],
      "source": [
        "df_m_do.describe()"
      ]
    },
    {
      "cell_type": "markdown",
      "id": "7ef1734d",
      "metadata": {
        "id": "7ef1734d"
      },
      "source": [
        "# Demo: train models for pickup"
      ]
    },
    {
      "cell_type": "code",
      "execution_count": null,
      "id": "995ad1cd",
      "metadata": {
        "id": "995ad1cd"
      },
      "outputs": [],
      "source": [
        "from sklearn.model_selection import train_test_split\n",
        "from sklearn.linear_model import LinearRegression\n",
        "from sklearn.metrics import mean_squared_error"
      ]
    },
    {
      "cell_type": "code",
      "execution_count": null,
      "id": "0217869f",
      "metadata": {
        "id": "0217869f",
        "outputId": "06bbec20-e9cc-45ae-b47a-82f2891e836b"
      },
      "outputs": [
        {
          "name": "stdout",
          "output_type": "stream",
          "text": [
            "<class 'pandas.core.frame.DataFrame'>\n",
            "RangeIndex: 115 entries, 0 to 114\n",
            "Data columns (total 26 columns):\n",
            " #   Column                  Non-Null Count  Dtype  \n",
            "---  ------                  --------------  -----  \n",
            " 0   tempmax                 115 non-null    float64\n",
            " 1   tempmin                 115 non-null    float64\n",
            " 2   temp                    115 non-null    float64\n",
            " 3   feelslikemax            115 non-null    float64\n",
            " 4   feelslikemin            115 non-null    float64\n",
            " 5   feelslike               115 non-null    float64\n",
            " 6   dew                     115 non-null    float64\n",
            " 7   humidity                115 non-null    float64\n",
            " 8   precip                  115 non-null    float64\n",
            " 9   precipprob              115 non-null    int64  \n",
            " 10  precipcover             115 non-null    float64\n",
            " 11  snow                    115 non-null    float64\n",
            " 12  snowdepth               115 non-null    float64\n",
            " 13  windspeed               115 non-null    float64\n",
            " 14  winddir                 115 non-null    float64\n",
            " 15  sealevelpressure        115 non-null    float64\n",
            " 16  cloudcover              115 non-null    float64\n",
            " 17  visibility              115 non-null    float64\n",
            " 18  solarradiation          115 non-null    float64\n",
            " 19  solarenergy             115 non-null    float64\n",
            " 20  uvindex                 115 non-null    int64  \n",
            " 21  moonphase               115 non-null    float64\n",
            " 22  icon_partly-cloudy-day  115 non-null    bool   \n",
            " 23  icon_rain               115 non-null    bool   \n",
            " 24  icon_snow               115 non-null    bool   \n",
            " 25  icon_wind               115 non-null    bool   \n",
            "dtypes: bool(4), float64(20), int64(2)\n",
            "memory usage: 20.3 KB\n"
          ]
        }
      ],
      "source": [
        "# pickup\n",
        "y = df_m_pu['pu_ct']\n",
        "X = df_m_pu.drop('pu_ct',axis=1)\n",
        "X = pd.get_dummies(data=X, drop_first=True)\n",
        "X.info()"
      ]
    },
    {
      "cell_type": "code",
      "execution_count": null,
      "id": "5e38070e",
      "metadata": {
        "id": "5e38070e",
        "outputId": "0fd6a9ba-d40c-4fa6-f648-7fe95b3fb921"
      },
      "outputs": [
        {
          "data": {
            "text/html": [
              "<div>\n",
              "<style scoped>\n",
              "    .dataframe tbody tr th:only-of-type {\n",
              "        vertical-align: middle;\n",
              "    }\n",
              "\n",
              "    .dataframe tbody tr th {\n",
              "        vertical-align: top;\n",
              "    }\n",
              "\n",
              "    .dataframe thead th {\n",
              "        text-align: right;\n",
              "    }\n",
              "</style>\n",
              "<table border=\"1\" class=\"dataframe\">\n",
              "  <thead>\n",
              "    <tr style=\"text-align: right;\">\n",
              "      <th></th>\n",
              "      <th>tempmax</th>\n",
              "      <th>tempmin</th>\n",
              "      <th>temp</th>\n",
              "      <th>feelslikemax</th>\n",
              "      <th>feelslikemin</th>\n",
              "      <th>feelslike</th>\n",
              "      <th>dew</th>\n",
              "      <th>humidity</th>\n",
              "      <th>precip</th>\n",
              "      <th>precipprob</th>\n",
              "      <th>...</th>\n",
              "      <th>cloudcover</th>\n",
              "      <th>visibility</th>\n",
              "      <th>solarradiation</th>\n",
              "      <th>solarenergy</th>\n",
              "      <th>uvindex</th>\n",
              "      <th>moonphase</th>\n",
              "      <th>icon_partly-cloudy-day</th>\n",
              "      <th>icon_rain</th>\n",
              "      <th>icon_snow</th>\n",
              "      <th>icon_wind</th>\n",
              "    </tr>\n",
              "  </thead>\n",
              "  <tbody>\n",
              "    <tr>\n",
              "      <th>0</th>\n",
              "      <td>63.5</td>\n",
              "      <td>54.1</td>\n",
              "      <td>58.3</td>\n",
              "      <td>63.5</td>\n",
              "      <td>54.1</td>\n",
              "      <td>58.3</td>\n",
              "      <td>56.0</td>\n",
              "      <td>92.1</td>\n",
              "      <td>0.448</td>\n",
              "      <td>100</td>\n",
              "      <td>...</td>\n",
              "      <td>99.5</td>\n",
              "      <td>6.2</td>\n",
              "      <td>21.4</td>\n",
              "      <td>0.6</td>\n",
              "      <td>0</td>\n",
              "      <td>0.99</td>\n",
              "      <td>False</td>\n",
              "      <td>True</td>\n",
              "      <td>False</td>\n",
              "      <td>False</td>\n",
              "    </tr>\n",
              "    <tr>\n",
              "      <th>1</th>\n",
              "      <td>62.7</td>\n",
              "      <td>47.8</td>\n",
              "      <td>57.5</td>\n",
              "      <td>62.7</td>\n",
              "      <td>42.0</td>\n",
              "      <td>57.0</td>\n",
              "      <td>51.6</td>\n",
              "      <td>81.6</td>\n",
              "      <td>0.124</td>\n",
              "      <td>100</td>\n",
              "      <td>...</td>\n",
              "      <td>91.6</td>\n",
              "      <td>9.6</td>\n",
              "      <td>47.3</td>\n",
              "      <td>1.7</td>\n",
              "      <td>1</td>\n",
              "      <td>1.00</td>\n",
              "      <td>False</td>\n",
              "      <td>True</td>\n",
              "      <td>False</td>\n",
              "      <td>False</td>\n",
              "    </tr>\n",
              "    <tr>\n",
              "      <th>2</th>\n",
              "      <td>46.0</td>\n",
              "      <td>26.1</td>\n",
              "      <td>32.7</td>\n",
              "      <td>39.4</td>\n",
              "      <td>14.3</td>\n",
              "      <td>23.0</td>\n",
              "      <td>26.6</td>\n",
              "      <td>78.7</td>\n",
              "      <td>0.889</td>\n",
              "      <td>100</td>\n",
              "      <td>...</td>\n",
              "      <td>77.2</td>\n",
              "      <td>6.2</td>\n",
              "      <td>6.3</td>\n",
              "      <td>0.0</td>\n",
              "      <td>0</td>\n",
              "      <td>0.00</td>\n",
              "      <td>False</td>\n",
              "      <td>False</td>\n",
              "      <td>True</td>\n",
              "      <td>False</td>\n",
              "    </tr>\n",
              "    <tr>\n",
              "      <th>3</th>\n",
              "      <td>40.8</td>\n",
              "      <td>28.1</td>\n",
              "      <td>35.8</td>\n",
              "      <td>37.2</td>\n",
              "      <td>19.8</td>\n",
              "      <td>29.5</td>\n",
              "      <td>29.0</td>\n",
              "      <td>76.3</td>\n",
              "      <td>0.000</td>\n",
              "      <td>0</td>\n",
              "      <td>...</td>\n",
              "      <td>82.6</td>\n",
              "      <td>9.9</td>\n",
              "      <td>63.5</td>\n",
              "      <td>2.2</td>\n",
              "      <td>1</td>\n",
              "      <td>0.05</td>\n",
              "      <td>True</td>\n",
              "      <td>False</td>\n",
              "      <td>False</td>\n",
              "      <td>False</td>\n",
              "    </tr>\n",
              "    <tr>\n",
              "      <th>4</th>\n",
              "      <td>42.9</td>\n",
              "      <td>36.9</td>\n",
              "      <td>39.8</td>\n",
              "      <td>40.6</td>\n",
              "      <td>29.5</td>\n",
              "      <td>35.3</td>\n",
              "      <td>24.2</td>\n",
              "      <td>55.0</td>\n",
              "      <td>0.000</td>\n",
              "      <td>0</td>\n",
              "      <td>...</td>\n",
              "      <td>88.1</td>\n",
              "      <td>9.9</td>\n",
              "      <td>145.6</td>\n",
              "      <td>5.3</td>\n",
              "      <td>4</td>\n",
              "      <td>0.09</td>\n",
              "      <td>False</td>\n",
              "      <td>False</td>\n",
              "      <td>True</td>\n",
              "      <td>False</td>\n",
              "    </tr>\n",
              "  </tbody>\n",
              "</table>\n",
              "<p>5 rows × 26 columns</p>\n",
              "</div>"
            ],
            "text/plain": [
              "   tempmax  tempmin  temp  feelslikemax  feelslikemin  feelslike   dew   \n",
              "0     63.5     54.1  58.3          63.5          54.1       58.3  56.0  \\\n",
              "1     62.7     47.8  57.5          62.7          42.0       57.0  51.6   \n",
              "2     46.0     26.1  32.7          39.4          14.3       23.0  26.6   \n",
              "3     40.8     28.1  35.8          37.2          19.8       29.5  29.0   \n",
              "4     42.9     36.9  39.8          40.6          29.5       35.3  24.2   \n",
              "\n",
              "   humidity  precip  precipprob  ...  cloudcover  visibility  solarradiation   \n",
              "0      92.1   0.448         100  ...        99.5         6.2            21.4  \\\n",
              "1      81.6   0.124         100  ...        91.6         9.6            47.3   \n",
              "2      78.7   0.889         100  ...        77.2         6.2             6.3   \n",
              "3      76.3   0.000           0  ...        82.6         9.9            63.5   \n",
              "4      55.0   0.000           0  ...        88.1         9.9           145.6   \n",
              "\n",
              "   solarenergy  uvindex  moonphase  icon_partly-cloudy-day  icon_rain   \n",
              "0          0.6        0       0.99                   False       True  \\\n",
              "1          1.7        1       1.00                   False       True   \n",
              "2          0.0        0       0.00                   False      False   \n",
              "3          2.2        1       0.05                    True      False   \n",
              "4          5.3        4       0.09                   False      False   \n",
              "\n",
              "   icon_snow  icon_wind  \n",
              "0      False      False  \n",
              "1      False      False  \n",
              "2       True      False  \n",
              "3      False      False  \n",
              "4       True      False  \n",
              "\n",
              "[5 rows x 26 columns]"
            ]
          },
          "execution_count": 28,
          "metadata": {},
          "output_type": "execute_result"
        }
      ],
      "source": [
        "X.head()"
      ]
    },
    {
      "cell_type": "code",
      "execution_count": null,
      "id": "ad687259",
      "metadata": {
        "id": "ad687259"
      },
      "outputs": [],
      "source": [
        "X_train,X_test, y_train,y_test = train_test_split(X,y, test_size=0.4, random_state = 200)"
      ]
    },
    {
      "cell_type": "markdown",
      "id": "7f39bba9",
      "metadata": {
        "id": "7f39bba9"
      },
      "source": [
        "## Linear Regression"
      ]
    },
    {
      "cell_type": "code",
      "execution_count": null,
      "id": "e0fbf079",
      "metadata": {
        "id": "e0fbf079"
      },
      "outputs": [],
      "source": [
        "linear_regressor = LinearRegression()\n",
        "linear_regressor.fit(X_train, y_train) \n",
        "y_pred = linear_regressor.predict(X_test)"
      ]
    },
    {
      "cell_type": "code",
      "execution_count": null,
      "id": "79054bd3",
      "metadata": {
        "id": "79054bd3",
        "outputId": "15fece92-1574-48c7-abd0-a7a8fda37496"
      },
      "outputs": [
        {
          "name": "stdout",
          "output_type": "stream",
          "text": [
            "tempmax                   0.945492\n",
            "tempmin                   0.445349\n",
            "temp                     -2.031484\n",
            "feelslikemax             -0.771055\n",
            "feelslikemin             -0.679134\n",
            "feelslike                 0.764571\n",
            "dew                       1.862416\n",
            "humidity                 -0.916568\n",
            "precip                   -2.382399\n",
            "precipprob               -0.004082\n",
            "precipcover              -0.075051\n",
            "snow                     -0.114305\n",
            "snowdepth                 0.746721\n",
            "windspeed                -0.676991\n",
            "winddir                   0.014838\n",
            "sealevelpressure         -0.195860\n",
            "cloudcover                0.033615\n",
            "visibility               -2.954038\n",
            "solarradiation           -0.074035\n",
            "solarenergy               1.292846\n",
            "uvindex                   0.718006\n",
            "moonphase                 1.677679\n",
            "icon_partly-cloudy-day    4.111127\n",
            "icon_rain                 3.979878\n",
            "icon_snow                 2.609011\n",
            "icon_wind                 0.000000\n",
            "dtype: float64\n"
          ]
        }
      ],
      "source": [
        "print(pd.Series(linear_regressor.coef_.flatten(), index=X_train.columns))"
      ]
    },
    {
      "cell_type": "code",
      "execution_count": null,
      "id": "e8957155",
      "metadata": {
        "id": "e8957155",
        "outputId": "9b61ec7b-fef9-4cb8-e8c1-945fec2e8927"
      },
      "outputs": [
        {
          "name": "stdout",
          "output_type": "stream",
          "text": [
            "MSE is 47.308\n"
          ]
        }
      ],
      "source": [
        "mse = round(mean_squared_error(y_test, y_pred),3)\n",
        "print(f\"MSE is {mse}\")"
      ]
    },
    {
      "cell_type": "code",
      "execution_count": null,
      "id": "9d58f71e",
      "metadata": {
        "id": "9d58f71e",
        "outputId": "e7c1eecc-b8af-4eec-a7f2-a26cbb9e74b4"
      },
      "outputs": [
        {
          "name": "stdout",
          "output_type": "stream",
          "text": [
            "Predicted Pick up at 21st St & Pennsylvania Ave NW is [25.69044543]\n"
          ]
        }
      ],
      "source": [
        "pu_pred_Hst = linear_regressor.predict((X_test.iloc[[14]]))\n",
        "print(f\"Predicted Pick up at 21st St & Pennsylvania Ave NW is {pu_pred_Hst}\")"
      ]
    },
    {
      "cell_type": "markdown",
      "id": "d6e63f86",
      "metadata": {
        "id": "d6e63f86"
      },
      "source": [
        "## LASSO"
      ]
    },
    {
      "cell_type": "code",
      "execution_count": null,
      "id": "9a16bee5",
      "metadata": {
        "id": "9a16bee5",
        "outputId": "f1a6014e-5609-498a-e3a4-60f145d18b2c"
      },
      "outputs": [
        {
          "data": {
            "image/png": "[encoded data removed]",
            "text/plain": [
              "<Figure size 432x288 with 1 Axes>"
            ]
          },
          "metadata": {
            "needs_background": "light"
          },
          "output_type": "display_data"
        }
      ],
      "source": [
        "alphas = 10**np.linspace(-2,2,100)\n",
        "\n",
        "lasso = Lasso()\n",
        "coefs = []\n",
        "\n",
        "for a in alphas:\n",
        "    lasso.set_params(alpha=a, max_iter=10000) # increase iterations for optimization of coefficients\n",
        "    lasso.fit(scale(X_train), y_train)\n",
        "    coefs.append(lasso.coef_)\n",
        "\n",
        "ax = plt.gca()\n",
        "ax.plot(alphas, coefs)\n",
        "ax.set_xscale('log')\n",
        "ax.set_xlim(ax.get_xlim())  \n",
        "plt.axis('tight')\n",
        "plt.xlabel('alpha')\n",
        "plt.ylabel('Coefficients')\n",
        "# plt.legend(list(X_train.columns), loc='best')\n",
        "\n",
        "plt.title('Lasso coefficients as a function of the regularization');"
      ]
    },
    {
      "cell_type": "code",
      "execution_count": null,
      "id": "3a3dd86b",
      "metadata": {
        "id": "3a3dd86b",
        "outputId": "f66ceb7b-77f0-4e85-fc8d-5851b7cca733"
      },
      "outputs": [
        {
          "name": "stdout",
          "output_type": "stream",
          "text": [
            "The best alpha from LassoCV: 0.7924828983539177\n"
          ]
        }
      ],
      "source": [
        "# find the best alpha via CV with selected scoring metric\n",
        "lassocv = LassoCV(alphas=alphas, max_iter=10000)\n",
        "lassocv.fit(scale(X_train), y_train)\n",
        "\n",
        "print('The best alpha from LassoCV:', lassocv.alpha_)"
      ]
    },
    {
      "cell_type": "code",
      "execution_count": null,
      "id": "8aa4fba5",
      "metadata": {
        "id": "8aa4fba5",
        "outputId": "4a2d4e22-0811-4966-e535-a339e1a3dca1"
      },
      "outputs": [
        {
          "name": "stdout",
          "output_type": "stream",
          "text": [
            "The coefficients are:\n",
            "tempmax                   1.439375\n",
            "tempmin                   0.000000\n",
            "temp                      0.000000\n",
            "feelslikemax              0.000000\n",
            "feelslikemin              0.000000\n",
            "feelslike                 2.410625\n",
            "dew                       0.000000\n",
            "humidity                 -0.000000\n",
            "precip                   -0.000000\n",
            "precipprob               -0.000000\n",
            "precipcover              -0.000000\n",
            "snow                     -0.000000\n",
            "snowdepth                -0.000000\n",
            "windspeed                -0.611661\n",
            "winddir                   0.000000\n",
            "sealevelpressure         -0.000000\n",
            "cloudcover                0.000000\n",
            "visibility               -0.000000\n",
            "solarradiation            0.000000\n",
            "solarenergy               2.061292\n",
            "uvindex                   0.869532\n",
            "moonphase                 0.704540\n",
            "icon_partly-cloudy-day    0.037787\n",
            "icon_rain                -0.000000\n",
            "icon_snow                -0.000000\n",
            "icon_wind                 0.000000\n",
            "dtype: float64\n"
          ]
        }
      ],
      "source": [
        "# with the best alpha\n",
        "lasso.set_params(alpha=lassocv.alpha_)\n",
        "lasso.fit(scale(X_train), y_train)\n",
        "print('The coefficients are:')\n",
        "print(pd.Series(lasso.coef_.flatten(), index=X_train.columns))"
      ]
    },
    {
      "cell_type": "code",
      "execution_count": null,
      "id": "40502cfe",
      "metadata": {
        "id": "40502cfe",
        "outputId": "7ef5de14-ce4c-4d63-b868-b253ca8b2c9f"
      },
      "outputs": [
        {
          "data": {
            "image/png": "[encoded data removed]",
            "text/plain": [
              "<Figure size 432x288 with 1 Axes>"
            ]
          },
          "metadata": {
            "needs_background": "light"
          },
          "output_type": "display_data"
        }
      ],
      "source": [
        "plt.semilogx(lassocv.alphas_, lassocv.mse_path_, linestyle=\":\")\n",
        "plt.plot(\n",
        "    lassocv.alphas_,\n",
        "    lassocv.mse_path_.mean(axis=-1),\n",
        "    color=\"black\",\n",
        "    label=\"Average across the folds\",\n",
        "    linewidth=2,\n",
        ")\n",
        "plt.axvline(lassocv.alpha_, linestyle=\"--\", color=\"black\", label=\"alpha: CV estimate\")\n",
        "\n",
        "\n",
        "plt.xlabel(r\"$\\alpha$\")\n",
        "plt.ylabel(\"Mean square error\")\n",
        "plt.legend()\n",
        "plt.title(\"MSE\")\n",
        "plt.show()"
      ]
    },
    {
      "cell_type": "code",
      "execution_count": null,
      "id": "7a21e12b",
      "metadata": {
        "id": "7a21e12b",
        "outputId": "1b11ba91-ce25-4164-f9ea-bd1e876f6f6e"
      },
      "outputs": [
        {
          "name": "stdout",
          "output_type": "stream",
          "text": [
            "MSE is 26.123\n"
          ]
        }
      ],
      "source": [
        "y_pred=lasso.predict(scale(X_test.values))\n",
        "mse = round(mean_squared_error(y_test, y_pred),3)\n",
        "print(f\"MSE is {mse}\")"
      ]
    },
    {
      "cell_type": "code",
      "execution_count": null,
      "id": "07833c02",
      "metadata": {
        "id": "07833c02",
        "outputId": "3f062ebd-c5ac-44d5-eeb7-ce15e85e682d"
      },
      "outputs": [
        {
          "name": "stdout",
          "output_type": "stream",
          "text": [
            "Predicted Pick up at 21st St & Pennsylvania Ave NW is [12.82608696]\n",
            "----------------------------------\n"
          ]
        }
      ],
      "source": [
        "y_pred_ = lasso.predict(scale(X_test.iloc[[0]]))\n",
        "print(f\"Predicted Pick up at 21st St & Pennsylvania Ave NW is {y_pred_}\")\n",
        "print('----------------------------------')"
      ]
    },
    {
      "cell_type": "markdown",
      "id": "ee44741e",
      "metadata": {
        "id": "ee44741e"
      },
      "source": [
        "## Ridge Regression"
      ]
    },
    {
      "cell_type": "code",
      "execution_count": null,
      "id": "74da3909",
      "metadata": {
        "id": "74da3909"
      },
      "outputs": [],
      "source": [
        "# standardize the features\n",
        "from sklearn.preprocessing import StandardScaler\n",
        "\n",
        "scaler = StandardScaler().fit(X_train)"
      ]
    },
    {
      "cell_type": "code",
      "execution_count": null,
      "id": "6559f3eb",
      "metadata": {
        "id": "6559f3eb",
        "outputId": "ae305954-0f5b-4e56-a7ed-8226c4d43ce4"
      },
      "outputs": [
        {
          "name": "stdout",
          "output_type": "stream",
          "text": [
            "The coefficients are:\n",
            "tempmax                   0.258847\n",
            "tempmin                   0.199451\n",
            "temp                      0.240523\n",
            "feelslikemax              0.255292\n",
            "feelslikemin              0.214795\n",
            "feelslike                 0.244293\n",
            "dew                       0.161576\n",
            "humidity                 -0.073548\n",
            "precip                   -0.113853\n",
            "precipprob               -0.092732\n",
            "precipcover              -0.140055\n",
            "snow                     -0.114542\n",
            "snowdepth                -0.141057\n",
            "windspeed                -0.093619\n",
            "winddir                   0.030979\n",
            "sealevelpressure         -0.018822\n",
            "cloudcover               -0.026863\n",
            "visibility                0.061176\n",
            "solarradiation            0.182837\n",
            "solarenergy               0.235042\n",
            "uvindex                   0.221777\n",
            "moonphase                 0.103182\n",
            "icon_partly-cloudy-day    0.131633\n",
            "icon_rain                -0.038435\n",
            "icon_snow                -0.127854\n",
            "icon_wind                 0.000000\n",
            "dtype: float64\n"
          ]
        }
      ],
      "source": [
        "# set a large alpha to get smaller coefficients\n",
        "ridge = Ridge(alpha=1000)\n",
        "ridge.fit(scaler.transform(X_train), y_train)\n",
        "\n",
        "print('The coefficients are:')\n",
        "print(pd.Series(ridge.coef_.flatten(), index=X_train.columns))"
      ]
    },
    {
      "cell_type": "code",
      "execution_count": null,
      "id": "813e7bb5",
      "metadata": {
        "id": "813e7bb5",
        "outputId": "6744c706-640f-4331-9524-6a27452fa703"
      },
      "outputs": [
        {
          "name": "stdout",
          "output_type": "stream",
          "text": [
            "The best alpha from RidgeCV: 62.802914418342596\n"
          ]
        }
      ],
      "source": [
        "# find the best alpha via CV with selected scoring metric\n",
        "ridgecv = RidgeCV(alphas=alphas, scoring='neg_mean_squared_error')\n",
        "ridgecv.fit(scale(X_train), y_train)\n",
        "\n",
        "print('The best alpha from RidgeCV:', ridgecv.alpha_)"
      ]
    },
    {
      "cell_type": "code",
      "execution_count": null,
      "id": "8bbc8385",
      "metadata": {
        "id": "8bbc8385",
        "outputId": "72551686-8b70-4fc0-921c-02cc1feddb87"
      },
      "outputs": [
        {
          "name": "stdout",
          "output_type": "stream",
          "text": [
            "The coefficients are:\n",
            "tempmax                   0.745749\n",
            "tempmin                   0.423246\n",
            "temp                      0.635488\n",
            "feelslikemax              0.711030\n",
            "feelslikemin              0.481404\n",
            "feelslike                 0.655394\n",
            "dew                       0.432817\n",
            "humidity                 -0.138729\n",
            "precip                   -0.301567\n",
            "precipprob               -0.211071\n",
            "precipcover              -0.466826\n",
            "snow                     -0.150235\n",
            "snowdepth                -0.547502\n",
            "windspeed                -0.775539\n",
            "winddir                   0.184385\n",
            "sealevelpressure         -0.204682\n",
            "cloudcover                0.210471\n",
            "visibility               -0.238928\n",
            "solarradiation            0.468887\n",
            "solarenergy               0.889451\n",
            "uvindex                   0.880498\n",
            "moonphase                 0.642294\n",
            "icon_partly-cloudy-day    0.372320\n",
            "icon_rain                -0.209083\n",
            "icon_snow                -0.116968\n",
            "icon_wind                 0.000000\n",
            "dtype: float64\n"
          ]
        }
      ],
      "source": [
        "# with the best alpha\n",
        "ridge.set_params(alpha=ridgecv.alpha_)\n",
        "ridge.fit(scale(X_train), y_train)\n",
        "print('The coefficients are:')\n",
        "print(pd.Series(ridge.coef_.flatten(), index=X_train.columns))"
      ]
    },
    {
      "cell_type": "code",
      "execution_count": null,
      "id": "52deb7fc",
      "metadata": {
        "id": "52deb7fc",
        "outputId": "fe0fc954-d08d-4274-f98b-1cfd1a7a7dd0"
      },
      "outputs": [
        {
          "name": "stdout",
          "output_type": "stream",
          "text": [
            "MSE is after alpha tuning 30.691\n"
          ]
        }
      ],
      "source": [
        "y_pred=ridge.predict(scaler.transform(X_test.values))\n",
        "mse = round(mean_squared_error(y_test, y_pred),3)\n",
        "print(f\"MSE is after alpha tuning {mse}\")"
      ]
    },
    {
      "cell_type": "code",
      "execution_count": null,
      "id": "05654292",
      "metadata": {
        "id": "05654292",
        "outputId": "fd173c8f-ade6-48cb-c1b4-fe18cac9870a"
      },
      "outputs": [
        {
          "name": "stdout",
          "output_type": "stream",
          "text": [
            "Predicted Pick up at 21st St & Pennsylvania Ave NW is [12.82608696]\n",
            "----------------------------------\n"
          ]
        }
      ],
      "source": [
        "y_pred_ = ridge.predict(scale(X_test.iloc[[0]]))\n",
        "print(f\"Predicted Pick up at 21st St & Pennsylvania Ave NW is {y_pred_}\")\n",
        "print('----------------------------------')"
      ]
    },
    {
      "cell_type": "markdown",
      "id": "08985891",
      "metadata": {
        "id": "08985891"
      },
      "source": [
        "## Elastic Net"
      ]
    },
    {
      "cell_type": "code",
      "execution_count": null,
      "id": "850a228a",
      "metadata": {
        "id": "850a228a",
        "outputId": "31fe1488-90f5-4998-ffef-8cd0e7cb8532"
      },
      "outputs": [
        {
          "name": "stdout",
          "output_type": "stream",
          "text": [
            "The best alpha from ElasticNetCV: 0.8423899729961684\n"
          ]
        }
      ],
      "source": [
        "#Elastic Net\n",
        "\n",
        "from sklearn.linear_model import ElasticNet\n",
        "from sklearn.linear_model import ElasticNetCV\n",
        "\n",
        "ENcv = ElasticNetCV(alphas=None, cv=10, max_iter=10000) # default l1_ratio=0.5\n",
        "ENcv.fit(scale(X_train), y_train)\n",
        "\n",
        "print('The best alpha from ElasticNetCV:', ENcv.alpha_)"
      ]
    },
    {
      "cell_type": "code",
      "execution_count": null,
      "id": "0ae70069",
      "metadata": {
        "id": "0ae70069"
      },
      "outputs": [],
      "source": [
        "EN=ElasticNet()"
      ]
    },
    {
      "cell_type": "code",
      "execution_count": null,
      "id": "b9c8b9f4",
      "metadata": {
        "id": "b9c8b9f4",
        "outputId": "10495875-d765-4957-db93-89f6f694e555"
      },
      "outputs": [
        {
          "name": "stdout",
          "output_type": "stream",
          "text": [
            "The coefficients are:\n",
            "tempmax                   0.861469\n",
            "tempmin                   0.266375\n",
            "temp                      0.704586\n",
            "feelslikemax              0.806870\n",
            "feelslikemin              0.424762\n",
            "feelslike                 0.764944\n",
            "dew                       0.194916\n",
            "humidity                 -0.000000\n",
            "precip                   -0.090745\n",
            "precipprob               -0.000000\n",
            "precipcover              -0.458301\n",
            "snow                     -0.000000\n",
            "snowdepth                -0.423528\n",
            "windspeed                -0.714385\n",
            "winddir                   0.000000\n",
            "sealevelpressure         -0.000000\n",
            "cloudcover                0.000000\n",
            "visibility               -0.000000\n",
            "solarradiation            0.167506\n",
            "solarenergy               1.101774\n",
            "uvindex                   1.032898\n",
            "moonphase                 0.610440\n",
            "icon_partly-cloudy-day    0.345409\n",
            "icon_rain                -0.000000\n",
            "icon_snow                -0.000000\n",
            "icon_wind                 0.000000\n",
            "dtype: float64\n"
          ]
        }
      ],
      "source": [
        "# with the best alpha\n",
        "EN.set_params(alpha=ENcv.alpha_)\n",
        "EN.fit(scale(X_train), y_train)\n",
        "\n",
        "\n",
        "EN=ElasticNet()\n",
        "\n",
        "EN.set_params(alpha=ENcv.alpha_)\n",
        "EN.fit(scale(X_train), y_train)\n",
        "\n",
        "print('The coefficients are:')\n",
        "print(pd.Series(EN.coef_.flatten(), index=X_train.columns))"
      ]
    },
    {
      "cell_type": "code",
      "execution_count": null,
      "id": "f13ce7df",
      "metadata": {
        "id": "f13ce7df",
        "outputId": "c57f0e8f-3c1c-404b-b368-e84f85bf9132"
      },
      "outputs": [
        {
          "data": {
            "image/png": "[encoded data removed]",
            "text/plain": [
              "<Figure size 432x288 with 1 Axes>"
            ]
          },
          "metadata": {
            "needs_background": "light"
          },
          "output_type": "display_data"
        }
      ],
      "source": [
        "import matplotlib.pyplot as plt\n",
        "\n",
        "# Fit ElasticNetCV\n",
        "ENcv = ElasticNetCV(alphas=None, cv=10, max_iter=10000)\n",
        "ENcv.fit(scale(X_train), y_train)\n",
        "\n",
        "# Plot MSE path\n",
        "mse_path = ENcv.mse_path_\n",
        "alphas = ENcv.alphas_\n",
        "plt.figure()\n",
        "plt.plot(alphas, mse_path, ':')\n",
        "plt.plot(alphas, mse_path.mean(axis=-1), 'k', label='Average across the folds', linewidth=2)\n",
        "plt.axvline(ENcv.alpha_, linestyle='--', color='k', label='Best alpha')\n",
        "plt.legend()\n",
        "plt.xlabel('alpha')\n",
        "plt.ylabel('Mean squared error')\n",
        "plt.title('Mean squared error on each fold: coordinate descent ')\n",
        "plt.show()"
      ]
    },
    {
      "cell_type": "code",
      "execution_count": null,
      "id": "5d872c28",
      "metadata": {
        "id": "5d872c28",
        "outputId": "082814f8-e7c1-43f7-dbfc-a47bf83b14ff"
      },
      "outputs": [
        {
          "name": "stdout",
          "output_type": "stream",
          "text": [
            "MSE is 28.391\n"
          ]
        }
      ],
      "source": [
        "from sklearn.metrics import mean_squared_error\n",
        "\n",
        "# Predict target variable on test set\n",
        "y_pred = EN.predict(scale(X_test.values))\n",
        "\n",
        "# Calculate MSE on test set\n",
        "mse = round(mean_squared_error(y_test, y_pred), 3)\n",
        "\n",
        "print(f\"MSE is {mse}\")"
      ]
    },
    {
      "cell_type": "code",
      "execution_count": null,
      "id": "a0d5769a",
      "metadata": {
        "id": "a0d5769a",
        "outputId": "b40b48f7-61f4-4b87-d731-5ea19fb11016"
      },
      "outputs": [
        {
          "name": "stdout",
          "output_type": "stream",
          "text": [
            "Predicted Pick up at 21st & I St NW is [12.82608696]\n",
            "----------------------------------\n"
          ]
        }
      ],
      "source": [
        "y_pred_ = EN.predict(scale(X_test.iloc[[0]]))\n",
        "print(f\"Predicted Pick up at 21st & I St NW is {y_pred_}\")\n",
        "print('----------------------------------')"
      ]
    },
    {
      "cell_type": "markdown",
      "id": "05aba562",
      "metadata": {
        "id": "05aba562"
      },
      "source": [
        "# KNN"
      ]
    },
    {
      "cell_type": "code",
      "execution_count": null,
      "id": "3db43b30",
      "metadata": {
        "id": "3db43b30",
        "outputId": "ac4b50bb-6e12-4c10-feca-4c376987bbf3"
      },
      "outputs": [
        {
          "data": {
            "text/html": [
              "<style>#sk-container-id-1 {color: black;background-color: white;}#sk-container-id-1 pre{padding: 0;}#sk-container-id-1 div.sk-toggleable {background-color: white;}#sk-container-id-1 label.sk-toggleable__label {cursor: pointer;display: block;width: 100%;margin-bottom: 0;padding: 0.3em;box-sizing: border-box;text-align: center;}#sk-container-id-1 label.sk-toggleable__label-arrow:before {content: \"▸\";float: left;margin-right: 0.25em;color: #696969;}#sk-container-id-1 label.sk-toggleable__label-arrow:hover:before {color: black;}#sk-container-id-1 div.sk-estimator:hover label.sk-toggleable__label-arrow:before {color: black;}#sk-container-id-1 div.sk-toggleable__content {max-height: 0;max-width: 0;overflow: hidden;text-align: left;background-color: #f0f8ff;}#sk-container-id-1 div.sk-toggleable__content pre {margin: 0.2em;color: black;border-radius: 0.25em;background-color: #f0f8ff;}#sk-container-id-1 input.sk-toggleable__control:checked~div.sk-toggleable__content {max-height: 200px;max-width: 100%;overflow: auto;}#sk-container-id-1 input.sk-toggleable__control:checked~label.sk-toggleable__label-arrow:before {content: \"▾\";}#sk-container-id-1 div.sk-estimator input.sk-toggleable__control:checked~label.sk-toggleable__label {background-color: #d4ebff;}#sk-container-id-1 div.sk-label input.sk-toggleable__control:checked~label.sk-toggleable__label {background-color: #d4ebff;}#sk-container-id-1 input.sk-hidden--visually {border: 0;clip: rect(1px 1px 1px 1px);clip: rect(1px, 1px, 1px, 1px);height: 1px;margin: -1px;overflow: hidden;padding: 0;position: absolute;width: 1px;}#sk-container-id-1 div.sk-estimator {font-family: monospace;background-color: #f0f8ff;border: 1px dotted black;border-radius: 0.25em;box-sizing: border-box;margin-bottom: 0.5em;}#sk-container-id-1 div.sk-estimator:hover {background-color: #d4ebff;}#sk-container-id-1 div.sk-parallel-item::after {content: \"\";width: 100%;border-bottom: 1px solid gray;flex-grow: 1;}#sk-container-id-1 div.sk-label:hover label.sk-toggleable__label {background-color: #d4ebff;}#sk-container-id-1 div.sk-serial::before {content: \"\";position: absolute;border-left: 1px solid gray;box-sizing: border-box;top: 0;bottom: 0;left: 50%;z-index: 0;}#sk-container-id-1 div.sk-serial {display: flex;flex-direction: column;align-items: center;background-color: white;padding-right: 0.2em;padding-left: 0.2em;position: relative;}#sk-container-id-1 div.sk-item {position: relative;z-index: 1;}#sk-container-id-1 div.sk-parallel {display: flex;align-items: stretch;justify-content: center;background-color: white;position: relative;}#sk-container-id-1 div.sk-item::before, #sk-container-id-1 div.sk-parallel-item::before {content: \"\";position: absolute;border-left: 1px solid gray;box-sizing: border-box;top: 0;bottom: 0;left: 50%;z-index: -1;}#sk-container-id-1 div.sk-parallel-item {display: flex;flex-direction: column;z-index: 1;position: relative;background-color: white;}#sk-container-id-1 div.sk-parallel-item:first-child::after {align-self: flex-end;width: 50%;}#sk-container-id-1 div.sk-parallel-item:last-child::after {align-self: flex-start;width: 50%;}#sk-container-id-1 div.sk-parallel-item:only-child::after {width: 0;}#sk-container-id-1 div.sk-dashed-wrapped {border: 1px dashed gray;margin: 0 0.4em 0.5em 0.4em;box-sizing: border-box;padding-bottom: 0.4em;background-color: white;}#sk-container-id-1 div.sk-label label {font-family: monospace;font-weight: bold;display: inline-block;line-height: 1.2em;}#sk-container-id-1 div.sk-label-container {text-align: center;}#sk-container-id-1 div.sk-container {/* jupyter's `normalize.less` sets `[hidden] { display: none; }` but bootstrap.min.css set `[hidden] { display: none !important; }` so we also need the `!important` here to be able to override the default hidden behavior on the sphinx rendered scikit-learn.org. See: https://github.com/scikit-learn/scikit-learn/issues/21755 */display: inline-block !important;position: relative;}#sk-container-id-1 div.sk-text-repr-fallback {display: none;}</style><div id=\"sk-container-id-1\" class=\"sk-top-container\"><div class=\"sk-text-repr-fallback\"><pre>KNeighborsRegressor()</pre><b>In a Jupyter environment, please rerun this cell to show the HTML representation or trust the notebook. <br />On GitHub, the HTML representation is unable to render, please try loading this page with nbviewer.org.</b></div><div class=\"sk-container\" hidden><div class=\"sk-item\"><div class=\"sk-estimator sk-toggleable\"><input class=\"sk-toggleable__control sk-hidden--visually\" id=\"sk-estimator-id-1\" type=\"checkbox\" checked><label for=\"sk-estimator-id-1\" class=\"sk-toggleable__label sk-toggleable__label-arrow\">KNeighborsRegressor</label><div class=\"sk-toggleable__content\"><pre>KNeighborsRegressor()</pre></div></div></div></div></div>"
            ],
            "text/plain": [
              "KNeighborsRegressor()"
            ]
          },
          "execution_count": 77,
          "metadata": {},
          "output_type": "execute_result"
        }
      ],
      "source": [
        "from sklearn.neighbors import KNeighborsRegressor\n",
        "from sklearn.metrics import mean_squared_error\n",
        "\n",
        "# Create and fit the KNN model for k=5\n",
        "k = 5\n",
        "knn = KNeighborsRegressor(n_neighbors=k)\n",
        "knn.fit(X_train, y_train)"
      ]
    },
    {
      "cell_type": "code",
      "execution_count": null,
      "id": "33107371",
      "metadata": {
        "id": "33107371",
        "outputId": "63a8cecd-d7f9-4d54-a927-33847f00a8ab"
      },
      "outputs": [
        {
          "name": "stdout",
          "output_type": "stream",
          "text": [
            "MSE for KNN: 44.659\n"
          ]
        }
      ],
      "source": [
        "y_pred = knn.predict(X_test)\n",
        "mse = round(mean_squared_error(y_test, y_pred), 3)\n",
        "print(f\"MSE for KNN: {mse}\")"
      ]
    },
    {
      "cell_type": "code",
      "execution_count": null,
      "id": "314080bf",
      "metadata": {
        "id": "314080bf",
        "outputId": "b6d7f962-eddb-4ab9-a5d1-0e349d142590"
      },
      "outputs": [
        {
          "name": "stdout",
          "output_type": "stream",
          "text": [
            "Predicted Pick up at H street is [7.2]\n"
          ]
        }
      ],
      "source": [
        "pu_pred_Hst = knn.predict((X_test.iloc[[0]]))\n",
        "print(f\"Predicted Pick up at H street is {pu_pred_Hst}\")"
      ]
    },
    {
      "cell_type": "markdown",
      "id": "588a9aad",
      "metadata": {
        "id": "588a9aad"
      },
      "source": [
        "# Demo: train linear models for dropoff"
      ]
    },
    {
      "cell_type": "code",
      "execution_count": null,
      "id": "c0828649",
      "metadata": {
        "id": "c0828649",
        "outputId": "7ad965bb-a40f-4c30-97b2-06469d32f483"
      },
      "outputs": [
        {
          "name": "stdout",
          "output_type": "stream",
          "text": [
            "<class 'pandas.core.frame.DataFrame'>\n",
            "RangeIndex: 119 entries, 0 to 118\n",
            "Data columns (total 26 columns):\n",
            " #   Column                  Non-Null Count  Dtype  \n",
            "---  ------                  --------------  -----  \n",
            " 0   tempmax                 119 non-null    float64\n",
            " 1   tempmin                 119 non-null    float64\n",
            " 2   temp                    119 non-null    float64\n",
            " 3   feelslikemax            119 non-null    float64\n",
            " 4   feelslikemin            119 non-null    float64\n",
            " 5   feelslike               119 non-null    float64\n",
            " 6   dew                     119 non-null    float64\n",
            " 7   humidity                119 non-null    float64\n",
            " 8   precip                  119 non-null    float64\n",
            " 9   precipprob              119 non-null    int64  \n",
            " 10  precipcover             119 non-null    float64\n",
            " 11  snow                    119 non-null    float64\n",
            " 12  snowdepth               119 non-null    float64\n",
            " 13  windspeed               119 non-null    float64\n",
            " 14  winddir                 119 non-null    float64\n",
            " 15  sealevelpressure        119 non-null    float64\n",
            " 16  cloudcover              119 non-null    float64\n",
            " 17  visibility              119 non-null    float64\n",
            " 18  solarradiation          119 non-null    float64\n",
            " 19  solarenergy             119 non-null    float64\n",
            " 20  uvindex                 119 non-null    int64  \n",
            " 21  moonphase               119 non-null    float64\n",
            " 22  icon_partly-cloudy-day  119 non-null    bool   \n",
            " 23  icon_rain               119 non-null    bool   \n",
            " 24  icon_snow               119 non-null    bool   \n",
            " 25  icon_wind               119 non-null    bool   \n",
            "dtypes: bool(4), float64(20), int64(2)\n",
            "memory usage: 21.0 KB\n"
          ]
        }
      ],
      "source": [
        "# dropoff\n",
        "df_m_do \n",
        "y = df_m_do['do_ct']\n",
        "X = df_m_do.drop('do_ct',axis=1)\n",
        "X = pd.get_dummies(data=X, drop_first=True)\n",
        "X.info()"
      ]
    },
    {
      "cell_type": "code",
      "execution_count": null,
      "id": "0519bbe5",
      "metadata": {
        "id": "0519bbe5"
      },
      "outputs": [],
      "source": [
        "X_train,X_test, y_train,y_test = train_test_split(X,y, test_size=0.4, random_state = 200)"
      ]
    },
    {
      "cell_type": "markdown",
      "id": "cbefb488",
      "metadata": {
        "id": "cbefb488"
      },
      "source": [
        "## Linear Regression"
      ]
    },
    {
      "cell_type": "code",
      "execution_count": null,
      "id": "087e30ef",
      "metadata": {
        "id": "087e30ef"
      },
      "outputs": [],
      "source": [
        "linear_regressor = LinearRegression()\n",
        "linear_regressor.fit(X_train, y_train) \n",
        "y_pred = linear_regressor.predict(X_test)"
      ]
    },
    {
      "cell_type": "code",
      "execution_count": null,
      "id": "c51848a6",
      "metadata": {
        "id": "c51848a6",
        "outputId": "0ec8cdfc-2d0d-44d6-bc46-5e0a6f403a8a"
      },
      "outputs": [
        {
          "name": "stdout",
          "output_type": "stream",
          "text": [
            "tempmax                    0.961719\n",
            "tempmin                    1.469004\n",
            "temp                      -5.040983\n",
            "feelslikemax              -0.695351\n",
            "feelslikemin              -0.791879\n",
            "feelslike                  2.046496\n",
            "dew                        2.516393\n",
            "humidity                  -1.142848\n",
            "precip                    15.216122\n",
            "precipprob                 0.106878\n",
            "precipcover               -0.173749\n",
            "snow                      -1.289838\n",
            "snowdepth                  1.328512\n",
            "windspeed                 -0.547111\n",
            "winddir                    0.012148\n",
            "sealevelpressure           0.118925\n",
            "cloudcover                -0.016294\n",
            "visibility                 0.228567\n",
            "solarradiation            -0.140639\n",
            "solarenergy                2.551903\n",
            "uvindex                    0.262377\n",
            "moonphase                  0.094145\n",
            "icon_partly-cloudy-day    -1.357301\n",
            "icon_rain                 -8.124269\n",
            "icon_snow                 -4.239596\n",
            "icon_wind                 13.721166\n",
            "dtype: float64\n"
          ]
        }
      ],
      "source": [
        "print(pd.Series(linear_regressor.coef_.flatten(), index=X_train.columns))"
      ]
    },
    {
      "cell_type": "code",
      "execution_count": null,
      "id": "6abff7a2",
      "metadata": {
        "id": "6abff7a2",
        "outputId": "20ea8b77-02c3-4824-cc97-0030981467a2"
      },
      "outputs": [
        {
          "name": "stdout",
          "output_type": "stream",
          "text": [
            "MSE is 55.297\n"
          ]
        }
      ],
      "source": [
        "mse = round(mean_squared_error(y_test, y_pred),3)\n",
        "print(f\"MSE is {mse}\")"
      ]
    },
    {
      "cell_type": "code",
      "execution_count": null,
      "id": "49dd7e7c",
      "metadata": {
        "id": "49dd7e7c",
        "outputId": "38e7ff03-30c7-4b62-92fc-452ce7007254"
      },
      "outputs": [
        {
          "name": "stdout",
          "output_type": "stream",
          "text": [
            "Predicted Pick up at H street is [15.36954248]\n"
          ]
        }
      ],
      "source": [
        "pu_pred_Hst = linear_regressor.predict((X_test.iloc[[0]]))\n",
        "print(f\"Predicted Pick up at H street is {pu_pred_Hst}\")"
      ]
    },
    {
      "cell_type": "markdown",
      "id": "c0d36dfc",
      "metadata": {
        "id": "c0d36dfc"
      },
      "source": [
        "## LASSO"
      ]
    },
    {
      "cell_type": "code",
      "execution_count": null,
      "id": "33e84ed6",
      "metadata": {
        "id": "33e84ed6",
        "outputId": "8ac7867a-5aeb-477b-ddad-1a9158655485"
      },
      "outputs": [
        {
          "data": {
            "image/png": "[encoded data removed]",
            "text/plain": [
              "<Figure size 432x288 with 1 Axes>"
            ]
          },
          "metadata": {
            "needs_background": "light"
          },
          "output_type": "display_data"
        }
      ],
      "source": [
        "alphas = 10**np.linspace(-2,2,100)\n",
        "\n",
        "lasso = Lasso()\n",
        "coefs = []\n",
        "\n",
        "for a in alphas:\n",
        "    lasso.set_params(alpha=a, max_iter=10000) # increase iterations for optimization of coefficients\n",
        "    lasso.fit(scale(X_train), y_train)\n",
        "    coefs.append(lasso.coef_)\n",
        "\n",
        "ax = plt.gca()\n",
        "ax.plot(alphas, coefs)\n",
        "ax.set_xscale('log')\n",
        "ax.set_xlim(ax.get_xlim())  \n",
        "plt.axis('tight')\n",
        "plt.xlabel('alpha')\n",
        "plt.ylabel('Coefficients')\n",
        "# plt.legend(list(X_train.columns), loc='best')\n",
        "\n",
        "plt.title('Lasso coefficients as a function of the regularization');"
      ]
    },
    {
      "cell_type": "code",
      "execution_count": null,
      "id": "23053991",
      "metadata": {
        "id": "23053991",
        "outputId": "6dc179fe-5358-4cb1-9fba-82db5d8a0d60"
      },
      "outputs": [
        {
          "name": "stdout",
          "output_type": "stream",
          "text": [
            "The best alpha from LassoCV: 1.0476157527896652\n"
          ]
        }
      ],
      "source": [
        "# find the best alpha via CV with selected scoring metric\n",
        "lassocv2 = LassoCV(alphas=alphas, max_iter=10000)\n",
        "lassocv2.fit(scale(X_train), y_train)\n",
        "\n",
        "print('The best alpha from LassoCV:', lassocv2.alpha_)"
      ]
    },
    {
      "cell_type": "code",
      "execution_count": null,
      "id": "6c76d077",
      "metadata": {
        "id": "6c76d077",
        "outputId": "f832b56a-7f10-4503-f9b5-3358a6b7ce8c"
      },
      "outputs": [
        {
          "name": "stdout",
          "output_type": "stream",
          "text": [
            "The coefficients are:\n",
            "tempmax                   0.000000\n",
            "tempmin                   0.000000\n",
            "temp                      0.000000\n",
            "feelslikemax              0.000000\n",
            "feelslikemin              0.327060\n",
            "feelslike                 3.599647\n",
            "dew                       0.000000\n",
            "humidity                 -0.000000\n",
            "precip                    0.000000\n",
            "precipprob               -0.000000\n",
            "precipcover              -0.000000\n",
            "snow                     -0.000000\n",
            "snowdepth                -0.807590\n",
            "windspeed                -0.205237\n",
            "winddir                  -0.000000\n",
            "sealevelpressure         -0.000000\n",
            "cloudcover                0.000000\n",
            "visibility               -0.000000\n",
            "solarradiation            0.000000\n",
            "solarenergy               3.418568\n",
            "uvindex                   0.000000\n",
            "moonphase                 0.000000\n",
            "icon_partly-cloudy-day    0.000000\n",
            "icon_rain                -0.000000\n",
            "icon_snow                -0.000000\n",
            "icon_wind                 0.000000\n",
            "dtype: float64\n"
          ]
        }
      ],
      "source": [
        "# with the best alpha\n",
        "lasso.set_params(alpha=lassocv2.alpha_)\n",
        "lasso.fit(scale(X_train), y_train)\n",
        "print('The coefficients are:')\n",
        "print(pd.Series(lasso.coef_.flatten(), index=X_train.columns))"
      ]
    },
    {
      "cell_type": "code",
      "execution_count": null,
      "id": "f2f5adc4",
      "metadata": {
        "id": "f2f5adc4",
        "outputId": "9cc07745-85f5-47ad-9d1b-d8e1c6ba3cf3"
      },
      "outputs": [
        {
          "data": {
            "image/png": "[encoded data removed]",
            "text/plain": [
              "<Figure size 432x288 with 1 Axes>"
            ]
          },
          "metadata": {
            "needs_background": "light"
          },
          "output_type": "display_data"
        }
      ],
      "source": [
        "plt.semilogx(lassocv2.alphas_, lassocv2.mse_path_, linestyle=\":\")\n",
        "plt.plot(\n",
        "    lassocv2.alphas_,\n",
        "    lassocv2.mse_path_.mean(axis=-1),\n",
        "    color=\"black\",\n",
        "    label=\"Average across the folds\",\n",
        "    linewidth=2,\n",
        ")\n",
        "plt.axvline(lassocv2.alpha_, linestyle=\"--\", color=\"black\", label=\"alpha: CV estimate\")\n",
        "\n",
        "\n",
        "plt.xlabel(r\"$\\alpha$\")\n",
        "plt.ylabel(\"Mean square error\")\n",
        "plt.legend()\n",
        "plt.title(\"MSE\")\n",
        "plt.show()"
      ]
    },
    {
      "cell_type": "code",
      "execution_count": null,
      "id": "309095da",
      "metadata": {
        "id": "309095da",
        "outputId": "add7278f-152b-49b8-e5b4-03558fe705a8"
      },
      "outputs": [
        {
          "name": "stdout",
          "output_type": "stream",
          "text": [
            "MSE is 44.019\n"
          ]
        }
      ],
      "source": [
        "y_pred=lasso.predict(scale(X_test.values))\n",
        "mse = round(mean_squared_error(y_test, y_pred),3)\n",
        "print(f\"MSE is {mse}\")"
      ]
    },
    {
      "cell_type": "code",
      "execution_count": null,
      "id": "efeb15a9",
      "metadata": {
        "id": "efeb15a9",
        "outputId": "6c4dcace-9dc1-4a0e-80c8-f26d903ec997"
      },
      "outputs": [
        {
          "name": "stdout",
          "output_type": "stream",
          "text": [
            "Predicted Pick up at 21st St & Pennsylvania Ave NW is [17.32394366]\n",
            "----------------------------------\n"
          ]
        }
      ],
      "source": [
        "y_pred_ = lasso.predict(scale(X_test.iloc[[0]]))\n",
        "print(f\"Predicted Pick up at 21st St & Pennsylvania Ave NW is {y_pred_}\")\n",
        "print('----------------------------------')"
      ]
    },
    {
      "cell_type": "markdown",
      "id": "ad9bb978",
      "metadata": {
        "id": "ad9bb978"
      },
      "source": [
        "## Ridge Regression"
      ]
    },
    {
      "cell_type": "code",
      "execution_count": null,
      "id": "e33ffd8e",
      "metadata": {
        "id": "e33ffd8e"
      },
      "outputs": [],
      "source": [
        "# standardize the features\n",
        "from sklearn.preprocessing import StandardScaler\n",
        "\n",
        "scaler2 = StandardScaler().fit(X_train)"
      ]
    },
    {
      "cell_type": "code",
      "execution_count": null,
      "id": "b65b21fe",
      "metadata": {
        "id": "b65b21fe",
        "outputId": "6a27483f-d6e9-4003-b240-6f0348a83295"
      },
      "outputs": [
        {
          "name": "stdout",
          "output_type": "stream",
          "text": [
            "The coefficients are:\n",
            "tempmax                   0.295143\n",
            "tempmin                   0.262055\n",
            "temp                      0.279468\n",
            "feelslikemax              0.297632\n",
            "feelslikemin              0.265070\n",
            "feelslike                 0.286310\n",
            "dew                       0.200909\n",
            "humidity                 -0.069020\n",
            "precip                   -0.011522\n",
            "precipprob               -0.078239\n",
            "precipcover              -0.098449\n",
            "snow                     -0.141635\n",
            "snowdepth                -0.199560\n",
            "windspeed                -0.105978\n",
            "winddir                  -0.032831\n",
            "sealevelpressure         -0.020416\n",
            "cloudcover               -0.033252\n",
            "visibility                0.050916\n",
            "solarradiation            0.205365\n",
            "solarenergy               0.296557\n",
            "uvindex                   0.270233\n",
            "moonphase                 0.036803\n",
            "icon_partly-cloudy-day    0.127306\n",
            "icon_rain                -0.019229\n",
            "icon_snow                -0.166372\n",
            "icon_wind                 0.020344\n",
            "dtype: float64\n"
          ]
        }
      ],
      "source": [
        "# set a large alpha to get smaller coefficients\n",
        "ridge2 = Ridge(alpha=1000)\n",
        "ridge2.fit(scaler2.transform(X_train), y_train)\n",
        "\n",
        "print('The coefficients are:')\n",
        "print(pd.Series(ridge2.coef_.flatten(), index=X_train.columns))"
      ]
    },
    {
      "cell_type": "code",
      "execution_count": null,
      "id": "60587341",
      "metadata": {
        "id": "60587341",
        "outputId": "7c110279-9454-48c3-cfab-e03c4f4d2933"
      },
      "outputs": [
        {
          "name": "stdout",
          "output_type": "stream",
          "text": [
            "The best alpha from RidgeCV: 91.11627561154896\n"
          ]
        }
      ],
      "source": [
        "# find the best alpha via CV with selected scoring metric\n",
        "ridgecv2 = RidgeCV(alphas=alphas, scoring='neg_mean_squared_error')\n",
        "ridgecv2.fit(scale(X_train), y_train)\n",
        "\n",
        "print('The best alpha from RidgeCV:', ridgecv2.alpha_)"
      ]
    },
    {
      "cell_type": "code",
      "execution_count": null,
      "id": "37c18044",
      "metadata": {
        "id": "37c18044",
        "outputId": "1a37485c-7c85-4fe5-eabc-a2b5c2e12761"
      },
      "outputs": [
        {
          "name": "stdout",
          "output_type": "stream",
          "text": [
            "The coefficients are:\n",
            "tempmax                   0.688827\n",
            "tempmin                   0.661080\n",
            "temp                      0.628574\n",
            "feelslikemax              0.707139\n",
            "feelslikemin              0.645375\n",
            "feelslike                 0.690052\n",
            "dew                       0.421286\n",
            "humidity                 -0.264895\n",
            "precip                    0.363174\n",
            "precipprob               -0.148959\n",
            "precipcover              -0.253318\n",
            "snow                     -0.252407\n",
            "snowdepth                -0.790958\n",
            "windspeed                -0.592003\n",
            "winddir                  -0.241460\n",
            "sealevelpressure          0.003398\n",
            "cloudcover                0.024008\n",
            "visibility                0.043181\n",
            "solarradiation            0.591483\n",
            "solarenergy               1.072380\n",
            "uvindex                   0.979593\n",
            "moonphase                 0.099427\n",
            "icon_partly-cloudy-day    0.226299\n",
            "icon_rain                -0.111539\n",
            "icon_snow                -0.248384\n",
            "icon_wind                 0.170422\n",
            "dtype: float64\n"
          ]
        }
      ],
      "source": [
        "# with the best alpha\n",
        "ridge2.set_params(alpha=ridgecv2.alpha_)\n",
        "ridge2.fit(scale(X_train), y_train)\n",
        "print('The coefficients are:')\n",
        "print(pd.Series(ridge2.coef_.flatten(), index=X_train.columns))"
      ]
    },
    {
      "cell_type": "code",
      "execution_count": null,
      "id": "ff269bad",
      "metadata": {
        "id": "ff269bad",
        "outputId": "4e8ebe93-1dde-4117-f662-797518943051"
      },
      "outputs": [
        {
          "name": "stdout",
          "output_type": "stream",
          "text": [
            "MSE after alpha tuning 40.267\n"
          ]
        }
      ],
      "source": [
        "y_pred=ridge2.predict(scaler2.transform(X_test.values))\n",
        "mse = round(mean_squared_error(y_test, y_pred),3)\n",
        "print(f\"MSE after alpha tuning {mse}\")"
      ]
    },
    {
      "cell_type": "code",
      "execution_count": null,
      "id": "fe0011f0",
      "metadata": {
        "id": "fe0011f0",
        "outputId": "cf3c2d8c-dccb-489a-f400-d7ca6e0ed2f4"
      },
      "outputs": [
        {
          "name": "stdout",
          "output_type": "stream",
          "text": [
            "Predicted Pick up at 21st St & Pennsylvania Ave NW is [17.32394366]\n",
            "----------------------------------\n"
          ]
        }
      ],
      "source": [
        "y_pred_ = ridge2.predict(scale(X_test.iloc[[0]]))\n",
        "print(f\"Predicted Pick up at 21st St & Pennsylvania Ave NW is {y_pred_}\")\n",
        "print('----------------------------------')"
      ]
    },
    {
      "cell_type": "markdown",
      "id": "8fc3fae0",
      "metadata": {
        "id": "8fc3fae0"
      },
      "source": [
        "## Elastic Net\n"
      ]
    },
    {
      "cell_type": "code",
      "execution_count": null,
      "id": "87b1294d",
      "metadata": {
        "id": "87b1294d",
        "outputId": "d49c7217-86af-4cc4-a40f-4dba4e2992cd"
      },
      "outputs": [
        {
          "name": "stdout",
          "output_type": "stream",
          "text": [
            "The best alpha from ElasticNetCV: 1.0416537784732232\n"
          ]
        }
      ],
      "source": [
        "#Elastic Net\n",
        "\n",
        "from sklearn.linear_model import ElasticNet\n",
        "from sklearn.linear_model import ElasticNetCV\n",
        "\n",
        "ENcv = ElasticNetCV(alphas=None, cv=10, max_iter=10000) # default l1_ratio=0.5\n",
        "ENcv.fit(scale(X_train), y_train)\n",
        "\n",
        "print('The best alpha from ElasticNetCV:', ENcv.alpha_)"
      ]
    },
    {
      "cell_type": "code",
      "execution_count": null,
      "id": "2dbd207f",
      "metadata": {
        "id": "2dbd207f",
        "outputId": "726bc25f-d8bc-4559-9952-fd659a2f7e4b"
      },
      "outputs": [
        {
          "name": "stdout",
          "output_type": "stream",
          "text": [
            "The coefficients are:\n",
            "tempmax                   0.714861\n",
            "tempmin                   0.676185\n",
            "temp                      0.602646\n",
            "feelslikemax              0.751377\n",
            "feelslikemin              0.674009\n",
            "feelslike                 0.755253\n",
            "dew                       0.100810\n",
            "humidity                 -0.000000\n",
            "precip                    0.000000\n",
            "precipprob               -0.000000\n",
            "precipcover              -0.000000\n",
            "snow                     -0.024925\n",
            "snowdepth                -0.980634\n",
            "windspeed                -0.611327\n",
            "winddir                  -0.033402\n",
            "sealevelpressure         -0.000000\n",
            "cloudcover                0.000000\n",
            "visibility                0.000000\n",
            "solarradiation            0.315626\n",
            "solarenergy               1.484841\n",
            "uvindex                   1.190868\n",
            "moonphase                 0.000000\n",
            "icon_partly-cloudy-day    0.106373\n",
            "icon_rain                -0.000000\n",
            "icon_snow                -0.068391\n",
            "icon_wind                 0.000000\n",
            "dtype: float64\n"
          ]
        }
      ],
      "source": [
        "# with the best alpha\n",
        "EN.set_params(alpha=ENcv.alpha_)\n",
        "EN.fit(scale(X_train), y_train)\n",
        "\n",
        "\n",
        "EN=ElasticNet()\n",
        "EN.set_params(alpha=ENcv.alpha_)\n",
        "EN.fit(scale(X_train), y_train)\n",
        "\n",
        "print('The coefficients are:')\n",
        "print(pd.Series(EN.coef_.flatten(), index=X_train.columns))"
      ]
    },
    {
      "cell_type": "code",
      "execution_count": null,
      "id": "3406611c",
      "metadata": {
        "id": "3406611c",
        "outputId": "2cba701f-fae0-46e2-ff22-2d08ef726ff1"
      },
      "outputs": [
        {
          "data": {
            "image/png": "[encoded data removed]",
            "text/plain": [
              "<Figure size 432x288 with 1 Axes>"
            ]
          },
          "metadata": {
            "needs_background": "light"
          },
          "output_type": "display_data"
        }
      ],
      "source": [
        "import matplotlib.pyplot as plt\n",
        "\n",
        "# Fit ElasticNetCV\n",
        "ENcv = ElasticNetCV(alphas=None, cv=10, max_iter=10000)\n",
        "ENcv.fit(scale(X_train), y_train)\n",
        "\n",
        "# Plot MSE path\n",
        "mse_path = ENcv.mse_path_\n",
        "alphas = ENcv.alphas_\n",
        "plt.figure()\n",
        "plt.plot(alphas, mse_path, ':')\n",
        "plt.plot(alphas, mse_path.mean(axis=-1), 'k', label='Average across the folds', linewidth=2)\n",
        "plt.axvline(ENcv.alpha_, linestyle='--', color='k', label='Best alpha')\n",
        "plt.legend()\n",
        "plt.xlabel('alpha')\n",
        "plt.ylabel('Mean squared error')\n",
        "plt.title('Mean squared error on each fold: coordinate descent ')\n",
        "plt.show()"
      ]
    },
    {
      "cell_type": "code",
      "execution_count": null,
      "id": "96338adf",
      "metadata": {
        "id": "96338adf",
        "outputId": "24bb87f4-eeec-44c4-f461-b1812893af11"
      },
      "outputs": [
        {
          "name": "stdout",
          "output_type": "stream",
          "text": [
            "MSE is 44.231\n"
          ]
        }
      ],
      "source": [
        "from sklearn.metrics import mean_squared_error\n",
        "\n",
        "# Predict target variable on test set\n",
        "y_pred = EN.predict(scale(X_test.values))\n",
        "\n",
        "# Calculate MSE on test set\n",
        "mse = round(mean_squared_error(y_test, y_pred), 3)\n",
        "\n",
        "print(f\"MSE is {mse}\")"
      ]
    },
    {
      "cell_type": "code",
      "execution_count": null,
      "id": "2e540515",
      "metadata": {
        "id": "2e540515",
        "outputId": "90fd36ba-36fa-46be-ab89-6aa344fb9af3"
      },
      "outputs": [
        {
          "name": "stdout",
          "output_type": "stream",
          "text": [
            "Predicted Pick up at 21st & I St NW is [17.32394366]\n",
            "----------------------------------\n"
          ]
        }
      ],
      "source": [
        "y_pred_ = EN.predict(scale(X_test.iloc[[0]]))\n",
        "print(f\"Predicted Pick up at 21st & I St NW is {y_pred_}\")\n",
        "print('----------------------------------')"
      ]
    },
    {
      "cell_type": "markdown",
      "id": "aa0d33a5",
      "metadata": {
        "id": "aa0d33a5"
      },
      "source": [
        "# KNN"
      ]
    },
    {
      "cell_type": "code",
      "execution_count": null,
      "id": "06a73fe2",
      "metadata": {
        "id": "06a73fe2",
        "outputId": "8a6f3c2f-4cea-445e-fa27-a4a55fe12f52"
      },
      "outputs": [
        {
          "data": {
            "text/html": [
              "<style>#sk-container-id-2 {color: black;background-color: white;}#sk-container-id-2 pre{padding: 0;}#sk-container-id-2 div.sk-toggleable {background-color: white;}#sk-container-id-2 label.sk-toggleable__label {cursor: pointer;display: block;width: 100%;margin-bottom: 0;padding: 0.3em;box-sizing: border-box;text-align: center;}#sk-container-id-2 label.sk-toggleable__label-arrow:before {content: \"▸\";float: left;margin-right: 0.25em;color: #696969;}#sk-container-id-2 label.sk-toggleable__label-arrow:hover:before {color: black;}#sk-container-id-2 div.sk-estimator:hover label.sk-toggleable__label-arrow:before {color: black;}#sk-container-id-2 div.sk-toggleable__content {max-height: 0;max-width: 0;overflow: hidden;text-align: left;background-color: #f0f8ff;}#sk-container-id-2 div.sk-toggleable__content pre {margin: 0.2em;color: black;border-radius: 0.25em;background-color: #f0f8ff;}#sk-container-id-2 input.sk-toggleable__control:checked~div.sk-toggleable__content {max-height: 200px;max-width: 100%;overflow: auto;}#sk-container-id-2 input.sk-toggleable__control:checked~label.sk-toggleable__label-arrow:before {content: \"▾\";}#sk-container-id-2 div.sk-estimator input.sk-toggleable__control:checked~label.sk-toggleable__label {background-color: #d4ebff;}#sk-container-id-2 div.sk-label input.sk-toggleable__control:checked~label.sk-toggleable__label {background-color: #d4ebff;}#sk-container-id-2 input.sk-hidden--visually {border: 0;clip: rect(1px 1px 1px 1px);clip: rect(1px, 1px, 1px, 1px);height: 1px;margin: -1px;overflow: hidden;padding: 0;position: absolute;width: 1px;}#sk-container-id-2 div.sk-estimator {font-family: monospace;background-color: #f0f8ff;border: 1px dotted black;border-radius: 0.25em;box-sizing: border-box;margin-bottom: 0.5em;}#sk-container-id-2 div.sk-estimator:hover {background-color: #d4ebff;}#sk-container-id-2 div.sk-parallel-item::after {content: \"\";width: 100%;border-bottom: 1px solid gray;flex-grow: 1;}#sk-container-id-2 div.sk-label:hover label.sk-toggleable__label {background-color: #d4ebff;}#sk-container-id-2 div.sk-serial::before {content: \"\";position: absolute;border-left: 1px solid gray;box-sizing: border-box;top: 0;bottom: 0;left: 50%;z-index: 0;}#sk-container-id-2 div.sk-serial {display: flex;flex-direction: column;align-items: center;background-color: white;padding-right: 0.2em;padding-left: 0.2em;position: relative;}#sk-container-id-2 div.sk-item {position: relative;z-index: 1;}#sk-container-id-2 div.sk-parallel {display: flex;align-items: stretch;justify-content: center;background-color: white;position: relative;}#sk-container-id-2 div.sk-item::before, #sk-container-id-2 div.sk-parallel-item::before {content: \"\";position: absolute;border-left: 1px solid gray;box-sizing: border-box;top: 0;bottom: 0;left: 50%;z-index: -1;}#sk-container-id-2 div.sk-parallel-item {display: flex;flex-direction: column;z-index: 1;position: relative;background-color: white;}#sk-container-id-2 div.sk-parallel-item:first-child::after {align-self: flex-end;width: 50%;}#sk-container-id-2 div.sk-parallel-item:last-child::after {align-self: flex-start;width: 50%;}#sk-container-id-2 div.sk-parallel-item:only-child::after {width: 0;}#sk-container-id-2 div.sk-dashed-wrapped {border: 1px dashed gray;margin: 0 0.4em 0.5em 0.4em;box-sizing: border-box;padding-bottom: 0.4em;background-color: white;}#sk-container-id-2 div.sk-label label {font-family: monospace;font-weight: bold;display: inline-block;line-height: 1.2em;}#sk-container-id-2 div.sk-label-container {text-align: center;}#sk-container-id-2 div.sk-container {/* jupyter's `normalize.less` sets `[hidden] { display: none; }` but bootstrap.min.css set `[hidden] { display: none !important; }` so we also need the `!important` here to be able to override the default hidden behavior on the sphinx rendered scikit-learn.org. See: https://github.com/scikit-learn/scikit-learn/issues/21755 */display: inline-block !important;position: relative;}#sk-container-id-2 div.sk-text-repr-fallback {display: none;}</style><div id=\"sk-container-id-2\" class=\"sk-top-container\"><div class=\"sk-text-repr-fallback\"><pre>KNeighborsRegressor()</pre><b>In a Jupyter environment, please rerun this cell to show the HTML representation or trust the notebook. <br />On GitHub, the HTML representation is unable to render, please try loading this page with nbviewer.org.</b></div><div class=\"sk-container\" hidden><div class=\"sk-item\"><div class=\"sk-estimator sk-toggleable\"><input class=\"sk-toggleable__control sk-hidden--visually\" id=\"sk-estimator-id-2\" type=\"checkbox\" checked><label for=\"sk-estimator-id-2\" class=\"sk-toggleable__label sk-toggleable__label-arrow\">KNeighborsRegressor</label><div class=\"sk-toggleable__content\"><pre>KNeighborsRegressor()</pre></div></div></div></div></div>"
            ],
            "text/plain": [
              "KNeighborsRegressor()"
            ]
          },
          "execution_count": 105,
          "metadata": {},
          "output_type": "execute_result"
        }
      ],
      "source": [
        "from sklearn.neighbors import KNeighborsRegressor\n",
        "from sklearn.metrics import mean_squared_error\n",
        "\n",
        "# Create and fit the KNN model for k=5\n",
        "k = 5\n",
        "knn2 = KNeighborsRegressor(n_neighbors=k)\n",
        "knn2.fit(X_train, y_train)"
      ]
    },
    {
      "cell_type": "code",
      "execution_count": null,
      "id": "2bf961c6",
      "metadata": {
        "id": "2bf961c6",
        "outputId": "b71498de-6ff0-4f5a-eef4-a9019f58f5f9"
      },
      "outputs": [
        {
          "name": "stdout",
          "output_type": "stream",
          "text": [
            "MSE for KNN: 60.203\n"
          ]
        }
      ],
      "source": [
        "y_pred = knn2.predict(X_test)\n",
        "mse = round(mean_squared_error(y_test, y_pred), 3)\n",
        "print(f\"MSE for KNN: {mse}\")"
      ]
    },
    {
      "cell_type": "code",
      "execution_count": null,
      "id": "391b4b2f",
      "metadata": {
        "id": "391b4b2f",
        "outputId": "ea95a8b7-6d51-44bd-8150-8494465cbf32"
      },
      "outputs": [
        {
          "name": "stdout",
          "output_type": "stream",
          "text": [
            "Predicted Pick up at H street is [20.8]\n"
          ]
        }
      ],
      "source": [
        "pu_pred_Hst = knn2.predict((X_test.iloc[[0]]))\n",
        "print(f\"Predicted Pick up at H street is {pu_pred_Hst}\")"
      ]
    },
    {
      "cell_type": "code",
      "execution_count": null,
      "id": "69707b96",
      "metadata": {
        "id": "69707b96"
      },
      "outputs": [],
      "source": []
    }
  ],
  "metadata": {
    "colab": {
      "provenance": [],
      "include_colab_link": true
    },
    "kernelspec": {
      "display_name": "Python 3 (ipykernel)",
      "language": "python",
      "name": "python3"
    },
    "language_info": {
      "codemirror_mode": {
        "name": "ipython",
        "version": 3
      },
      "file_extension": ".py",
      "mimetype": "text/x-python",
      "name": "python",
      "nbconvert_exporter": "python",
      "pygments_lexer": "ipython3",
      "version": "3.9.12"
    }
  },
  "nbformat": 4,
  "nbformat_minor": 5
}